{
 "cells": [
  {
   "cell_type": "markdown",
   "id": "b3fb80c3",
   "metadata": {},
   "source": [
    "# Python Assignment-1"
   ]
  },
  {
   "cell_type": "markdown",
   "id": "7c107cb7",
   "metadata": {},
   "source": [
    "### Q1.Explain with an example each when to use a for loop and a while loop."
   ]
  },
  {
   "cell_type": "markdown",
   "id": "09d21dac",
   "metadata": {},
   "source": [
    "**For Loop:**\n",
    "A for loop is typically used when we know the number of iterations in advance or when you want to iterate over a specific range.\n",
    "It's especially useful for tasks that involve iterating over a collection or performing a fixed number of iterations.\n",
    "\n",
    "for example , if we want to print the numbers from 1 to 5 using a for loop in Python:"
   ]
  },
  {
   "cell_type": "code",
   "execution_count": 37,
   "id": "af0539b6",
   "metadata": {},
   "outputs": [
    {
     "name": "stdout",
     "output_type": "stream",
     "text": [
      "1\n",
      "2\n",
      "3\n",
      "4\n",
      "5\n"
     ]
    }
   ],
   "source": [
    "for i in range(1, 6):\n",
    "    print(i)"
   ]
  },
  {
   "cell_type": "markdown",
   "id": "eba60cd7",
   "metadata": {},
   "source": [
    "In this example, the for loop iterates over the range from 1 to 6 (exclusive) and prints the value of i at each iteration.\n",
    "Since we know the number of iterations in advance (5 in this case), a for loop is an appropriate choice.\n",
    "\n",
    "**While Loop:**\n",
    "A while loop is useful when you want to repeat a block of code until a certain condition becomes false. It's often used when we \n",
    "don't know the exact number of iterations in advance or when the number of iterations depends on a dynamic condition.\n",
    "\n",
    "for example ,if we want to keep asking the user for input until they enter a specific keyword, such as \"quit\":"
   ]
  },
  {
   "cell_type": "code",
   "execution_count": 36,
   "id": "3c03db78",
   "metadata": {},
   "outputs": [
    {
     "name": "stdout",
     "output_type": "stream",
     "text": [
      "Enter a command (or 'quit' to exit): Hello\n",
      "Enter a command (or 'quit' to exit): Add the given number\n",
      "Enter a command (or 'quit' to exit): quit\n"
     ]
    }
   ],
   "source": [
    "user_input = ''\n",
    "while user_input != 'quit':\n",
    "    user_input = input(\"Enter a command (or 'quit' to exit): \")\n"
   ]
  },
  {
   "cell_type": "markdown",
   "id": "6e63d984",
   "metadata": {},
   "source": [
    "In this example, the while loop continues until the condition user_input != 'quit' becomes false. The loop keeps asking the \n",
    "user for input and processes it until they enter the keyword \"quit.\" Since the number of iterations depends on the user's \n",
    "actions, a while loop is a suitable choice."
   ]
  },
  {
   "cell_type": "markdown",
   "id": "f435bce3",
   "metadata": {},
   "source": [
    "### Q2. Write a python program to print the sum and product of the first 10 natural numbers using for and while loop."
   ]
  },
  {
   "cell_type": "code",
   "execution_count": 28,
   "id": "44ce4f6b",
   "metadata": {},
   "outputs": [
    {
     "name": "stdout",
     "output_type": "stream",
     "text": [
      "Sum using a for loop =  55  & Product using a for loop: =  3628800\n",
      "Sum using a while loop  55 & Product using a while loop  3628800\n"
     ]
    }
   ],
   "source": [
    "#Using a for loop:\n",
    "sum_for = 0\n",
    "product_for = 1\n",
    "for i in range (1,11):\n",
    "    sum_for = sum_for + i\n",
    "    product_for = product_for * i\n",
    "print(\"Sum using a for loop = \",sum_for,\" & Product using a for loop: = \",product_for)\n",
    "\n",
    "#Using a while loop:\n",
    "num = 1\n",
    "sum_while = 0\n",
    "product_while = 1\n",
    "while (num <= 10):\n",
    "    sum_while = sum_while + num\n",
    "    product_while = product_while * num\n",
    "    num = num + 1 \n",
    "print(\"Sum using a while loop \",sum_while,\"& Product using a while loop \",product_while)"
   ]
  },
  {
   "cell_type": "markdown",
   "id": "4da1ca81",
   "metadata": {},
   "source": [
    "### Q3. Create a python program to compute the electricity bill for a household.\n",
    "\n",
    "**The per-unit charges in rupees are as follows: For the first 100 units, the user will be charged Rs. 4.5 per unit, for the next 100 units, the user will be charged Rs. 6 per unit, and for the next 100 units, the user will be charged Rs. 10 per unit, After 300 units and above the user will be charged Rs. 20 per unit.***\n",
    "\n",
    "**You are required to take the units of electricity consumed in a month from the user as input.***\n",
    "\n",
    "**Your program must pass this test case: when the unit of electricity consumed by the user in a month is 310, the total electricity bill should be 2250.***"
   ]
  },
  {
   "cell_type": "code",
   "execution_count": 29,
   "id": "927b6755",
   "metadata": {},
   "outputs": [
    {
     "name": "stdout",
     "output_type": "stream",
     "text": [
      "Enter the units of electricity consumed: 310\n",
      "Total electricity bill for this month is  2250.0\n"
     ]
    }
   ],
   "source": [
    "# Take input for units consumed\n",
    "units_consumed = int(input(\"Enter the units of electricity consumed: \"))\n",
    "\n",
    "# Calculate the electricity bill\n",
    "total_bill = 0\n",
    "\n",
    "if units_consumed <= 100:\n",
    "    total_bill = units_consumed * 4.5\n",
    "elif units_consumed <= 200:\n",
    "    total_bill = 100 * 4.5 + (units_consumed - 100) * 6\n",
    "elif units_consumed <= 300:\n",
    "    total_bill = 100 * 4.5 + 100 * 6 + (units_consumed - 200) * 10\n",
    "else:\n",
    "    total_bill = 100 * 4.5 + 100 * 6 + 100 * 10 + (units_consumed - 300) * 20\n",
    "\n",
    "# Print the total bill\n",
    "print(\"Total electricity bill for this month is \", total_bill)\n"
   ]
  },
  {
   "cell_type": "markdown",
   "id": "d69dabb5",
   "metadata": {},
   "source": [
    "### Q4. Create a list of numbers from 1 to 100. Use for loop and while loop to calculate the cube of each number and if the cube of that number is divisible by 4 or 5 then append that number in a list and print that list."
   ]
  },
  {
   "cell_type": "code",
   "execution_count": 30,
   "id": "f6453e3f",
   "metadata": {},
   "outputs": [
    {
     "name": "stdout",
     "output_type": "stream",
     "text": [
      "num_list =  [1, 2, 3, 4, 5, 6, 7, 8, 9, 10, 11, 12, 13, 14, 15, 16, 17, 18, 19, 20, 21, 22, 23, 24, 25, 26, 27, 28, 29, 30, 31, 32, 33, 34, 35, 36, 37, 38, 39, 40, 41, 42, 43, 44, 45, 46, 47, 48, 49, 50, 51, 52, 53, 54, 55, 56, 57, 58, 59, 60, 61, 62, 63, 64, 65, 66, 67, 68, 69, 70, 71, 72, 73, 74, 75, 76, 77, 78, 79, 80, 81, 82, 83, 84, 85, 86, 87, 88, 89, 90, 91, 92, 93, 94, 95, 96, 97, 98, 99, 100]\n",
      "List of the numbers whose cube is divisible by 4 or 5 using a for loop : [2, 4, 5, 6, 8, 10, 12, 14, 15, 16, 18, 20, 22, 24, 25, 26, 28, 30, 32, 34, 35, 36, 38, 40, 42, 44, 45, 46, 48, 50, 52, 54, 55, 56, 58, 60, 62, 64, 65, 66, 68, 70, 72, 74, 75, 76, 78, 80, 82, 84, 85, 86, 88, 90, 92, 94, 95, 96, 98, 100]\n"
     ]
    }
   ],
   "source": [
    "# Create a list of numbers from 1 to 100\n",
    "# num_list = list(range(1, 101))\n",
    "\n",
    "num_list = []\n",
    "for i in range (1,101):\n",
    "    num_list.append(i)\n",
    "print(\"num_list = \",num_list,)\n",
    "\n",
    "# Initialize an empty list to store the numbers whose cube is divisible by 4 or 5\n",
    "new_list = []\n",
    "for num in num_list:\n",
    "    cube = num**3\n",
    "    if cube % 4 == 0 or cube % 5 == 0:\n",
    "        new_list.append(num)\n",
    "print(\"List of the numbers whose cube is divisible by 4 or 5 using a for loop :\",new_list)"
   ]
  },
  {
   "cell_type": "markdown",
   "id": "41a0b4ac",
   "metadata": {},
   "source": [
    "OR"
   ]
  },
  {
   "cell_type": "code",
   "execution_count": 31,
   "id": "1cc421ad",
   "metadata": {},
   "outputs": [
    {
     "name": "stdout",
     "output_type": "stream",
     "text": [
      "Numbers whose cube is divisible by 4 or 5 using a while loop : [2, 4, 5, 6, 8, 10, 12, 14, 15, 16, 18, 20, 22, 24, 25, 26, 28, 30, 32, 34, 35, 36, 38, 40, 42, 44, 45, 46, 48, 50, 52, 54, 55, 56, 58, 60, 62, 64, 65, 66, 68, 70, 72, 74, 75, 76, 78, 80, 82, 84, 85, 86, 88, 90, 92, 94, 95, 96, 98, 100, 5, 15, 25, 35, 45, 55, 65, 75, 85, 95, 5, 15, 25, 35, 45, 55, 65, 75, 85, 95, 5, 15, 25, 35, 45, 55, 65, 75, 85, 95]\n"
     ]
    }
   ],
   "source": [
    "# Create a list of numbers from 1 to 100\n",
    "num_list = list(range(1, 101))\n",
    "\n",
    "# Initialize an empty list to store the numbers whose cube is divisible by 4 or 5\n",
    "new_list = []\n",
    "\n",
    "# Calculate cube using a while loop\n",
    "num = 0\n",
    "while num < len(num_list):\n",
    "    num = num_list[num]\n",
    "    cube = num ** 3\n",
    "    if cube % 4 == 0 or cube % 5 == 0:\n",
    "        result_list.append(num)\n",
    "    num += 1\n",
    "\n",
    "# Print the resulting list\n",
    "print(\"Numbers whose cube is divisible by 4 or 5 using a while loop :\", result_list)"
   ]
  },
  {
   "cell_type": "markdown",
   "id": "4fac7cfb",
   "metadata": {},
   "source": [
    "### Q5. Write a program to filter count vowels in the below-given string.\n",
    "***string = \"I want to become a data scientist\"***"
   ]
  },
  {
   "cell_type": "code",
   "execution_count": 32,
   "id": "f481b1eb",
   "metadata": {},
   "outputs": [
    {
     "name": "stdout",
     "output_type": "stream",
     "text": [
      "Number of vowels is  12\n"
     ]
    }
   ],
   "source": [
    "string = \"I want to become a data scientist\"\n",
    "vowels = \"aeiouAEIOU\"\n",
    "counter = 0\n",
    "for alphabet in string:\n",
    "    if alphabet in vowels:\n",
    "        counter = counter + 1\n",
    "print(\"Number of vowels is \",counter)"
   ]
  },
  {
   "cell_type": "markdown",
   "id": "ebd56fe3",
   "metadata": {},
   "source": [
    "OR"
   ]
  },
  {
   "cell_type": "code",
   "execution_count": 33,
   "id": "5e1ae656",
   "metadata": {},
   "outputs": [
    {
     "name": "stdout",
     "output_type": "stream",
     "text": [
      "Number of vowels is  12\n"
     ]
    }
   ],
   "source": [
    "string = \"I want to become a data scientist\"\n",
    "vowels = \"aeiouAEIOU\"\n",
    "counter = 0\n",
    "for alphabet in string:\n",
    "    for char in vowels:\n",
    "        if alphabet == char:\n",
    "            counter = counter + 1\n",
    "print(\"Number of vowels is \",counter)"
   ]
  },
  {
   "cell_type": "markdown",
   "id": "4384b663",
   "metadata": {},
   "source": [
    "OR"
   ]
  },
  {
   "cell_type": "code",
   "execution_count": 34,
   "id": "d7e77dc2",
   "metadata": {},
   "outputs": [
    {
     "name": "stdout",
     "output_type": "stream",
     "text": [
      "Number of vowels is  12\n"
     ]
    }
   ],
   "source": [
    "string = \"I want to become a data scientist\"\n",
    "counter = 0\n",
    "for alphabet in string:\n",
    "    if alphabet == \"a\" or alphabet == \"e\" or alphabet == \"i\" or alphabet == \"o\" or alphabet == \"u\" or alphabet == \"A\" or alphabet == \"E\" or alphabet == \"I\" or alphabet == \"O\" or alphabet == \"U\":\n",
    "        counter = counter + 1\n",
    "print(\"Number of vowels is \",counter)"
   ]
  }
 ],
 "metadata": {
  "kernelspec": {
   "display_name": "Python 3 (ipykernel)",
   "language": "python",
   "name": "python3"
  },
  "language_info": {
   "codemirror_mode": {
    "name": "ipython",
    "version": 3
   },
   "file_extension": ".py",
   "mimetype": "text/x-python",
   "name": "python",
   "nbconvert_exporter": "python",
   "pygments_lexer": "ipython3",
   "version": "3.9.13"
  }
 },
 "nbformat": 4,
 "nbformat_minor": 5
}
