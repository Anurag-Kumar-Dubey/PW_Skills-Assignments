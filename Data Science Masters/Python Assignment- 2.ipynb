{
 "cells": [
  {
   "cell_type": "markdown",
   "id": "55af81d2",
   "metadata": {},
   "source": [
    "# Python Assignment-2"
   ]
  },
  {
   "cell_type": "markdown",
   "id": "14c5f21e",
   "metadata": {},
   "source": [
    "##### Q1. Which keyword is used to create a function? Create a function to return a list of odd numbers in the range of 1 to 25."
   ]
  },
  {
   "cell_type": "markdown",
   "id": "2f7aa334",
   "metadata": {},
   "source": [
    "The keyword used to create a function is typically **\"def\"** (short for \"define\")."
   ]
  },
  {
   "cell_type": "code",
   "execution_count": null,
   "id": "c977cf35",
   "metadata": {},
   "outputs": [],
   "source": [
    "def get_odd_numbers():\n",
    "    odd_numbers = []\n",
    "    for number in range(1, 26):\n",
    "        if number % 2 != 0:\n",
    "            odd_numbers.append(number)\n",
    "    return odd_numbers\n",
    "\n",
    "# Call the function and print the result\n",
    "print(get_odd_numbers())"
   ]
  },
  {
   "cell_type": "markdown",
   "id": "117afdb4",
   "metadata": {},
   "source": [
    "##### Q2. Why *args and **kwargs is used in some functions? Create a function each for *args and **kwargs to demonstrate their use."
   ]
  },
  {
   "cell_type": "markdown",
   "id": "bd0d82b7",
   "metadata": {},
   "source": [
    "In python, __*args__ and __**kwargs__ are used in function definitions to allow a function to accept a variable number of arguments.\n",
    "The __*args__ syntax allows a function to accept any number of positional arguments. When *args is used in a function definition, it collects all the positional arguments passed to the function into a tuple. This means that the function can handle a variable number of arguments without explicitly specifying them. Within the function body, we can iterate over the args tuple or access individual elements by index.\n",
    "\n",
    "Here's an example to illustrate the usage of *args :-"
   ]
  },
  {
   "cell_type": "code",
   "execution_count": null,
   "id": "679ef08b",
   "metadata": {
    "scrolled": true
   },
   "outputs": [],
   "source": [
    "def my_function(*args):\n",
    "    for arg in args:\n",
    "        print(arg)\n",
    "\n",
    "my_function('apple', 'banana', 'cherry')"
   ]
  },
  {
   "cell_type": "markdown",
   "id": "61647579",
   "metadata": {},
   "source": [
    "The __**kwargs__ syntax allows a function to accept any number of keyword arguments. Similar to *args , **kwargs collects the keyword arguments passed to the function into a dictionary. This allows the function to handle a variable number of keyword arguments without explicitly defining them. Inside the function, we can access the values of the keyword arguments using their respective keys.\n",
    "\n",
    "Here's an example to illustrate the usage of **kwargs :-"
   ]
  },
  {
   "cell_type": "code",
   "execution_count": 13,
   "id": "525224d8",
   "metadata": {
    "scrolled": false
   },
   "outputs": [
    {
     "name": "stdout",
     "output_type": "stream",
     "text": [
      "fruit:apple\n",
      "color:red\n",
      "price:1.99\n"
     ]
    }
   ],
   "source": [
    "def my_function(**kwargs):\n",
    "    for key, value in kwargs.items():\n",
    "        #print(f\"{key}: {value}\")\n",
    "        print(\"{}:{}\".format(key,value))\n",
    "\n",
    "my_function(fruit='apple', color='red', price=1.99)"
   ]
  },
  {
   "cell_type": "markdown",
   "id": "7337859b",
   "metadata": {},
   "source": [
    "By using __*args__ and __**kwargs__, we can make our functions more flexible and versatile, allowing them to handle different numbers of arguments and keyword arguments. These constructs are particularly useful when we don't know in advance how many arguments will be passed to the function or when the function needs to accommodate a variety of inputs."
   ]
  },
  {
   "cell_type": "markdown",
   "id": "f6e55b44",
   "metadata": {},
   "source": [
    "##### Q3. What is an iterator in python? Name the method used to initialise the iterator object and the method used for iteration. Use these methods to print the first five elements of the given list [2, 4, 6, 8, 10, 12, 14,16, 18, 20]."
   ]
  },
  {
   "cell_type": "markdown",
   "id": "d4db7d05",
   "metadata": {},
   "source": [
    "In Python, an iterator is an object that implements the iterator protocol, allowing you to iterate over a sequence of elements or values. To initialize an iterator object, you need to define the `__iter__()` method, and for iteration, you use the `__next__()` method.\n",
    "\n",
    "Here's an example of how to create and use an iterator to print the first five elements of the given list `[2, 4, 6, 8, 10, 12, 14, 16, 18, 20]`:\n",
    "\n",
    "```python\n",
    "class MyIterator:\n",
    "    def __init__(self, data):\n",
    "        self.data = data\n",
    "        self.index = 0\n",
    "\n",
    "    def __iter__(self):\n",
    "        return self\n",
    "\n",
    "    def __next__(self):\n",
    "        if self.index >= len(self.data):\n",
    "            raise StopIteration\n",
    "        value = self.data[self.index]\n",
    "        self.index += 1\n",
    "        return value\n",
    "\n",
    "# Initializing the iterator object\n",
    "my_list = [2, 4, 6, 8, 10, 12, 14, 16, 18, 20]\n",
    "my_iter = MyIterator(my_list)\n",
    "\n",
    "# Iterating and printing the first five elements\n",
    "for _ in range(5):\n",
    "    print(next(my_iter))\n",
    "```\n",
    "\n",
    "Output:\n",
    "```\n",
    "2\n",
    "4\n",
    "6\n",
    "8\n",
    "10\n",
    "```\n",
    "\n",
    "In this example, the `MyIterator` class takes a list as input during initialization. It implements the iterator protocol by defining the `__iter__()` and `__next__()` methods. The `__iter__()` method returns the iterator object itself, and the `__next__()` method retrieves the next value in the sequence.\n",
    "\n",
    "To print the first five elements, we initialize the iterator object with the given list `[2, 4, 6, 8, 10, 12, 14, 16, 18, 20]`. Then, using a `for` loop and the `next()` function, we iterate over the iterator and print the values. The `next()` function calls the `__next__()` method of the iterator object to retrieve the next value in each iteration."
   ]
  },
  {
   "cell_type": "markdown",
   "id": "f4081277",
   "metadata": {},
   "source": [
    "##### Q4. What is a generator function in python? Why yield keyword is used? Give an example of a generator function."
   ]
  },
  {
   "cell_type": "markdown",
   "id": "a4951213",
   "metadata": {},
   "source": [
    "In Python, a generator function is a special type of function that generates a sequence of values on-the-fly instead of returning them all at once. It uses the `yield` keyword instead of `return` to produce a series of values. Generator functions are useful when working with large data sets or infinite sequences since they generate values one at a time, conserving memory and allowing for efficient iteration.\n",
    "\n",
    "The `yield` keyword is used in a generator function to pause the function's execution and yield a value to the caller. When the generator function is called, it returns an iterator object. Each time the `yield` statement is encountered in the function, the current value is yielded, and the function's state is saved. The next time the iterator's `__next__()` method is called, the function resumes from where it left off, continuing execution until the next `yield` statement is encountered.\n",
    "\n",
    "Here's an example of a generator function that generates a sequence of Fibonacci numbers:\n",
    "\n",
    "```python\n",
    "def fibonacci_generator():\n",
    "    a, b = 0, 1\n",
    "    while True:\n",
    "        yield a\n",
    "        a, b = b, a + b\n",
    "\n",
    "# Using the generator function\n",
    "fib_gen = fibonacci_generator()\n",
    "\n",
    "# Printing the first 10 Fibonacci numbers\n",
    "for _ in range(10):\n",
    "    print(next(fib_gen))\n",
    "```\n",
    "\n",
    "Output:\n",
    "```\n",
    "0\n",
    "1\n",
    "1\n",
    "2\n",
    "3\n",
    "5\n",
    "8\n",
    "13\n",
    "21\n",
    "34\n",
    "```\n",
    "\n",
    "In this example, the `fibonacci_generator()` function is defined as a generator function. It uses an infinite `while` loop to continuously generate Fibonacci numbers. The `yield` statement is used to yield the current Fibonacci number, and the function's state is saved between iterations.\n",
    "\n",
    "To use the generator function, we create an instance of the generator by calling `fibonacci_generator()`, which returns an iterator object. We can then iterate over the iterator using a `for` loop. In each iteration, we use the `next()` function to retrieve the next Fibonacci number from the generator. The `next()` function calls the generator's `__next__()` method, which resumes execution of the generator function until the next `yield` statement is encountered."
   ]
  },
  {
   "cell_type": "markdown",
   "id": "028f4c01",
   "metadata": {},
   "source": [
    "##### Q5. Create a generator function for prime numbers less than 1000. Use the next() method to print the first 20 prime numbers."
   ]
  },
  {
   "cell_type": "code",
   "execution_count": null,
   "id": "e35495e3",
   "metadata": {},
   "outputs": [],
   "source": []
  },
  {
   "cell_type": "markdown",
   "id": "696ec164",
   "metadata": {},
   "source": [
    "##### Q6. Write a python program to print the first 10 Fibonacci numbers using a while loop."
   ]
  },
  {
   "cell_type": "code",
   "execution_count": null,
   "id": "16549fbf",
   "metadata": {},
   "outputs": [],
   "source": []
  },
  {
   "cell_type": "markdown",
   "id": "94f69954",
   "metadata": {},
   "source": [
    "##### Q7. Write a List Comprehension to iterate through the given string: ‘pwskills’.  Expected output: ['p', 'w', 's', 'k', 'i', 'l', 'l', 's']"
   ]
  },
  {
   "cell_type": "code",
   "execution_count": null,
   "id": "eb50d006",
   "metadata": {},
   "outputs": [],
   "source": []
  },
  {
   "cell_type": "markdown",
   "id": "02dcedc9",
   "metadata": {},
   "source": [
    "##### Q8. Write a python program to check whether a given number is Palindrome or not using a while loop."
   ]
  },
  {
   "cell_type": "code",
   "execution_count": null,
   "id": "a175ed98",
   "metadata": {},
   "outputs": [],
   "source": []
  },
  {
   "cell_type": "markdown",
   "id": "21ceaeaa",
   "metadata": {},
   "source": [
    "##### Q9. Write a code to print odd numbers from 1 to 100 using list comprehension.\n",
    "**Note: Use a list comprehension to create a list from 1 to 100 and use another List comprehension to filter\n",
    "out odd numbers.**"
   ]
  },
  {
   "cell_type": "code",
   "execution_count": null,
   "id": "fdd9ba9a",
   "metadata": {},
   "outputs": [],
   "source": []
  },
  {
   "cell_type": "code",
   "execution_count": null,
   "id": "8c382dea",
   "metadata": {},
   "outputs": [],
   "source": [
    "https://chat.openai.com/share/8cf2e7fa-8e31-462a-ad82-40fb509adaf2"
   ]
  },
  {
   "cell_type": "code",
   "execution_count": null,
   "id": "49d7ebf0",
   "metadata": {},
   "outputs": [],
   "source": [
    "name = input(\"Name :-\")\n",
    "age = int(input(\"Age :-\"))\n",
    "department = input(\"department :-\")\n",
    "\n",
    "intro = \"{} is reading in {} department who is {} years old\".format(name,department,age)\n",
    "print(intro)"
   ]
  },
  {
   "cell_type": "code",
   "execution_count": null,
   "id": "bec985a3",
   "metadata": {},
   "outputs": [],
   "source": []
  }
 ],
 "metadata": {
  "kernelspec": {
   "display_name": "Python 3 (ipykernel)",
   "language": "python",
   "name": "python3"
  },
  "language_info": {
   "codemirror_mode": {
    "name": "ipython",
    "version": 3
   },
   "file_extension": ".py",
   "mimetype": "text/x-python",
   "name": "python",
   "nbconvert_exporter": "python",
   "pygments_lexer": "ipython3",
   "version": "3.9.13"
  }
 },
 "nbformat": 4,
 "nbformat_minor": 5
}
