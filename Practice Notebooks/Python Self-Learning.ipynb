{
 "cells": [
  {
   "cell_type": "markdown",
   "id": "279f76b4",
   "metadata": {},
   "source": [
    "### What is python ?"
   ]
  },
  {
   "cell_type": "markdown",
   "id": "aa8a551f",
   "metadata": {},
   "source": [
    "Python is a high-level, interpreted, and general-purpose programming language. It was created by **Guido van Rossum** and first released in 1991. Python is designed to be easy to read, write, and understand, with a clear and straightforward syntax that emphasizes readability and simplicity.\n",
    "\n",
    "Key characteristics and features of Python include:\n",
    "\n",
    "1. **Interpreted Language:** Python code is executed line by line by the Python interpreter, which translates the high-level code into machine-readable bytecode. This allows for rapid development and easy debugging.\n",
    "\n",
    "2. **High-Level Language:** Python provides abstraction from low-level details, making it more human-readable and easier to use than lower-level languages like C or assembly.\n",
    "\n",
    "3. **General-Purpose:** Python can be used for a wide range of applications, from web development to scientific computing, data analysis, artificial intelligence, automation, and more.\n",
    "\n",
    "4. **Easy to Learn:** Python's syntax and design philosophy emphasize simplicity and readability, making it an excellent choice for beginners and experienced programmers alike.\n",
    "\n",
    "5. **Open Source:** Python is an open-source language, meaning its source code is freely available and can be distributed and modified by anyone.\n",
    "\n",
    "6. **Large Standard Library:** Python comes with a comprehensive standard library that provides a vast collection of modules and functions, making it easier to perform various tasks without the need for external libraries.\n",
    "\n",
    "7. **Dynamically Typed:** Python is a dynamically-typed language, meaning you don't need to specify the variable types explicitly. The interpreter infers the type based on the value assigned to a variable.\n",
    "\n",
    "8. **Object-Oriented:** Python supports object-oriented programming (OOP) concepts, enabling developers to write modular and organized code.\n",
    "\n",
    "9. **Extensible:** Python allows developers to create their own modules and packages to extend the language's capabilities.\n",
    "\n",
    "10. **Community and Ecosystem:** Python has a large and active community of developers, which has led to a rich ecosystem of third-party libraries and frameworks that expand its functionality.\n",
    "\n",
    "Because of its versatility, ease of use, and the strong community support, Python has become one of the most popular programming languages, widely used across various industries and disciplines. It has gained popularity in areas like web development (with frameworks like Django and Flask), data science (with libraries like NumPy, Pandas, and SciPy), machine learning (with frameworks like TensorFlow and PyTorch), and more."
   ]
  },
  {
   "cell_type": "markdown",
   "id": "5f70e6bf",
   "metadata": {},
   "source": [
    "**To check the Python version in Jupyter Notebook, you can execute a simple Python code cell that prints the version number. Here's how you can do it:**\n",
    "\n",
    "1. Open Jupyter Notebook in your web browser.\n",
    "\n",
    "2. Create a new Python code cell by clicking the \"+ Code\" button or using the \"Insert\" menu.\n",
    "\n",
    "3. In the code cell, type the following command to check the Python version:\n",
    "\n",
    "4. To execute the code cell, click the \"Run\" button or use the \"Shift + Enter\" keyboard shortcut.\n",
    "\n",
    "After running the cell, you should see the Python version printed in the output area below the code cell. It will display something like \"3.10.12\" or \"3.11.4,\" depending on the version installed on your system."
   ]
  },
  {
   "cell_type": "code",
   "execution_count": 1,
   "id": "d0f56340",
   "metadata": {},
   "outputs": [
    {
     "name": "stdout",
     "output_type": "stream",
     "text": [
      "3.10.12 | packaged by Anaconda, Inc. | (main, Jul  5 2023, 19:09:20) [MSC v.1916 64 bit (AMD64)]\n"
     ]
    }
   ],
   "source": [
    "import sys\n",
    "print(sys.version)"
   ]
  },
  {
   "cell_type": "markdown",
   "id": "de9f3ee6",
   "metadata": {},
   "source": [
    "Python is often referred to as an interpreted language, which means that the Python code is executed line by line by the Python interpreter. However, it is also correct to say that Python is a compiled language in a broader sense. Let's dive into the details to understand this better.\n",
    "\n",
    "1. **Interpretation vs. Compilation:**\n",
    "Traditionally, programming languages have been categorized into two main types: interpreted languages and compiled languages.\n",
    "\n",
    "   - **Interpreted languages:** In interpreted languages like Python, the source code is executed directly by an interpreter. The interpreter reads each line of code, translates it to machine code or intermediate code, and immediately executes it. This process happens line by line during runtime, which means that the interpreter needs to be present on the target system to run the program.\n",
    "\n",
    "   - **Compiled languages:** In compiled languages like C or C++, the source code is first translated entirely into machine code or an intermediate representation by a compiler. The resulting compiled code is then executed directly by the computer's hardware. The compilation process happens before the program is run, and the generated executable file can be executed without the need for the original source code or the compiler.\n",
    "\n",
    "2. **Python Compilation Process:**\n",
    "Python code is not directly compiled into machine code like traditional compiled languages. Instead, Python follows a unique compilation process that involves an intermediate step.\n",
    "\n",
    "   - **Bytecode Compilation:** When you run a Python script, the Python interpreter first compiles the source code into an intermediate form called bytecode. Bytecode is a low-level representation of the code, specific to the Python virtual machine (PVM).\n",
    "\n",
    "   - **Virtual Machine Execution:** The bytecode is then executed by the Python virtual machine (PVM), which is part of the Python interpreter. The PVM translates the bytecode into machine code that is understood by the underlying hardware, and the program is executed.\n",
    "\n",
    "3. **Advantages and Disadvantages:**\n",
    "Python's approach of compiling to bytecode has several advantages:\n",
    "\n",
    "   - Portability: Bytecode is platform-independent, which means you can run the same bytecode on any system that has a compatible Python interpreter.\n",
    "   - Code Protection: Bytecode is not as human-readable as the original source code, providing a level of code protection (though it's not a strong form of encryption or obfuscation).\n",
    "   - Dynamic Nature: Python's interpreted nature allows for dynamic features like introspection and runtime modification of code, which wouldn't be as straightforward in a traditional compiled language.\n",
    "\n",
    "However, it's essential to understand that Python's compilation to bytecode is still different from the compilation process of languages like C or C++. The latter generates standalone machine code files that can run independently, while Python's bytecode always relies on the Python interpreter to execute.\n",
    "\n",
    "In summary, Python is both an interpreted and compiled language. It undergoes a compilation step that translates the source code into bytecode, which is then executed by the Python virtual machine during runtime. This combination of compilation and interpretation gives Python its unique characteristics and versatility."
   ]
  },
  {
   "cell_type": "markdown",
   "id": "b018e39b",
   "metadata": {},
   "source": [
    "### what are variables in python ?"
   ]
  },
  {
   "cell_type": "markdown",
   "id": "eeec9f38",
   "metadata": {},
   "source": [
    "In Python, variables are used to store data values. A variable is like a container that holds a specific piece of information or data. Unlike some other programming languages, Python does not require explicit declaration of variables with their data types. Instead, variables are created dynamically when you assign a value to them. Python uses a simple syntax to create and use variables.\n",
    "\n",
    "Here's the basic syntax for creating a variable in Python:"
   ]
  },
  {
   "cell_type": "raw",
   "id": "da97eb60",
   "metadata": {},
   "source": [
    "variable_name = value"
   ]
  },
  {
   "cell_type": "markdown",
   "id": "cd87d25c",
   "metadata": {},
   "source": [
    "- `variable_name`: This is the name you choose for the variable. It must follow certain rules: it can only contain letters (a-z, A-Z), digits (0-9), and underscores (_), and it cannot start with a digit.\n",
    "\n",
    "- `value`: This is the data you want to store in the variable. It can be any valid Python data type, such as numbers (integers or floats), strings, lists, tuples, dictionaries, etc."
   ]
  },
  {
   "cell_type": "markdown",
   "id": "93728114",
   "metadata": {},
   "source": [
    "Examples:-"
   ]
  },
  {
   "cell_type": "code",
   "execution_count": 17,
   "id": "7bbe3a3f",
   "metadata": {},
   "outputs": [],
   "source": [
    "# Assigning an integer value to a variable\n",
    "age = 25\n",
    "\n",
    "# Assigning a string value to a variable\n",
    "name = \"John Doe\"\n",
    "\n",
    "# Assigning a list to a variable\n",
    "fruits = [\"apple\", \"banana\", \"orange\"]\n",
    "\n",
    "# Assigning a dictionary to a variable\n",
    "person = {\"name\": \"Alice\", \"age\": 30, \"occupation\": \"engineer\"}"
   ]
  },
  {
   "cell_type": "markdown",
   "id": "d5a7b8d7",
   "metadata": {},
   "source": [
    "Once a variable is created, you can access its value by simply referring to its name. For example:-"
   ]
  },
  {
   "cell_type": "code",
   "execution_count": 4,
   "id": "151390c6",
   "metadata": {},
   "outputs": [
    {
     "name": "stdout",
     "output_type": "stream",
     "text": [
      "25\n",
      "John Doe\n",
      "['apple', 'banana', 'orange']\n",
      "{'name': 'Alice', 'age': 30, 'occupation': 'engineer'}\n"
     ]
    }
   ],
   "source": [
    "# Accessing the values of the variables created in the examples above\n",
    "print(age)       # Output: 25\n",
    "print(name)      # Output: John Doe\n",
    "print(fruits)    # Output: ['apple', 'banana', 'orange']\n",
    "print(person)    # Output: {'name': 'Alice', 'age': 30, 'occupation': 'engineer'}"
   ]
  },
  {
   "cell_type": "markdown",
   "id": "4e713c79",
   "metadata": {},
   "source": [
    "You can also update the value of a variable by assigning it a new value:-"
   ]
  },
  {
   "cell_type": "code",
   "execution_count": 6,
   "id": "3e67398e",
   "metadata": {},
   "outputs": [
    {
     "name": "stdout",
     "output_type": "stream",
     "text": [
      "30\n"
     ]
    }
   ],
   "source": [
    "age = 30\n",
    "print(age)"
   ]
  },
  {
   "cell_type": "markdown",
   "id": "8fa7af94",
   "metadata": {},
   "source": [
    "Variables are essential in programming as they allow you to store and manipulate data, making your code more flexible and powerful."
   ]
  },
  {
   "cell_type": "markdown",
   "id": "fd8c9d1a",
   "metadata": {},
   "source": [
    "### What are data types in python ?"
   ]
  },
  {
   "cell_type": "markdown",
   "id": "8de32841",
   "metadata": {},
   "source": [
    "In Python, data types define the type of data that a variable can hold. Python is a dynamically-typed language, which means you don't need to explicitly specify the data type of a variable during declaration. Instead, the type is determined dynamically based on the value assigned to the variable. Python supports various built-in data types, which can be broadly categorized as follows:\n",
    "\n",
    "1. **Numeric Types:**\n",
    "   - `int`: Integer data type, e.g., 42, -10, 0.\n",
    "   - `float`: Floating-point data type, e.g., 3.14, -2.5, 0.0.\n",
    "   - `complex`: Complex number data type, e.g., 1+2j, -3+4j.\n",
    "\n",
    "2. **Sequence Types:**\n",
    "   - `str`: String data type, e.g., \"hello\", 'Python'.\n",
    "   - `list`: List data type, e.g., [1, 2, 3], ['apple', 'banana'].\n",
    "   - `tuple`: Tuple data type, e.g., (1, 2, 3), ('a', 'b', 'c').\n",
    "\n",
    "3. **Mapping Type:**\n",
    "   - `dict`: Dictionary data type, e.g., {'name': 'John', 'age': 30}.\n",
    "\n",
    "4. **Set Types:**\n",
    "   - `set`: Unordered set data type, e.g., {1, 2, 3}, {'apple', 'banana'}.\n",
    "\n",
    "5. **Boolean Type:**\n",
    "   - `bool`: Boolean data type, represents True or False.\n",
    "\n",
    "6. **None Type:**\n",
    "   - `None`: A special data type that represents the absence of a value.\n",
    "\n",
    "Python also provides some built-in functions to determine the data type of a variable:\n",
    "\n",
    "- `type()`: Returns the type of the variable.\n",
    "- `isinstance()`: Checks if the variable is of a specific type.\n",
    "\n",
    "Example:-"
   ]
  },
  {
   "cell_type": "code",
   "execution_count": 14,
   "id": "725e0c69",
   "metadata": {},
   "outputs": [],
   "source": [
    "# Numeric Types\n",
    "x = 42\n",
    "y = 3.14\n",
    "z = 1+2j\n",
    "\n",
    "# Sequence Types\n",
    "name = \"John\"\n",
    "numbers = [1, 2, 3]\n",
    "coordinates = (10, 20)\n",
    "\n",
    "# Mapping Type\n",
    "person = {'name': 'John', 'age': 30}\n",
    "\n",
    "# Set Type\n",
    "fruits = {'apple', 'banana', 'orange'}\n",
    "\n",
    "# Boolean Type\n",
    "is_student = True\n",
    "\n",
    "# None Type\n",
    "empty_value = None"
   ]
  },
  {
   "cell_type": "markdown",
   "id": "68be8057",
   "metadata": {},
   "source": [
    "Checking data types:-"
   ]
  },
  {
   "cell_type": "code",
   "execution_count": 15,
   "id": "010b24f6",
   "metadata": {},
   "outputs": [
    {
     "name": "stdout",
     "output_type": "stream",
     "text": [
      "<class 'int'>\n",
      "<class 'float'>\n",
      "<class 'complex'>\n",
      "<class 'str'>\n",
      "<class 'list'>\n",
      "<class 'tuple'>\n",
      "<class 'dict'>\n",
      "<class 'bool'>\n",
      "<class 'NoneType'>\n"
     ]
    }
   ],
   "source": [
    "print(type(x))\n",
    "print(type(y))\n",
    "print(type(z))\n",
    "print(type(name))\n",
    "print(type(numbers))\n",
    "print(type(coordinates))\n",
    "print(type(person))\n",
    "print(type(is_student))\n",
    "print(type(empty_value))"
   ]
  },
  {
   "cell_type": "markdown",
   "id": "5313cdd1",
   "metadata": {},
   "source": [
    "Verifing data types:-"
   ]
  },
  {
   "cell_type": "code",
   "execution_count": 16,
   "id": "67f5961e",
   "metadata": {},
   "outputs": [
    {
     "name": "stdout",
     "output_type": "stream",
     "text": [
      "True\n",
      "False\n"
     ]
    }
   ],
   "source": [
    "print(isinstance(x, int))\n",
    "print(isinstance(name, list))"
   ]
  },
  {
   "cell_type": "code",
   "execution_count": 20,
   "id": "ee97f8fa",
   "metadata": {},
   "outputs": [
    {
     "name": "stdout",
     "output_type": "stream",
     "text": [
      "1\n",
      "1\n",
      "0\n",
      "0.0\n"
     ]
    },
    {
     "ename": "ZeroDivisionError",
     "evalue": "division by zero",
     "output_type": "error",
     "traceback": [
      "\u001b[1;31m---------------------------------------------------------------------------\u001b[0m",
      "\u001b[1;31mZeroDivisionError\u001b[0m                         Traceback (most recent call last)",
      "Cell \u001b[1;32mIn[20], line 8\u001b[0m\n\u001b[0;32m      6\u001b[0m \u001b[38;5;28mprint\u001b[39m(n\u001b[38;5;241m*\u001b[39mm)\n\u001b[0;32m      7\u001b[0m \u001b[38;5;28mprint\u001b[39m(m\u001b[38;5;241m/\u001b[39mn)\n\u001b[1;32m----> 8\u001b[0m \u001b[38;5;28mprint\u001b[39m(\u001b[43mn\u001b[49m\u001b[38;5;241;43m/\u001b[39;49m\u001b[43mm\u001b[49m)\n",
      "\u001b[1;31mZeroDivisionError\u001b[0m: division by zero"
     ]
    }
   ],
   "source": [
    "n = True\n",
    "m = False\n",
    "# Here n will be 1 value and m will be 0\n",
    "print(n+m)\n",
    "print(n-m)\n",
    "print(n*m)\n",
    "print(m/n)\n",
    "print(n/m)"
   ]
  },
  {
   "cell_type": "markdown",
   "id": "fdcde1a1",
   "metadata": {},
   "source": [
    "Understanding data types in Python is crucial, as it allows you to manage and manipulate different types of data effectively in your programs."
   ]
  },
  {
   "cell_type": "markdown",
   "id": "6619040a",
   "metadata": {},
   "source": [
    "### Why python is dynamically typed language ?"
   ]
  },
  {
   "cell_type": "markdown",
   "id": "f79f1fda",
   "metadata": {},
   "source": [
    "Python is considered a dynamically-typed language because it determines the data type of a variable at runtime, i.e., during the execution of the program. In dynamically-typed languages like Python, you don't need to explicitly declare the data type of a variable when you create it. Instead, the type of the variable is inferred based on the value it is assigned.\n",
    "\n",
    "Here are some key reasons why Python is dynamically typed:\n",
    "\n",
    "1. **Flexibility and Simplicity:** Dynamically-typed languages like Python allow developers to create variables without worrying about specifying data types. This simplifies the coding process and makes the language more flexible and expressive.\n",
    "\n",
    "2. **Less Boilerplate Code:** Since you don't have to declare data types explicitly, there is less boilerplate code in Python compared to statically-typed languages.\n",
    "\n",
    "3. **Dynamic Behavior:** Python's dynamic typing allows you to change the type of a variable during runtime. For example, a variable that initially holds an integer can be reassigned to store a string or any other data type later in the program.\n",
    "\n",
    "4. **Ease of Prototyping:** The dynamic nature of Python makes it an excellent choice for rapid prototyping and scripting tasks. Developers can quickly write and test code without the need to worry about data types and compile-time errors.\n",
    "\n",
    "5. **Readability and Clarity:** The lack of explicit type declarations can lead to more concise and readable code, as it avoids cluttering the code with data type information.\n",
    "\n",
    "However, it's essential to be cautious with dynamic typing as it can lead to certain runtime errors that might not be caught until the code is executed. Bugs related to type mismatches can sometimes be harder to detect in dynamically-typed languages compared to statically-typed languages, which check types at compile-time.\n",
    "\n",
    "Overall, Python's dynamic typing is a core feature that contributes to its simplicity, flexibility, and ease of use, making it a popular choice for a wide range of applications and a favorite among developers."
   ]
  },
  {
   "cell_type": "markdown",
   "id": "c315c7ca",
   "metadata": {},
   "source": [
    "### STRING (str) DATA TYPE:-"
   ]
  },
  {
   "cell_type": "markdown",
   "id": "22fa6740",
   "metadata": {},
   "source": [
    "In Python, the `str` data type represents a sequence of Unicode characters, i.e., a string of characters. Strings are used to represent textual data and are one of the most fundamental and commonly used data types in Python. Strings are immutable, which means their contents cannot be changed after they are created.\n",
    "\n",
    "Creating strings is simple in Python. You can define a string by enclosing a sequence of characters inside single quotes (`'`) or double quotes (`\"`). Both single and double quotes are equivalent for defining strings.\n",
    "\n",
    "**Examples:-**"
   ]
  },
  {
   "cell_type": "code",
   "execution_count": 28,
   "id": "56c97102",
   "metadata": {},
   "outputs": [
    {
     "name": "stdout",
     "output_type": "stream",
     "text": [
      "Hello, World!\n",
      "Python is awesome!\n"
     ]
    }
   ],
   "source": [
    "# Strings defined using single quotes\n",
    "str1 = 'Hello, World!'\n",
    "print(str1)\n",
    "# Strings defined using double quotes\n",
    "str2 = \"Python is awesome!\"\n",
    "print(str2)"
   ]
  },
  {
   "cell_type": "markdown",
   "id": "f5214199",
   "metadata": {},
   "source": [
    "Strings can contain a wide range of characters, including letters, digits, symbols, and whitespace. Additionally, Python supports escape sequences that allow you to include special characters within a string using backslashes (`\\`).\n",
    "\n",
    "**Example:-**"
   ]
  },
  {
   "cell_type": "code",
   "execution_count": 29,
   "id": "33b11d5d",
   "metadata": {},
   "outputs": [
    {
     "name": "stdout",
     "output_type": "stream",
     "text": [
      "This is a new line:\n",
      "Second line\tTabbed text.\n"
     ]
    }
   ],
   "source": [
    "# Using escape sequences\n",
    "str3 = \"This is a new line:\\nSecond line\\tTabbed text.\"\n",
    "print(str3)"
   ]
  },
  {
   "cell_type": "markdown",
   "id": "5bd1ced8",
   "metadata": {},
   "source": [
    "Python provides various built-in functions and methods to manipulate and work with strings, including string concatenation, slicing, length, formatting, and more.\n",
    "\n",
    "**Here are some common string operations:-**"
   ]
  },
  {
   "cell_type": "code",
   "execution_count": 30,
   "id": "275c3cc1",
   "metadata": {},
   "outputs": [
    {
     "name": "stdout",
     "output_type": "stream",
     "text": [
      "Hello, John!\n",
      "13\n",
      "Hello\n",
      "My name is Alice and I am 30 years old.\n"
     ]
    }
   ],
   "source": [
    "# Concatenation\n",
    "str4 = \"Hello, \" + \"John!\"\n",
    "print(str4)\n",
    "\n",
    "# String length\n",
    "str5 = \"Hello, World!\"\n",
    "length = len(str5)\n",
    "print(length)\n",
    "\n",
    "# String slicing\n",
    "str6 = \"Hello, World!\"\n",
    "substring = str6[0:5]\n",
    "print(substring)\n",
    "\n",
    "# String formatting\n",
    "name = \"Alice\"\n",
    "age = 30\n",
    "str7 = f\"My name is {name} and I am {age} years old.\"\n",
    "print(str7)"
   ]
  },
  {
   "cell_type": "markdown",
   "id": "294713ef",
   "metadata": {},
   "source": [
    "Strings are versatile and widely used in Python for tasks like text processing, data manipulation, file handling, and user interaction. Their flexibility and extensive built-in functionality make them essential for most Python programs."
   ]
  },
  {
   "cell_type": "markdown",
   "id": "d8c7bb39",
   "metadata": {},
   "source": [
    "# String Slicing:-"
   ]
  },
  {
   "cell_type": "markdown",
   "id": "769a354d",
   "metadata": {},
   "source": [
    "In Python, string slicing allows you to extract a portion of a string by specifying the start and end indices. It is a powerful feature that enables you to work with substrings or extract specific parts of a string as needed. The basic syntax for string slicing is as follows:\n",
    "\n",
    "```python\n",
    "string[start_index:end_index]\n",
    "```\n",
    "\n",
    "- `start_index`: The index of the first character to include in the slice. It is inclusive, meaning the character at this index will be included in the resulting substring.\n",
    "- `end_index`: The index of the character just after the last character to include in the slice. It is exclusive, meaning the character at this index will not be included in the resulting substring.\n",
    "\n",
    "Here are some examples to illustrate string slicing:-"
   ]
  },
  {
   "cell_type": "code",
   "execution_count": 31,
   "id": "e70caa73",
   "metadata": {},
   "outputs": [
    {
     "name": "stdout",
     "output_type": "stream",
     "text": [
      "Hello\n",
      "Hello\n",
      "World!\n",
      "World\n",
      "World\n",
      "Hlo ol!\n",
      "!dlroW ,olleH\n"
     ]
    }
   ],
   "source": [
    "# Original string\n",
    "original_str = \"Hello, World!\"\n",
    "\n",
    "# Extracting a substring using slicing\n",
    "substring1 = original_str[0:5]\n",
    "print(substring1)  # Output: Hello\n",
    "\n",
    "# Slicing from the beginning of the string\n",
    "substring2 = original_str[:5]\n",
    "print(substring2)  # Output: Hello\n",
    "\n",
    "# Slicing until the end of the string\n",
    "substring3 = original_str[7:]\n",
    "print(substring3)  # Output: World!\n",
    "\n",
    "# Slicing from the 7th character to the 11th character\n",
    "substring4 = original_str[7:12]\n",
    "print(substring4)  # Output: World\n",
    "\n",
    "# Negative indices count from the end of the string\n",
    "substring5 = original_str[-6:-1]\n",
    "print(substring5)  # Output: World\n",
    "\n",
    "# Slicing with a step of 2 (every second character)\n",
    "substring6 = original_str[::2]\n",
    "print(substring6)  # Output: HloWrd\n",
    "\n",
    "# Reversing a string using slicing\n",
    "reversed_str = original_str[::-1]\n",
    "print(reversed_str)  # Output: !dlroW ,olleH"
   ]
  },
  {
   "cell_type": "markdown",
   "id": "f3698937",
   "metadata": {},
   "source": [
    "In Python, string slicing is very flexible, allowing you to extract substrings, reverse strings, and even step through characters with custom intervals. The concept of slicing is not only applicable to strings but can also be used with other sequence types like lists and tuples."
   ]
  },
  {
   "cell_type": "code",
   "execution_count": 3,
   "id": "6f91b5e1",
   "metadata": {},
   "outputs": [
    {
     "name": "stdout",
     "output_type": "stream",
     "text": [
      "753\n",
      "2124\n",
      "22\n",
      "433\n",
      "55\n",
      "34\n",
      "44\n",
      "98\n",
      "78\n",
      "22\n",
      "3\n",
      "7\n",
      "5\n",
      "3\n"
     ]
    }
   ],
   "source": [
    "l = [3,5,7,3,22,78,98,44,34,55,433,22,2124,753]\n",
    "for i in range (0, len(l)):\n",
    "    print(l.pop())"
   ]
  }
 ],
 "metadata": {
  "kernelspec": {
   "display_name": "Python 3 (ipykernel)",
   "language": "python",
   "name": "python3"
  },
  "language_info": {
   "codemirror_mode": {
    "name": "ipython",
    "version": 3
   },
   "file_extension": ".py",
   "mimetype": "text/x-python",
   "name": "python",
   "nbconvert_exporter": "python",
   "pygments_lexer": "ipython3",
   "version": "3.10.12"
  }
 },
 "nbformat": 4,
 "nbformat_minor": 5
}
