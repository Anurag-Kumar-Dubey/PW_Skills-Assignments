{
 "cells": [
  {
   "cell_type": "markdown",
   "id": "ba30416e",
   "metadata": {},
   "source": [
    "# Python Quiz"
   ]
  },
  {
   "cell_type": "raw",
   "id": "4dc0781c",
   "metadata": {},
   "source": [
    "1) What is the output of the following code snippet?\n",
    "print(2 + 3 * 5)\n",
    "\n",
    "a) 25\n",
    "b) 17\n",
    "c) 35\n",
    "d) 21\n",
    "\n",
    "Answer:- (b)17"
   ]
  },
  {
   "cell_type": "raw",
   "id": "7d4066ac",
   "metadata": {},
   "source": [
    "2) Which of the following is a valid Python variable name?\n",
    "\n",
    "a) 2myVar\n",
    "b) my-var\n",
    "c) _myVar\n",
    "d) my Var\n",
    "\n",
    "Answer:- (c)_myVar"
   ]
  },
  {
   "cell_type": "raw",
   "id": "da39907b",
   "metadata": {},
   "source": [
    "3) "
   ]
  }
 ],
 "metadata": {
  "kernelspec": {
   "display_name": "Python 3 (ipykernel)",
   "language": "python",
   "name": "python3"
  },
  "language_info": {
   "codemirror_mode": {
    "name": "ipython",
    "version": 3
   },
   "file_extension": ".py",
   "mimetype": "text/x-python",
   "name": "python",
   "nbconvert_exporter": "python",
   "pygments_lexer": "ipython3",
   "version": "3.9.17"
  }
 },
 "nbformat": 4,
 "nbformat_minor": 5
}
