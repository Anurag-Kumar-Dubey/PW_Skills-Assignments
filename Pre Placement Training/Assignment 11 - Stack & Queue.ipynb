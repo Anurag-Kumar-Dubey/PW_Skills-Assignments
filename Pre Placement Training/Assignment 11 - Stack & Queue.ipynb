{
 "cells": [
  {
   "cell_type": "markdown",
   "id": "9b90daea",
   "metadata": {},
   "source": [
    "# Assignment 11 - Stack & Queue"
   ]
  },
  {
   "cell_type": "markdown",
   "id": "5129f629",
   "metadata": {},
   "source": [
    "#### (1) Make the String Great (https://leetcode.com/problems/make-the-string-great/)"
   ]
  },
  {
   "cell_type": "code",
   "execution_count": null,
   "id": "f50c1db3",
   "metadata": {},
   "outputs": [],
   "source": [
    "class Solution:\n",
    "    def makeGood(self, s: str) -> str:\n",
    "        i = 0\n",
    "        s = list(s)\n",
    "        while i<len(s)-1:\n",
    "            if s[i].lower() == s[i+1].lower() and ((s[i].isupper() and s[i+1].islower()) or (s[i].islower() and s[i+1].isupper())):\n",
    "                s.pop(i)\n",
    "                s.pop(i)\n",
    "                i -= 1 if i>0 else 0\n",
    "                continue\n",
    "            i +=1\n",
    "        return \"\".join(s)"
   ]
  },
  {
   "cell_type": "markdown",
   "id": "c36c6fbf",
   "metadata": {},
   "source": [
    "#### (2) Remove all adjacent duplicates in a String (https://leetcode.com/problems/remove-all-adjacent-duplicates-in-string/)"
   ]
  },
  {
   "cell_type": "code",
   "execution_count": null,
   "id": "2efe01be",
   "metadata": {},
   "outputs": [],
   "source": [
    "class Solution:\n",
    "    def removeDuplicates(self, s: str) -> str:\n",
    "        stack = []\n",
    "        for le in s:\n",
    "            if stack and stack[-1] == le:\n",
    "                stack.pop()\n",
    "            else:\n",
    "                stack.append(le)\n",
    "        return \"\".join(stack)"
   ]
  },
  {
   "cell_type": "markdown",
   "id": "84cb4ef3",
   "metadata": {},
   "source": [
    "#### (3) Online Stock Span (https://leetcode.com/problems/online-stock-span/)"
   ]
  },
  {
   "cell_type": "code",
   "execution_count": 16,
   "id": "23500d1c",
   "metadata": {},
   "outputs": [],
   "source": [
    "class StockSpanner:\n",
    "\n",
    "    def __init__(self):\n",
    "        self.stk = deque()\n",
    "\n",
    "    def next(self, price: int) -> int:\n",
    "        ans = 1\n",
    "        while self.stk and self.stk[-1][0] <= price:\n",
    "            ans+=self.stk.pop()[1]\n",
    "        self.stk.append([price,ans])\n",
    "        return ans"
   ]
  },
  {
   "cell_type": "markdown",
   "id": "c707b0e9",
   "metadata": {},
   "source": [
    "#### (4) Time Needed to buy tickets (https://leetcode.com/problems/time-needed-to-buy-tickets/)"
   ]
  },
  {
   "cell_type": "code",
   "execution_count": null,
   "id": "cd2487f9",
   "metadata": {},
   "outputs": [],
   "source": [
    "class Solution:\n",
    "    def timeRequiredToBuy(self, tickets: List[int], k: int) -> int:\n",
    "        n = len(tickets)\n",
    "        i = 0\n",
    "        count = 0\n",
    "        while tickets[k] != 0:\n",
    "            if tickets[i] != 0:\n",
    "                tickets[i] -= 1\n",
    "                count += 1\n",
    "            if i == n - 1:\n",
    "                i = 0\n",
    "            else:\n",
    "                i += 1\n",
    "        return count"
   ]
  },
  {
   "cell_type": "markdown",
   "id": "ec3762db",
   "metadata": {},
   "source": [
    "#### (5) Product of the last K Numbers (https://leetcode.com/problems/product-of-the-last-k-numbers/)"
   ]
  },
  {
   "cell_type": "code",
   "execution_count": null,
   "id": "8e67390e",
   "metadata": {},
   "outputs": [],
   "source": [
    "class ProductOfNumbers:\n",
    "    def __init__(self):\n",
    "        self.data = []\n",
    "        self.product = 1\n",
    "\n",
    "    def add(self, num: int) -> None:\n",
    "        if num != 0:\n",
    "            self.product *= num\n",
    "            self.data.append(self.product)\n",
    "        else:\n",
    "            self.data = []\n",
    "            self.product = 1\n",
    "\n",
    "    def getProduct(self, k: int) -> int:\n",
    "        if len(self.data) < k:\n",
    "            return 0\n",
    "        if len(self.data) == k:\n",
    "            return self.data[-1]\n",
    "        else:\n",
    "            return int(self.data[-1] / self.data[-1-k])"
   ]
  },
  {
   "cell_type": "markdown",
   "id": "6a8c90fe",
   "metadata": {},
   "source": [
    "#### (6) Largest Rectangle in Histogram (https://leetcode.com/problems/largest-rectangle-in-histogram/description/)"
   ]
  },
  {
   "cell_type": "code",
   "execution_count": null,
   "id": "e458f871",
   "metadata": {},
   "outputs": [],
   "source": [
    "class Solution:\n",
    "    def largestRectangleArea(self, heights: List[int]) -> int:\n",
    "        stck = [0]\n",
    "        ans = 0\n",
    "        heights.append(0)\n",
    "        for i in range(len(heights)):\n",
    "            while stck and heights[stck[-1]] > heights[i]:\n",
    "                h = heights[stck.pop()]\n",
    "                l = i if not stck else i - stck[-1] - 1\n",
    "                ans = max(ans, h*l)\n",
    "            stck.append(i)\n",
    "        return ans"
   ]
  },
  {
   "cell_type": "markdown",
   "id": "69f21e95",
   "metadata": {},
   "source": [
    "#### (7) Sliding Window Maximum(https://leetcode.com/problems/sliding-window-maximum/)"
   ]
  },
  {
   "cell_type": "code",
   "execution_count": null,
   "id": "a8aedbfe",
   "metadata": {},
   "outputs": [],
   "source": [
    "class Solution:\n",
    "    def maxSlidingWindow(self, nums: List[int], k: int) -> List[int]:\n",
    "        h,ans  =[],[]\n",
    "        for i in range(k):heappush(h,(-nums[i],i))\n",
    "        ans.append(-h[0][0])\n",
    "        for i in range(k,len(nums)):\n",
    "            heappush(h, (-nums[i],i))    \n",
    "            while h and (i - h[0][1]) >=k:heappop(h)    \n",
    "            ans.append((-h[0][0]))\n",
    "        return ans"
   ]
  },
  {
   "cell_type": "markdown",
   "id": "1da6f8fd",
   "metadata": {},
   "source": [
    "#### (8) Design a circular queue data structure with the following operations: enQueue, deQueue, Front, Rear, and isEmpty."
   ]
  },
  {
   "cell_type": "code",
   "execution_count": 18,
   "id": "cec59d3f",
   "metadata": {},
   "outputs": [
    {
     "name": "stdout",
     "output_type": "stream",
     "text": [
      "True\n",
      "False\n",
      "True\n",
      "1\n",
      "5\n",
      "3\n",
      "5\n"
     ]
    }
   ],
   "source": [
    "class CircularQueue:\n",
    "    def __init__(self, size):\n",
    "        self.size = size\n",
    "        self.queue = [None] * size\n",
    "        self.front = self.rear = -1\n",
    "\n",
    "    def is_empty(self):\n",
    "        return self.front == -1\n",
    "\n",
    "    def is_full(self):\n",
    "        return (self.rear + 1) % self.size == self.front\n",
    "\n",
    "    def enQueue(self, item):\n",
    "        if self.is_full():\n",
    "            print(\"Queue is full. Cannot enqueue.\")\n",
    "            return\n",
    "        elif self.is_empty():\n",
    "            self.front = self.rear = 0\n",
    "        else:\n",
    "            self.rear = (self.rear + 1) % self.size\n",
    "\n",
    "        self.queue[self.rear] = item\n",
    "\n",
    "    def deQueue(self):\n",
    "        if self.is_empty():\n",
    "            print(\"Queue is empty. Cannot dequeue.\")\n",
    "            return None\n",
    "        elif self.front == self.rear:\n",
    "            item = self.queue[self.front]\n",
    "            self.front = self.rear = -1\n",
    "        else:\n",
    "            item = self.queue[self.front]\n",
    "            self.front = (self.front + 1) % self.size\n",
    "\n",
    "        return item\n",
    "\n",
    "    def Front(self):\n",
    "        if self.is_empty():\n",
    "            return None\n",
    "        return self.queue[self.front]\n",
    "\n",
    "    def Rear(self):\n",
    "        if self.is_empty():\n",
    "            return None\n",
    "        return self.queue[self.rear]\n",
    "\n",
    "\n",
    "# Usage example:\n",
    "cq = CircularQueue(5)\n",
    "print(cq.is_empty())\n",
    "cq.enQueue(1)\n",
    "cq.enQueue(2)\n",
    "cq.enQueue(3)\n",
    "cq.enQueue(4)\n",
    "cq.enQueue(5)\n",
    "\n",
    "print(cq.is_empty())\n",
    "print(cq.is_full())\n",
    "\n",
    "print(cq.Front())\n",
    "print(cq.Rear())\n",
    "\n",
    "cq.deQueue()\n",
    "cq.deQueue()\n",
    "\n",
    "print(cq.Front())\n",
    "print(cq.Rear())"
   ]
  }
 ],
 "metadata": {
  "kernelspec": {
   "display_name": "Python 3 (ipykernel)",
   "language": "python",
   "name": "python3"
  },
  "language_info": {
   "codemirror_mode": {
    "name": "ipython",
    "version": 3
   },
   "file_extension": ".py",
   "mimetype": "text/x-python",
   "name": "python",
   "nbconvert_exporter": "python",
   "pygments_lexer": "ipython3",
   "version": "3.10.12"
  }
 },
 "nbformat": 4,
 "nbformat_minor": 5
}
