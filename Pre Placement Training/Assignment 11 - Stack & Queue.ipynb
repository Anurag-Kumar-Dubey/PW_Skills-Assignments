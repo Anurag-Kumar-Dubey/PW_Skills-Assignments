{
 "cells": [
  {
   "cell_type": "markdown",
   "id": "9b90daea",
   "metadata": {},
   "source": [
    "# Assignment 11 - Stack & Queue"
   ]
  },
  {
   "cell_type": "markdown",
   "id": "5129f629",
   "metadata": {},
   "source": [
    "Make the String Great"
   ]
  },
  {
   "cell_type": "markdown",
   "id": "c36c6fbf",
   "metadata": {},
   "source": [
    "Remove all adjacent duplicates in a String"
   ]
  },
  {
   "cell_type": "markdown",
   "id": "84cb4ef3",
   "metadata": {},
   "source": [
    "Online Stock Span"
   ]
  },
  {
   "cell_type": "markdown",
   "id": "c707b0e9",
   "metadata": {},
   "source": [
    "Time Needed to buy tickets"
   ]
  },
  {
   "cell_type": "markdown",
   "id": "ec3762db",
   "metadata": {},
   "source": [
    "Product of the last K Numbers"
   ]
  },
  {
   "cell_type": "markdown",
   "id": "6a8c90fe",
   "metadata": {},
   "source": [
    "Largest Rectangle in Histogram"
   ]
  },
  {
   "cell_type": "markdown",
   "id": "69f21e95",
   "metadata": {},
   "source": [
    "Sliding Window Maximum"
   ]
  },
  {
   "cell_type": "markdown",
   "id": "1da6f8fd",
   "metadata": {},
   "source": [
    "Design a circular queue data structure with the following operations: enQueue, deQueue, Front, Rear, and isEmpty."
   ]
  }
 ],
 "metadata": {
  "kernelspec": {
   "display_name": "Python 3 (ipykernel)",
   "language": "python",
   "name": "python3"
  },
  "language_info": {
   "codemirror_mode": {
    "name": "ipython",
    "version": 3
   },
   "file_extension": ".py",
   "mimetype": "text/x-python",
   "name": "python",
   "nbconvert_exporter": "python",
   "pygments_lexer": "ipython3",
   "version": "3.10.12"
  }
 },
 "nbformat": 4,
 "nbformat_minor": 5
}
