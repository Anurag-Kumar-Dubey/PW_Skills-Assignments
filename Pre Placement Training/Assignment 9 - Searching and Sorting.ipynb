{
 "cells": [
  {
   "cell_type": "markdown",
   "id": "e65c294f",
   "metadata": {},
   "source": [
    "# Assignment 9 - Searching and Sorting"
   ]
  },
  {
   "cell_type": "markdown",
   "id": "9c9cd8c2",
   "metadata": {},
   "source": [
    "## Question No. (1)"
   ]
  },
  {
   "cell_type": "markdown",
   "id": "868a9aa9",
   "metadata": {},
   "source": [
    "Given a 1-indexed array of integers numbers that are already sorted in non-decreasing order.\n",
    "\n",
    "find two numbers such that they add up to a specific target number. \n",
    "\n",
    "Let these two numbers be numbers[index1] and numbers[index2] where 1 <= index1 < index2 < numbers.length.\n",
    "\n",
    "Return the indices of the two numbers, index1, and index2, added by one as an integer array [index1, index2] of length 2.\n",
    "\n",
    "The tests are generated such that there is exactly one solution.\n",
    "\n",
    "You may not use the same element twice.\n",
    "\n",
    "Your solution must use only constant extra space.\n",
    "\n",
    "Input: numbers = [2,7,11,15], target = 9\n",
    "\n",
    "Output: [1,2]\n",
    "\n",
    "Explanation: The sum of 2 and 7 is 9. Therefore, index1 = 1, index2 = 2 , We return [1, 2]."
   ]
  },
  {
   "cell_type": "code",
   "execution_count": 1,
   "id": "8e256ab9",
   "metadata": {},
   "outputs": [
    {
     "name": "stdout",
     "output_type": "stream",
     "text": [
      "Output:- [1, 2]\n"
     ]
    }
   ],
   "source": [
    "def twoSum(numbers, target):\n",
    "    left = 0\n",
    "    right = len(numbers) - 1\n",
    "    \n",
    "    while left < right:\n",
    "        sum = numbers[left] + numbers[right]\n",
    "        \n",
    "        if sum == target:\n",
    "            return [left + 1, right + 1]\n",
    "        elif sum < target:\n",
    "            left += 1\n",
    "        else:\n",
    "            right -= 1\n",
    "    # No solution found\n",
    "    return []\n",
    "numbers = [2, 7, 11, 15]\n",
    "target = 9\n",
    "result = twoSum(numbers, target)\n",
    "print(\"Output:-\",result)"
   ]
  },
  {
   "cell_type": "markdown",
   "id": "1310836d",
   "metadata": {},
   "source": [
    "## Question No. (2)"
   ]
  },
  {
   "cell_type": "markdown",
   "id": "70f76156",
   "metadata": {},
   "source": [
    "Given an array of integer nums sorted in non-decreasing order.\n",
    "\n",
    "find the starting and ending position of a given target value.\n",
    "\n",
    "If the target is not found in the array, return [-1, -1].\n",
    "\n",
    "You must write an algorithm with O(log n) runtime complexity\n",
    "\n",
    "Input: nums = [5,7,7,8,8,10], target = 8\n",
    "\n",
    "Output: [3,4]"
   ]
  },
  {
   "cell_type": "code",
   "execution_count": 2,
   "id": "d10e4fbd",
   "metadata": {},
   "outputs": [
    {
     "name": "stdout",
     "output_type": "stream",
     "text": [
      "Output:- [3, 4]\n"
     ]
    }
   ],
   "source": [
    "def searchRange(nums, target):\n",
    "    left = 0\n",
    "    right = len(nums) - 1\n",
    "    start = -1\n",
    "    end = -1\n",
    "    \n",
    "    # Find leftmost index\n",
    "    while left <= right:\n",
    "        mid = (left + right) // 2\n",
    "        if nums[mid] == target:\n",
    "            start = mid\n",
    "            right = mid - 1\n",
    "        elif nums[mid] < target:\n",
    "            left = mid + 1\n",
    "        else:\n",
    "            right = mid - 1\n",
    "    \n",
    "    # Find rightmost index\n",
    "    left = 0\n",
    "    right = len(nums) - 1\n",
    "    \n",
    "    while left <= right:\n",
    "        mid = (left + right) // 2\n",
    "        if nums[mid] == target:\n",
    "            end = mid\n",
    "            left = mid + 1\n",
    "        elif nums[mid] < target:\n",
    "            left = mid + 1\n",
    "        else:\n",
    "            right = mid - 1\n",
    "    \n",
    "    if start <= end:\n",
    "        return [start, end]\n",
    "    else:\n",
    "        return [-1, -1]\n",
    "nums = [5, 7, 7, 8, 8, 10]\n",
    "target = 8\n",
    "result = searchRange(nums, target)\n",
    "print(\"Output:-\",result)"
   ]
  },
  {
   "cell_type": "markdown",
   "id": "fcdc3fc6",
   "metadata": {},
   "source": [
    "## Question No. (3)"
   ]
  },
  {
   "cell_type": "markdown",
   "id": "2684b983",
   "metadata": {},
   "source": [
    "A peak element is an element that is strictly greater than its neighbors.\n",
    "\n",
    "Given a 0-indexed integer array nums, find a peak element, and return its index.\n",
    "\n",
    "If the array contains multiple peaks, return the index to any of the peaks.\n",
    "\n",
    "You may imagine that nums[-1] = nums[n] = -∞. \n",
    "\n",
    "In other words, an element is always considered to be strictly greater than a neighbor that is outside the array.\n",
    "\n",
    "You must write an algorithm that runs in O(log n) time.\n",
    "\n",
    "Input: nums = [1,2,3,1]\n",
    "\n",
    "Output: 2\n",
    "\n",
    "Explanation: 3 is a peak element and your function should return the index number 2."
   ]
  },
  {
   "cell_type": "code",
   "execution_count": 3,
   "id": "407bf2ff",
   "metadata": {},
   "outputs": [
    {
     "name": "stdout",
     "output_type": "stream",
     "text": [
      "Output:- 2\n"
     ]
    }
   ],
   "source": [
    "def findPeakElement(nums):\n",
    "    left = 0\n",
    "    right = len(nums) - 1\n",
    "    \n",
    "    while left < right:\n",
    "        mid = left + (right - left) // 2\n",
    "        \n",
    "        if nums[mid] < nums[mid + 1]:\n",
    "            left = mid + 1\n",
    "        else:\n",
    "            right = mid\n",
    "    \n",
    "    return left\n",
    "nums = [1, 2, 3, 1]\n",
    "result = findPeakElement(nums)\n",
    "print(\"Output:-\",result)"
   ]
  },
  {
   "cell_type": "markdown",
   "id": "0b97324b",
   "metadata": {},
   "source": [
    "## Question No. (4)"
   ]
  },
  {
   "cell_type": "markdown",
   "id": "81f22c67",
   "metadata": {},
   "source": [
    "Given a sorted array of distinct integers and a target value, return the index if the target is found.\n",
    "\n",
    "If not, return the index where it would be if it were inserted in order.\n",
    "\n",
    "You must write an algorithm with O(log n) runtime complexity.\n",
    "\n",
    "Input: nums = [1,3,5,6], target = 5\n",
    "\n",
    "Output: 2\n",
    "\n",
    "Input: nums = [1,3,5,6], target = 7\n",
    "\n",
    "Output: 4"
   ]
  },
  {
   "cell_type": "code",
   "execution_count": 4,
   "id": "3c8b8acc",
   "metadata": {},
   "outputs": [
    {
     "name": "stdout",
     "output_type": "stream",
     "text": [
      "Output:- 2\n",
      "Output:- 4\n"
     ]
    }
   ],
   "source": [
    "def searchInsert(nums, target):\n",
    "    left = 0\n",
    "    right = len(nums) - 1\n",
    "    \n",
    "    while left <= right:\n",
    "        mid = left + (right - left) // 2\n",
    "        \n",
    "        if nums[mid] == target:\n",
    "            return mid\n",
    "        \n",
    "        if nums[mid] < target:\n",
    "            left = mid + 1\n",
    "        else:\n",
    "            right = mid - 1\n",
    "    \n",
    "    # Target not found, return the index to insert\n",
    "    return left\n",
    "nums = [1, 3, 5, 6]\n",
    "target = 5\n",
    "result = searchInsert(nums, target)\n",
    "print(\"Output:-\",result)  # Output: 2\n",
    "\n",
    "target = 7\n",
    "result = searchInsert(nums, target)\n",
    "print(\"Output:-\",result)  # Output: 4"
   ]
  },
  {
   "cell_type": "markdown",
   "id": "888020f5",
   "metadata": {},
   "source": [
    "## Question No. (5)"
   ]
  },
  {
   "cell_type": "markdown",
   "id": "3f84d130",
   "metadata": {},
   "source": [
    "Find the majority element in the array.\n",
    "\n",
    "A majority element in an array A[] of size n is an element that appears more than n/2 times (and hence there is at most one such element).\n",
    "\n",
    "Input: A [ ] = {3, 3, 4, 2, 4, 4, 2, 4, 4}\n",
    "\n",
    "Output: 4\n",
    "\n",
    "Explanation: The frequency of 4 is 5 which is greater than half of the size of the array size. "
   ]
  },
  {
   "cell_type": "code",
   "execution_count": 5,
   "id": "59ec6abb",
   "metadata": {},
   "outputs": [
    {
     "name": "stdout",
     "output_type": "stream",
     "text": [
      "Output:- 4\n"
     ]
    }
   ],
   "source": [
    "def majorityElement(nums):\n",
    "    candidate = None\n",
    "    count = 0\n",
    "    \n",
    "    for num in nums:\n",
    "        if count == 0:\n",
    "            candidate = num\n",
    "            count = 1\n",
    "        elif num == candidate:\n",
    "            count += 1\n",
    "        else:\n",
    "            count -= 1\n",
    "    \n",
    "    return candidate\n",
    "nums = [3, 3, 4, 2, 4, 4, 2, 4, 4]\n",
    "result = majorityElement(nums)\n",
    "print(\"Output:-\",result)"
   ]
  },
  {
   "cell_type": "markdown",
   "id": "2457070d",
   "metadata": {},
   "source": [
    "## Question No.6"
   ]
  },
  {
   "cell_type": "markdown",
   "id": "fd21f441",
   "metadata": {},
   "source": [
    "You are a product manager and currently leading a team to develop a new product.\n",
    "\n",
    "Unfortunately, the latest version of your product fails the quality check.\n",
    "\n",
    "Since each version is developed based on the previous version, all the versions after a bad version are also bad.\n",
    "\n",
    "Suppose you have n versions [1, 2, ..., n] and you want to find out the first bad one, which causes all the following ones to be bad.\n",
    "\n",
    "You are given an API bool isBadVersion(version) which returns whether the version is bad.\n",
    "\n",
    "Implement a function to find the first bad version. \n",
    "\n",
    "You should minimize the number of calls to the API.\n",
    "\n",
    "Input: n = 5, bad = 4\n",
    "\n",
    "Output: 4\n",
    "\n",
    "Explanation:\n",
    "\n",
    "call isBadVersion(3) -> false\n",
    "\n",
    "call isBadVersion(5) -> true\n",
    "\n",
    "call isBadVersion(4) -> true\n",
    "\n",
    "Then 4 is the first bad version."
   ]
  },
  {
   "cell_type": "code",
   "execution_count": 9,
   "id": "5ca736e7",
   "metadata": {},
   "outputs": [
    {
     "name": "stdout",
     "output_type": "stream",
     "text": [
      "Output:- 4\n"
     ]
    }
   ],
   "source": [
    "def first_bad_version(n):\n",
    "    low = 1\n",
    "    high = n\n",
    "    while low <= high:\n",
    "        mid = low + (high - low) // 2\n",
    "        if isBadVersion(mid):\n",
    "            high = mid - 1\n",
    "        else:\n",
    "            low = mid + 1\n",
    "    return low\n",
    "\n",
    "def isBadVersion(version):\n",
    "    # This function returns whether the given version is bad.\n",
    "    if version == 4:\n",
    "        return True\n",
    "    else:\n",
    "        return False\n",
    "result = first_bad_version(5)\n",
    "print(\"Output:-\",result)"
   ]
  },
  {
   "cell_type": "markdown",
   "id": "9a5d9b27",
   "metadata": {},
   "source": [
    "## Question No.7"
   ]
  },
  {
   "cell_type": "markdown",
   "id": "3cbc996b",
   "metadata": {},
   "source": [
    "Given an array of integers.\n",
    "\n",
    "find the inversion of an array.\n",
    "\n",
    "Formally, two elements a[i] and a[j] form an inversion if a[i] > a[j] and i < j.\n",
    "\n",
    "N=5, arr [ ] = {2, 4, 1, 3, 5}\n",
    "\n",
    "Output: 3\n",
    "\n",
    "Explanation: (2,1) (4,1) and (4,3) forms an inversion in an array"
   ]
  },
  {
   "cell_type": "code",
   "execution_count": 10,
   "id": "e54e6eef",
   "metadata": {},
   "outputs": [
    {
     "name": "stdout",
     "output_type": "stream",
     "text": [
      "Output:- 3\n"
     ]
    }
   ],
   "source": [
    "def countInversions(arr):\n",
    "    if len(arr) <= 1:\n",
    "        return 0\n",
    "    \n",
    "    mid = len(arr) // 2\n",
    "    left = arr[:mid]\n",
    "    right = arr[mid:]\n",
    "    \n",
    "    inversions = countInversions(left) + countInversions(right)\n",
    "    \n",
    "    i = j = k = 0\n",
    "    while i < len(left) and j < len(right):\n",
    "        if left[i] <= right[j]:\n",
    "            arr[k] = left[i]\n",
    "            i += 1\n",
    "        else:\n",
    "            arr[k] = right[j]\n",
    "            j += 1\n",
    "            inversions += len(left) - i\n",
    "        k += 1\n",
    "    \n",
    "    while i < len(left):\n",
    "        arr[k] = left[i]\n",
    "        i += 1\n",
    "        k += 1\n",
    "    \n",
    "    while j < len(right):\n",
    "        arr[k] = right[j]\n",
    "        j += 1\n",
    "        k += 1\n",
    "    \n",
    "    return inversions\n",
    "\n",
    "arr = [2, 4, 1, 3, 5]\n",
    "result = countInversions(arr)\n",
    "print(\"Output:-\",result)"
   ]
  },
  {
   "cell_type": "markdown",
   "id": "9438ebcc",
   "metadata": {},
   "source": [
    "## Question No.8"
   ]
  },
  {
   "cell_type": "markdown",
   "id": "e05617c1",
   "metadata": {},
   "source": [
    "Given three arrays sorted in non-decreasing order, print all common elements in these arrays.\n",
    "\n",
    "ar1[ ] = {1, 5, 10, 20, 40, 80}\n",
    "\n",
    "ar2[ ] = {6, 7, 20, 80, 100}\n",
    "\n",
    "ar3[ ] = {3, 4, 15, 20, 30, 70, 80, 120}\n",
    "\n",
    "Output:- 20, 80"
   ]
  },
  {
   "cell_type": "code",
   "execution_count": 11,
   "id": "8c82ff9e",
   "metadata": {
    "scrolled": true
   },
   "outputs": [
    {
     "name": "stdout",
     "output_type": "stream",
     "text": [
      "Output:- [20, 80]\n"
     ]
    }
   ],
   "source": [
    "def findCommonElements(ar1, ar2, ar3):\n",
    "    i = j = k = 0\n",
    "    commonElements = []\n",
    "    \n",
    "    while i < len(ar1) and j < len(ar2) and k < len(ar3):\n",
    "        if ar1[i] == ar2[j] == ar3[k]:\n",
    "            commonElements.append(ar1[i])\n",
    "            i += 1\n",
    "            j += 1\n",
    "            k += 1\n",
    "        elif ar1[i] <= ar2[j] and ar1[i] <= ar3[k]:\n",
    "            i += 1\n",
    "        elif ar2[j] <= ar1[i] and ar2[j] <= ar3[k]:\n",
    "            j += 1\n",
    "        else:\n",
    "            k += 1\n",
    "    \n",
    "    return commonElements\n",
    "ar1 = [1, 5, 10, 20, 40, 80]\n",
    "ar2 = [6, 7, 20, 80, 100]\n",
    "ar3 = [3, 4, 15, 20, 30, 70, 80, 120]\n",
    "result = findCommonElements(ar1, ar2, ar3)\n",
    "print(\"Output:-\",result)"
   ]
  }
 ],
 "metadata": {
  "kernelspec": {
   "display_name": "Python 3 (ipykernel)",
   "language": "python",
   "name": "python3"
  },
  "language_info": {
   "codemirror_mode": {
    "name": "ipython",
    "version": 3
   },
   "file_extension": ".py",
   "mimetype": "text/x-python",
   "name": "python",
   "nbconvert_exporter": "python",
   "pygments_lexer": "ipython3",
   "version": "3.11.3"
  }
 },
 "nbformat": 4,
 "nbformat_minor": 5
}
