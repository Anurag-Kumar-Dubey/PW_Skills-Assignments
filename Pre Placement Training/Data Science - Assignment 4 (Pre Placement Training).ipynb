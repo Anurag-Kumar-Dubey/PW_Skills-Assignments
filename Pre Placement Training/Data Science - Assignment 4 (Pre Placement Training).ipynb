{
 "cells": [
  {
   "cell_type": "markdown",
   "id": "2b8ae8c3",
   "metadata": {},
   "source": [
    "# Data Science - Assignment 4 (Pre Placement Training)"
   ]
  },
  {
   "cell_type": "markdown",
   "id": "e657280f",
   "metadata": {},
   "source": [
    "# General Linear Model:"
   ]
  },
  {
   "cell_type": "markdown",
   "id": "e4c2543c",
   "metadata": {},
   "source": [
    "1. What is the purpose of the General Linear Model (GLM)?"
   ]
  },
  {
   "cell_type": "raw",
   "id": "6995574f",
   "metadata": {},
   "source": [
    "The purpose of the General Linear Model (GLM) is to model and analyze the relationship between dependent variables (responses) and one or more independent variables (predictors) in a linear fashion. It is a flexible and widely used statistical framework that encompasses various regression and analysis of variance (ANOVA) techniques."
   ]
  },
  {
   "cell_type": "markdown",
   "id": "8d078dc5",
   "metadata": {},
   "source": [
    "2. What are the key assumptions of the General Linear Model?"
   ]
  },
  {
   "cell_type": "raw",
   "id": "0dee6493",
   "metadata": {},
   "source": [
    "The key assumptions of the General Linear Model include:\n",
    "   a) Linearity: The relationship between the predictors and the response is linear.\n",
    "   b) Independence: Observations are independent of each other.\n",
    "   c) Homoscedasticity: The variability of the response variable is constant across all levels of the predictors.\n",
    "   d) Normality: The residuals (the differences between the observed and predicted values) are normally distributed."
   ]
  },
  {
   "cell_type": "markdown",
   "id": "33a05940",
   "metadata": {},
   "source": [
    "3. How do you interpret the coefficients in a GLM?"
   ]
  },
  {
   "cell_type": "raw",
   "id": "c894396d",
   "metadata": {},
   "source": [
    "The coefficients in a GLM represent the estimated effects of the predictors on the response variable. Each coefficient indicates the change in the mean response for a one-unit change in the corresponding predictor, assuming all other predictors are held constant. The sign of the coefficient (+/-) indicates the direction of the relationship, while the magnitude represents the strength of the relationship."
   ]
  },
  {
   "cell_type": "markdown",
   "id": "1a41ea1b",
   "metadata": {},
   "source": [
    "4. What is the difference between a univariate and multivariate GLM?"
   ]
  },
  {
   "cell_type": "markdown",
   "id": "59237ac7",
   "metadata": {},
   "source": [
    "A univariate GLM involves a single dependent variable and one or more independent variables, whereas a multivariate GLM involves multiple dependent variables and one or more independent variables. Univariate GLMs are used when analyzing the relationship between a single response and predictors, while multivariate GLMs are suitable for examining relationships between multiple responses and predictors simultaneously."
   ]
  },
  {
   "cell_type": "markdown",
   "id": "2f3ca1ae",
   "metadata": {},
   "source": [
    "5. Explain the concept of interaction effects in a GLM."
   ]
  },
  {
   "cell_type": "raw",
   "id": "be384db7",
   "metadata": {},
   "source": [
    "Interaction effects in a GLM occur when the relationship between one predictor and the response variable depends on the level or value of another predictor. In other words, the effect of one predictor on the response variable is not constant but varies according to the presence or absence of another predictor. Interaction effects can be represented by additional terms in the GLM equation, allowing for a more nuanced understanding of the relationships between predictors and the response."
   ]
  },
  {
   "cell_type": "markdown",
   "id": "81865ebf",
   "metadata": {},
   "source": [
    "6. How do you handle categorical predictors in a GLM?"
   ]
  },
  {
   "cell_type": "raw",
   "id": "0b97d2ea",
   "metadata": {},
   "source": [
    "Categorical predictors in a GLM are typically represented using indicator variables, also known as dummy variables. Each category of the categorical predictor is encoded as a separate binary variable (0 or 1). For example, if a categorical predictor has three levels (A, B, C), two indicator variables may be created: one for level A (0 or 1) and another for level B (0 or 1). These indicator variables are then included as predictors in the GLM."
   ]
  },
  {
   "cell_type": "markdown",
   "id": "b76fcd60",
   "metadata": {},
   "source": [
    "7. What is the purpose of the design matrix in a GLM?"
   ]
  },
  {
   "cell_type": "raw",
   "id": "086f48d8",
   "metadata": {},
   "source": [
    "The design matrix in a GLM is a matrix of predictors that represents the relationship between the independent variables and the response variable. Each column in the design matrix corresponds to a predictor, including both continuous and categorical predictors. The design matrix is used to estimate the regression coefficients and perform statistical inference in the GLM."
   ]
  },
  {
   "cell_type": "markdown",
   "id": "48a3b5e4",
   "metadata": {},
   "source": [
    "8. How do you test the significance of predictors in a GLM?"
   ]
  },
  {
   "cell_type": "raw",
   "id": "f8827311",
   "metadata": {},
   "source": [
    "The significance of predictors in a GLM can be tested using hypothesis tests, such as the t-test or F-test. These tests examine whether the estimated coefficients are significantly different from zero, indicating a significant relationship between the predictor and the response variable. The p-value associated with each predictor provides a measure of the evidence against the null hypothesis of no effect."
   ]
  },
  {
   "cell_type": "markdown",
   "id": "95ac8b8a",
   "metadata": {},
   "source": [
    "9. What is the difference between Type I, Type II, and Type III sums of squares in a GLM?"
   ]
  },
  {
   "cell_type": "raw",
   "id": "902a4894",
   "metadata": {},
   "source": [
    "Type I, Type II, and Type III sums of squares are methods used to partition the variability in the response variable among the predictors in a GLM when there are multiple predictors or interactions. The choice of the type of sums of squares affects the order in which the predictors are entered into the model and can influence the interpretation of the coefficients. The specific definitions and interpretations of these sums of squares can vary depending on the context and software used."
   ]
  },
  {
   "cell_type": "markdown",
   "id": "cc0cbe80",
   "metadata": {},
   "source": [
    "10. Explain the concept of deviance in a GLM."
   ]
  },
  {
   "cell_type": "raw",
   "id": "503a9610",
   "metadata": {},
   "source": [
    "In a GLM, deviance is a measure of the lack of fit between the observed data and the fitted model. It is analogous to the concept of residuals in a linear regression. Deviance is calculated as the difference between the observed log-likelihood of the data under the fitted model and the maximum log-likelihood achievable by the model. It serves as a basis for comparing different GLM models, assessing goodness of fit, and conducting model selection based on information criteria such as AIC (Akaike Information Criterion) or BIC (Bayesian Information Criterion). Lower deviance values indicate a better fit of the model to the data."
   ]
  },
  {
   "cell_type": "markdown",
   "id": "870d978c",
   "metadata": {},
   "source": [
    "# Regression:"
   ]
  },
  {
   "cell_type": "markdown",
   "id": "d7de0120",
   "metadata": {},
   "source": [
    "11. What is regression analysis and what is its purpose?"
   ]
  },
  {
   "cell_type": "raw",
   "id": "04308b4f",
   "metadata": {},
   "source": [
    "Regression analysis is a statistical technique used to model the relationship between a dependent variable (also known as the response variable or outcome) and one or more independent variables (also known as predictors or explanatory variables). The purpose of regression analysis is to understand and quantify the nature and strength of the relationship between the variables, make predictions, and infer causal relationships."
   ]
  },
  {
   "cell_type": "markdown",
   "id": "2a5f90b9",
   "metadata": {},
   "source": [
    "12. What is the difference between simple linear regression and multiple linear regression?"
   ]
  },
  {
   "cell_type": "raw",
   "id": "e73cefc7",
   "metadata": {},
   "source": [
    "Simple linear regression involves modeling the relationship between a single dependent variable and a single independent variable, assuming a linear relationship. Multiple linear regression, on the other hand, allows for the modeling of the relationship between a dependent variable and multiple independent variables simultaneously. It enables the examination of the unique contributions of each independent variable while accounting for their interdependencies."
   ]
  },
  {
   "cell_type": "markdown",
   "id": "12be100e",
   "metadata": {},
   "source": [
    "13. How do you interpret the R-squared value in regression?"
   ]
  },
  {
   "cell_type": "raw",
   "id": "e47f3f69",
   "metadata": {},
   "source": [
    "The R-squared value in regression, also known as the coefficient of determination, is a measure of how well the regression model fits the observed data. It represents the proportion of the total variability in the dependent variable that is explained by the independent variables. R-squared ranges from 0 to 1, where a value of 1 indicates that the model explains all the variability, and a value of 0 indicates that the model does not explain any of the variability. However, R-squared alone does not provide information about the validity or significance of the model."
   ]
  },
  {
   "cell_type": "markdown",
   "id": "54f28bc1",
   "metadata": {},
   "source": [
    "14. What is the difference between correlation and regression?"
   ]
  },
  {
   "cell_type": "raw",
   "id": "e15abbed",
   "metadata": {},
   "source": [
    "Correlation measures the strength and direction of the linear relationship between two variables, without distinguishing between dependent and independent variables. It provides a measure of association between variables, but does not imply causation. Regression, on the other hand, examines the relationship between a dependent variable and one or more independent variables, with the goal of understanding the effect of the independent variables on the dependent variable and making predictions."
   ]
  },
  {
   "cell_type": "markdown",
   "id": "a6529d8b",
   "metadata": {},
   "source": [
    "15. What is the difference between the coefficients and the intercept in regression?"
   ]
  },
  {
   "cell_type": "raw",
   "id": "7ec81506",
   "metadata": {},
   "source": [
    "In regression, the coefficients (also known as regression coefficients or regression parameters) represent the estimated effects of the independent variables on the dependent variable. Each coefficient indicates the change in the dependent variable associated with a one-unit change in the corresponding independent variable, assuming all other variables are held constant. The intercept (or constant term) represents the estimated value of the dependent variable when all the independent variables are zero."
   ]
  },
  {
   "cell_type": "markdown",
   "id": "bf574eae",
   "metadata": {},
   "source": [
    "16. How do you handle outliers in regression analysis?"
   ]
  },
  {
   "cell_type": "raw",
   "id": "068b8c37",
   "metadata": {},
   "source": [
    "Outliers in regression analysis are data points that significantly deviate from the overall pattern of the data. They can have a substantial impact on the estimated regression coefficients and the overall fit of the model. Handling outliers depends on the specific context and goals of the analysis. Options include removing outliers if they are measurement errors, transforming the variables, using robust regression techniques that are less sensitive to outliers, or analyzing the data with and without outliers to assess their influence on the results."
   ]
  },
  {
   "cell_type": "markdown",
   "id": "7283fe47",
   "metadata": {},
   "source": [
    "17. What is the difference between ridge regression and ordinary least squares regression?"
   ]
  },
  {
   "cell_type": "raw",
   "id": "dee81035",
   "metadata": {},
   "source": [
    "Ordinary least squares (OLS) regression is a widely used method that aims to minimize the sum of squared differences between the observed and predicted values of the dependent variable. It assumes that the errors (residuals) are normally distributed and have constant variance. Ridge regression, on the other hand, is a regularization technique that can be used when there is multicollinearity (high correlation) among the independent variables. It introduces a penalty term that shrinks the regression coefficients, reducing the impact of multicollinearity and potentially improving the stability and generalization of the model."
   ]
  },
  {
   "cell_type": "markdown",
   "id": "cd807a42",
   "metadata": {},
   "source": [
    "18. What is heteroscedasticity in regression and how does it affect the model?"
   ]
  },
  {
   "cell_type": "raw",
   "id": "de19f8d3",
   "metadata": {},
   "source": [
    "Heteroscedasticity in regression refers to the situation where the variability (spread) of the residuals (the differences between the observed and predicted values) is not constant across the range of the independent variables. This violates the assumption of homoscedasticity in regression. Heteroscedasticity can affect the accuracy and precision of the regression coefficients and lead to biased standard errors and incorrect hypothesis testing. To address heteroscedasticity, transformations of variables, weighted least squares regression, or robust regression techniques can be used."
   ]
  },
  {
   "cell_type": "markdown",
   "id": "63018185",
   "metadata": {},
   "source": [
    "19. How do you handle multicollinearity in regression analysis?"
   ]
  },
  {
   "cell_type": "raw",
   "id": "e815d86a",
   "metadata": {},
   "source": [
    "Multicollinearity in regression occurs when there is a high correlation between independent variables, making it difficult to distinguish the individual effects of the variables on the dependent variable. It can lead to unstable and unreliable regression coefficients. To handle multicollinearity, some approaches include removing highly correlated variables, combining correlated variables into composite variables, or using regularization techniques such as ridge regression or lasso regression."
   ]
  },
  {
   "cell_type": "markdown",
   "id": "494faee3",
   "metadata": {},
   "source": [
    "20. What is polynomial regression and when is it used?"
   ]
  },
  {
   "cell_type": "raw",
   "id": "5828639a",
   "metadata": {},
   "source": [
    "Polynomial regression is a form of regression analysis that models the relationship between the dependent variable and the independent variable(s) as an nth-degree polynomial function. It is used when the relationship between the variables is not linear but can be better approximated by a curve. Polynomial regression allows for capturing nonlinear relationships in the data. However, it is important to exercise caution when using higher-degree polynomials, as they can lead to overfitting the data and poor generalization to new observations."
   ]
  },
  {
   "cell_type": "markdown",
   "id": "b9a728f9",
   "metadata": {},
   "source": [
    "# Loss function:"
   ]
  },
  {
   "cell_type": "markdown",
   "id": "59280509",
   "metadata": {},
   "source": [
    "21. What is a loss function and what is its purpose in machine learning?"
   ]
  },
  {
   "cell_type": "code",
   "execution_count": null,
   "id": "894d3112",
   "metadata": {},
   "outputs": [],
   "source": []
  },
  {
   "cell_type": "markdown",
   "id": "a9246c8b",
   "metadata": {},
   "source": [
    "22. What is the difference between a convex and non-convex loss function?"
   ]
  },
  {
   "cell_type": "code",
   "execution_count": null,
   "id": "982d43d6",
   "metadata": {},
   "outputs": [],
   "source": []
  },
  {
   "cell_type": "markdown",
   "id": "827b1e92",
   "metadata": {},
   "source": [
    "23. What is mean squared error (MSE) and how is it calculated?"
   ]
  },
  {
   "cell_type": "code",
   "execution_count": null,
   "id": "3c3e09f8",
   "metadata": {},
   "outputs": [],
   "source": []
  },
  {
   "cell_type": "markdown",
   "id": "9bba6db1",
   "metadata": {},
   "source": [
    "24. What is mean absolute error (MAE) and how is it calculated?"
   ]
  },
  {
   "cell_type": "code",
   "execution_count": null,
   "id": "a6436ed4",
   "metadata": {},
   "outputs": [],
   "source": []
  },
  {
   "cell_type": "markdown",
   "id": "01a3e439",
   "metadata": {},
   "source": [
    "25. What is log loss (cross-entropy loss) and how is it calculated?"
   ]
  },
  {
   "cell_type": "code",
   "execution_count": null,
   "id": "5846fc79",
   "metadata": {},
   "outputs": [],
   "source": []
  },
  {
   "cell_type": "markdown",
   "id": "0836271b",
   "metadata": {},
   "source": [
    "26. How do you choose the appropriate loss function for a given problem?"
   ]
  },
  {
   "cell_type": "code",
   "execution_count": null,
   "id": "cf80778c",
   "metadata": {},
   "outputs": [],
   "source": []
  },
  {
   "cell_type": "markdown",
   "id": "e5d8bebd",
   "metadata": {},
   "source": [
    "27. Explain the concept of regularization in the context of loss functions."
   ]
  },
  {
   "cell_type": "code",
   "execution_count": null,
   "id": "08498dec",
   "metadata": {},
   "outputs": [],
   "source": []
  },
  {
   "cell_type": "markdown",
   "id": "6cd251e7",
   "metadata": {},
   "source": [
    "28. What is Huber loss and how does it handle outliers?"
   ]
  },
  {
   "cell_type": "code",
   "execution_count": null,
   "id": "b71f1b27",
   "metadata": {},
   "outputs": [],
   "source": []
  },
  {
   "cell_type": "markdown",
   "id": "7e17f49b",
   "metadata": {},
   "source": [
    "29. What is quantile loss and when is it used?"
   ]
  },
  {
   "cell_type": "code",
   "execution_count": null,
   "id": "225d9773",
   "metadata": {},
   "outputs": [],
   "source": []
  },
  {
   "cell_type": "markdown",
   "id": "9bdb533d",
   "metadata": {},
   "source": [
    "30. What is the difference between squared loss and absolute loss?"
   ]
  },
  {
   "cell_type": "code",
   "execution_count": null,
   "id": "01fc6bb0",
   "metadata": {},
   "outputs": [],
   "source": []
  },
  {
   "cell_type": "markdown",
   "id": "4f942fc8",
   "metadata": {},
   "source": [
    "# Optimizer (GD):"
   ]
  },
  {
   "cell_type": "markdown",
   "id": "0d51276c",
   "metadata": {},
   "source": [
    "31. What is an optimizer and what is its purpose in machine learning?"
   ]
  },
  {
   "cell_type": "code",
   "execution_count": null,
   "id": "e8627b5b",
   "metadata": {},
   "outputs": [],
   "source": []
  },
  {
   "cell_type": "markdown",
   "id": "1591a233",
   "metadata": {},
   "source": [
    "32. What is Gradient Descent (GD) and how does it work?"
   ]
  },
  {
   "cell_type": "code",
   "execution_count": null,
   "id": "4cb81ef7",
   "metadata": {},
   "outputs": [],
   "source": []
  },
  {
   "cell_type": "markdown",
   "id": "43acec66",
   "metadata": {},
   "source": [
    "33. What are the different variations of Gradient Descent?"
   ]
  },
  {
   "cell_type": "code",
   "execution_count": null,
   "id": "893bcb54",
   "metadata": {},
   "outputs": [],
   "source": []
  },
  {
   "cell_type": "markdown",
   "id": "a60fe81f",
   "metadata": {},
   "source": [
    "34. What is the learning rate in GD and how do you choose an appropriate value?"
   ]
  },
  {
   "cell_type": "code",
   "execution_count": null,
   "id": "be331767",
   "metadata": {},
   "outputs": [],
   "source": []
  },
  {
   "cell_type": "markdown",
   "id": "1d6cde18",
   "metadata": {},
   "source": [
    "35. How does GD handle local optima in optimization problems?"
   ]
  },
  {
   "cell_type": "code",
   "execution_count": null,
   "id": "6f37fa0e",
   "metadata": {},
   "outputs": [],
   "source": []
  },
  {
   "cell_type": "markdown",
   "id": "7e6af6ed",
   "metadata": {},
   "source": [
    "36. What is Stochastic Gradient Descent (SGD) and how does it differ from GD?"
   ]
  },
  {
   "cell_type": "code",
   "execution_count": null,
   "id": "c63a4441",
   "metadata": {},
   "outputs": [],
   "source": []
  },
  {
   "cell_type": "markdown",
   "id": "2bf69f49",
   "metadata": {},
   "source": [
    "37. Explain the concept of batch size in GD and its impact on training."
   ]
  },
  {
   "cell_type": "code",
   "execution_count": null,
   "id": "1c7d22e4",
   "metadata": {},
   "outputs": [],
   "source": []
  },
  {
   "cell_type": "markdown",
   "id": "4668ccb8",
   "metadata": {},
   "source": [
    "38. What is the role of momentum in optimization algorithms?"
   ]
  },
  {
   "cell_type": "code",
   "execution_count": null,
   "id": "3bd35dd3",
   "metadata": {},
   "outputs": [],
   "source": []
  },
  {
   "cell_type": "markdown",
   "id": "d0fc3f94",
   "metadata": {},
   "source": [
    "39. What is the difference between batch GD, mini-batch GD, and SGD?"
   ]
  },
  {
   "cell_type": "code",
   "execution_count": null,
   "id": "ef4bfe1c",
   "metadata": {},
   "outputs": [],
   "source": []
  },
  {
   "cell_type": "markdown",
   "id": "1cfc3ee9",
   "metadata": {},
   "source": [
    "40. How does the learning rate affect the convergence of GD?"
   ]
  },
  {
   "cell_type": "code",
   "execution_count": null,
   "id": "d898059e",
   "metadata": {},
   "outputs": [],
   "source": []
  },
  {
   "cell_type": "markdown",
   "id": "c856c6a7",
   "metadata": {},
   "source": [
    "# Regularization:"
   ]
  },
  {
   "cell_type": "code",
   "execution_count": null,
   "id": "e91f41f1",
   "metadata": {},
   "outputs": [],
   "source": []
  },
  {
   "cell_type": "markdown",
   "id": "537fa50d",
   "metadata": {},
   "source": [
    "41. What is regularization and why is it used in machine learning?"
   ]
  },
  {
   "cell_type": "code",
   "execution_count": null,
   "id": "c87700f5",
   "metadata": {},
   "outputs": [],
   "source": []
  },
  {
   "cell_type": "markdown",
   "id": "2401622b",
   "metadata": {},
   "source": [
    "42. What is the difference between L1 and L2 regularization?"
   ]
  },
  {
   "cell_type": "code",
   "execution_count": null,
   "id": "1498a37b",
   "metadata": {},
   "outputs": [],
   "source": []
  },
  {
   "cell_type": "markdown",
   "id": "ace64aa0",
   "metadata": {},
   "source": [
    "43. Explain the concept of ridge regression and its role in regularization."
   ]
  },
  {
   "cell_type": "code",
   "execution_count": null,
   "id": "be1aff4f",
   "metadata": {},
   "outputs": [],
   "source": []
  },
  {
   "cell_type": "markdown",
   "id": "c9977e75",
   "metadata": {},
   "source": [
    "44. What is the elastic net regularization and how does it combine L1 and L2 penalties?"
   ]
  },
  {
   "cell_type": "code",
   "execution_count": null,
   "id": "a3ee27f8",
   "metadata": {},
   "outputs": [],
   "source": []
  },
  {
   "cell_type": "markdown",
   "id": "fc9f9f37",
   "metadata": {},
   "source": [
    "45. How does regularization help prevent overfitting in machine learning models?"
   ]
  },
  {
   "cell_type": "code",
   "execution_count": null,
   "id": "70d5cc63",
   "metadata": {},
   "outputs": [],
   "source": []
  },
  {
   "cell_type": "markdown",
   "id": "e09b2ae2",
   "metadata": {},
   "source": [
    "46. What is early stopping and how does it relate to regularization?"
   ]
  },
  {
   "cell_type": "code",
   "execution_count": null,
   "id": "8668bcc4",
   "metadata": {},
   "outputs": [],
   "source": []
  },
  {
   "cell_type": "markdown",
   "id": "bf52f249",
   "metadata": {},
   "source": [
    "47. Explain the concept of dropout regularization in neural networks."
   ]
  },
  {
   "cell_type": "code",
   "execution_count": null,
   "id": "30419998",
   "metadata": {},
   "outputs": [],
   "source": []
  },
  {
   "cell_type": "markdown",
   "id": "07b0d134",
   "metadata": {},
   "source": [
    "48. How do you choose the regularization parameter in a model?"
   ]
  },
  {
   "cell_type": "code",
   "execution_count": null,
   "id": "0649c702",
   "metadata": {},
   "outputs": [],
   "source": []
  },
  {
   "cell_type": "markdown",
   "id": "1a9435f9",
   "metadata": {},
   "source": [
    "49. What is the difference between feature selection and regularization?"
   ]
  },
  {
   "cell_type": "code",
   "execution_count": null,
   "id": "33713e06",
   "metadata": {},
   "outputs": [],
   "source": []
  },
  {
   "cell_type": "markdown",
   "id": "0b2eb5d7",
   "metadata": {},
   "source": [
    "50. What is the trade-off between bias and variance in regularized models?"
   ]
  },
  {
   "cell_type": "code",
   "execution_count": null,
   "id": "5e940def",
   "metadata": {},
   "outputs": [],
   "source": []
  },
  {
   "cell_type": "markdown",
   "id": "aaa071ed",
   "metadata": {},
   "source": [
    "# Decision Trees:"
   ]
  },
  {
   "cell_type": "markdown",
   "id": "18778640",
   "metadata": {},
   "source": [
    "61. What is a decision tree and how does it work?"
   ]
  },
  {
   "cell_type": "code",
   "execution_count": null,
   "id": "76b35d5d",
   "metadata": {},
   "outputs": [],
   "source": []
  },
  {
   "cell_type": "markdown",
   "id": "b7ea73b6",
   "metadata": {},
   "source": [
    "62. How do you make splits in a decision tree?"
   ]
  },
  {
   "cell_type": "code",
   "execution_count": null,
   "id": "9a84b73c",
   "metadata": {},
   "outputs": [],
   "source": []
  },
  {
   "cell_type": "markdown",
   "id": "2d81ffdc",
   "metadata": {},
   "source": [
    "63. What are impurity measures (e.g., Gini index, entropy) and how are they used in decision trees?"
   ]
  },
  {
   "cell_type": "code",
   "execution_count": null,
   "id": "0cdb7d47",
   "metadata": {},
   "outputs": [],
   "source": []
  },
  {
   "cell_type": "markdown",
   "id": "32fe21a4",
   "metadata": {},
   "source": [
    "64. Explain the concept of information gain in decision trees."
   ]
  },
  {
   "cell_type": "code",
   "execution_count": null,
   "id": "7202ab1a",
   "metadata": {},
   "outputs": [],
   "source": []
  },
  {
   "cell_type": "markdown",
   "id": "0c7c415d",
   "metadata": {},
   "source": [
    "65. How do you handle missing values in decision trees?"
   ]
  },
  {
   "cell_type": "code",
   "execution_count": null,
   "id": "d0fbc1d3",
   "metadata": {},
   "outputs": [],
   "source": []
  },
  {
   "cell_type": "markdown",
   "id": "71d4205b",
   "metadata": {},
   "source": [
    "66. What is pruning in decision trees and why is it important?"
   ]
  },
  {
   "cell_type": "code",
   "execution_count": null,
   "id": "43d4ed3b",
   "metadata": {},
   "outputs": [],
   "source": []
  },
  {
   "cell_type": "markdown",
   "id": "83838b4d",
   "metadata": {},
   "source": [
    "67. What is the difference between a classification tree and a regression tree?"
   ]
  },
  {
   "cell_type": "code",
   "execution_count": null,
   "id": "2b6a6aec",
   "metadata": {},
   "outputs": [],
   "source": []
  },
  {
   "cell_type": "markdown",
   "id": "8fd113c4",
   "metadata": {},
   "source": [
    "68. How do you interpret the decision boundaries in a decision tree?"
   ]
  },
  {
   "cell_type": "code",
   "execution_count": null,
   "id": "e02cc0fc",
   "metadata": {},
   "outputs": [],
   "source": []
  },
  {
   "cell_type": "markdown",
   "id": "12a841c3",
   "metadata": {},
   "source": [
    "69. What is the role of feature importance in decision trees?"
   ]
  },
  {
   "cell_type": "code",
   "execution_count": null,
   "id": "1ef56bfe",
   "metadata": {},
   "outputs": [],
   "source": []
  },
  {
   "cell_type": "markdown",
   "id": "a76b19b6",
   "metadata": {},
   "source": [
    "70. What are ensemble techniques and how are they related to decision trees?"
   ]
  },
  {
   "cell_type": "code",
   "execution_count": null,
   "id": "cae677e0",
   "metadata": {},
   "outputs": [],
   "source": []
  },
  {
   "cell_type": "markdown",
   "id": "da7451c2",
   "metadata": {},
   "source": [
    "# Ensemble Techniques:"
   ]
  },
  {
   "cell_type": "markdown",
   "id": "a25f15cd",
   "metadata": {},
   "source": [
    "71. What are ensemble techniques in machine learning?"
   ]
  },
  {
   "cell_type": "code",
   "execution_count": null,
   "id": "a49572ae",
   "metadata": {},
   "outputs": [],
   "source": []
  },
  {
   "cell_type": "markdown",
   "id": "c9da48ec",
   "metadata": {},
   "source": [
    "72. What is bagging and how is it used in ensemble learning?"
   ]
  },
  {
   "cell_type": "code",
   "execution_count": null,
   "id": "5475e20b",
   "metadata": {},
   "outputs": [],
   "source": []
  },
  {
   "cell_type": "markdown",
   "id": "ca4dbd72",
   "metadata": {},
   "source": [
    "73. Explain the concept of bootstrapping in bagging."
   ]
  },
  {
   "cell_type": "code",
   "execution_count": null,
   "id": "828fbbd3",
   "metadata": {},
   "outputs": [],
   "source": []
  },
  {
   "cell_type": "markdown",
   "id": "02bc3138",
   "metadata": {},
   "source": [
    "74. What is boosting and how does it work?"
   ]
  },
  {
   "cell_type": "code",
   "execution_count": null,
   "id": "f23b4615",
   "metadata": {},
   "outputs": [],
   "source": []
  },
  {
   "cell_type": "markdown",
   "id": "2372ab53",
   "metadata": {},
   "source": [
    "75. What is the difference between AdaBoost and Gradient Boosting?"
   ]
  },
  {
   "cell_type": "code",
   "execution_count": null,
   "id": "d4513192",
   "metadata": {},
   "outputs": [],
   "source": []
  },
  {
   "cell_type": "markdown",
   "id": "630894f5",
   "metadata": {},
   "source": [
    "76. What is the purpose of random forests in ensemble learning?\n"
   ]
  },
  {
   "cell_type": "code",
   "execution_count": null,
   "id": "7843cdc5",
   "metadata": {},
   "outputs": [],
   "source": []
  },
  {
   "cell_type": "markdown",
   "id": "ce7fd1bd",
   "metadata": {},
   "source": [
    "77. How do random forests handle feature importance?"
   ]
  },
  {
   "cell_type": "code",
   "execution_count": null,
   "id": "1b306a28",
   "metadata": {},
   "outputs": [],
   "source": []
  },
  {
   "cell_type": "markdown",
   "id": "5631cd8d",
   "metadata": {},
   "source": [
    "78. What is stacking in ensemble learning and how does it work?"
   ]
  },
  {
   "cell_type": "code",
   "execution_count": null,
   "id": "bf7e9c08",
   "metadata": {},
   "outputs": [],
   "source": []
  },
  {
   "cell_type": "markdown",
   "id": "34767cb3",
   "metadata": {},
   "source": [
    "79. What are the advantages and disadvantages of ensemble techniques?"
   ]
  },
  {
   "cell_type": "code",
   "execution_count": null,
   "id": "f96edb17",
   "metadata": {},
   "outputs": [],
   "source": []
  },
  {
   "cell_type": "markdown",
   "id": "246927fb",
   "metadata": {},
   "source": [
    "80. How do you choose the optimal number of models in an ensemble?"
   ]
  },
  {
   "cell_type": "code",
   "execution_count": null,
   "id": "fed6cc74",
   "metadata": {},
   "outputs": [],
   "source": []
  }
 ],
 "metadata": {
  "kernelspec": {
   "display_name": "Python 3 (ipykernel)",
   "language": "python",
   "name": "python3"
  },
  "language_info": {
   "codemirror_mode": {
    "name": "ipython",
    "version": 3
   },
   "file_extension": ".py",
   "mimetype": "text/x-python",
   "name": "python",
   "nbconvert_exporter": "python",
   "pygments_lexer": "ipython3",
   "version": "3.11.3"
  }
 },
 "nbformat": 4,
 "nbformat_minor": 5
}
