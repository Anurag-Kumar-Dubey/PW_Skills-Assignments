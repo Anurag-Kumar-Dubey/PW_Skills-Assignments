{
 "cells": [
  {
   "cell_type": "markdown",
   "id": "d9909147",
   "metadata": {},
   "source": [
    "# Assignment 1 - Soft Skills"
   ]
  },
  {
   "cell_type": "markdown",
   "id": "fd8a712a",
   "metadata": {},
   "source": [
    "## BACKGROUND QUESTIONS\n",
    "1. Can you tell me about yourself?\n",
    "2. What are your greatest strengths?\n",
    "3. What are your greatest weaknesses?\n",
    "4. Why should I hire you?\n",
    "5. Where do you see yourself in five years?\n",
    "6. Can you describe your ideal company, location and job?\n",
    "7. Why do you want to work for our company?\n",
    "8. What are your career options at the moment?\n",
    "9. Are you able to work under pressure?\n",
    "10. Are you willing to relocate or travel?\n",
    "11. Why have you had multiple jobs?\n",
    "12. May I contact your current employer for a reference?\n",
    "13. How many hours do you normally work per week?\n",
    "14. Have you considered starting your own business?\n",
    "15. What are your goals?\n",
    "16. Can you sell me this stapler/pen/pencil?\n",
    "17. What salary are you expecting?\n",
    "18. How do you define success?\n",
    "19. Do you consider yourself successful?\n",
    "20. How do you handle criticisms and stress?\n",
    "21. Are you willing to relocate?\n",
    "22. What choices do you have at the moment?\n",
    "23. BSc/BCA vs Engineering\n",
    "24. Postgraduate studies vs Job\n",
    "25. Job vs Research\n",
    "26. What motivates you? Personal or professional goals?\n",
    "27. How do you validate yourself and your work?\n",
    "28. How do others perceive you compared to how you perceive yourself?\n",
    "29. Who do you get along with and who don’t you get along with at work?\n",
    "30. How do you handle setbacks, disappointments, failures and deadlines?\n",
    "31. Do you prefer working independently or as part of a team?\n",
    "32. How do you deal with disagreements?\n",
    "33. Ethics vs Morality\n",
    "\n",
    "\n",
    "\n",
    "\n",
    "\n",
    "\n"
   ]
  },
  {
   "cell_type": "markdown",
   "id": "0b5c3b76",
   "metadata": {},
   "source": [
    "## BEHAVIOURAL QUESTIONS\n",
    "## COMPETENCY BASED TECHNICAL QUESTIONS\n",
    "## CAR strategy: Challenge/Action/Result\n",
    "## STAR strategy : Situation / Task /Action / Result\n",
    "34. What is your greatest achievement? When did it happen?\n",
    "35. What is the greatest challenge that you have faced? How did you overcome it?\n",
    "36. What is the biggest adversity that you have faced? How did you persist through it?\n",
    "37. What is the biggest setback that you have faced? How did you deal with it?\n",
    "38. What is the biggest mistake that you have made? What did you do after making it?\n",
    "39. What initiatives have you taken in your career so far?\n",
    "40. How have you worked on self-development and improvement?"
   ]
  },
  {
   "cell_type": "markdown",
   "id": "d04e1cf5",
   "metadata": {},
   "source": [
    "## PEOPLE HANDLING\n",
    "41. How have you dealt with difficult people at work in the past?\n",
    "42. What part of a team that worked on a project are you most proud of?\n",
    "43. Have there been instances where someone’s behaviour changed because of something that you said or did?\n",
    "44. Have there been instances where someone asked for something from you but had to say no?"
   ]
  },
  {
   "cell_type": "markdown",
   "id": "c8a78dc3",
   "metadata": {},
   "source": [
    "## DECISION MAKING\n",
    "45. What was the most difficult problem that required decision making that came up in your career so far? How did you tackle it?\n",
    "46. Can you tell me about a difficult problem you faced and how you tackled it?\n",
    "47. Can you describe a situation where you made a bad decision?\n",
    "48. Can you describe a situation where you were creative?"
   ]
  },
  {
   "cell_type": "markdown",
   "id": "60e27227",
   "metadata": {},
   "source": [
    "## INTEREST BASED\n",
    "49. What is the last book you read?\n",
    "50. Who in your life has inspired you?\n",
    "51. What was the last news story that caught your eye?\n",
    "52. What was the last film you saw?\n",
    "53. If you were an animal, what would you be?\n",
    "54. Can you tell me a story?\n",
    "55. If you could meet anyone living or dead, who would it be and why?\n",
    "56. Who do you admire and why?\n",
    "57. What kind of manager would you like to work for?\n",
    "58. How many cars are there in India/Australia?\n",
    "59. If we looked at your social media profile, what impression do you think it would give us of you?"
   ]
  },
  {
   "cell_type": "markdown",
   "id": "4882f633",
   "metadata": {},
   "source": [
    "## HANDLING NEGATIVE QUESTIONS\n",
    "60. Can you explain why you think that you are the right person for this job?\n",
    "61. How do your skills and experience make you stand out from other candidates?\n",
    "62. Do you prefer working regular hours and routine working patterns?\n",
    "63. How do you feel about paperwork and other bureaucratic practices?\n",
    "64. Have there been instances where you had to break rules to get a job done?\n",
    "65. What are some of your personality traits that could be improved upon?\n",
    "66. How will your past experiences help prepare you for this job?\n",
    "67. How have your past experiences prepared you to take on more responsibility? 68. Do you ever work outside of normal business hours?\n",
    "68. What prevented you from achieving more in your last job?\n",
    "69. Do you have experience that is relevant to this job?\n",
    "70. Are there any reasons why we should not hire someone who is overqualified for the job?\n",
    "71. Have there been instances where you were fired from a job?\n",
    "72. What keeps you up at night when it comes to work?\n",
    "73. How would you rate me as an interviewer?\n",
    "74. Is there anything that I should avoid asking during this interview?\n",
    "75. Have there been instances where you doubted your ability to do a job?\n",
    "76. Do you consider losing your temper as a weakness?\n",
    "77. When was the last time that work made you feel frustrated?\n",
    "78. Are there any issues with travelling for work?"
   ]
  },
  {
   "cell_type": "markdown",
   "id": "70effa7e",
   "metadata": {},
   "source": [
    "## PERSONAL QUESTIONS\n",
    "79. Are you married or in a committed relationship?\n",
    "80. What happens when you decide to have children?\n",
    "81. Are you pregnant at the moment?\n",
    "82. Does your family/husband mind you being away from home?\n",
    "83. What hobbies and interests do you have outside of work?\n",
    "84. Do you mind if I ask what your partner does for a living?\n",
    "85. Are there any personal issues that would affect your ability to do the job?"
   ]
  },
  {
   "cell_type": "markdown",
   "id": "480af50b",
   "metadata": {},
   "source": [
    "## SHOWING INTEREST IN WORK (ADDRESSED TOWARDS RECRUITER):\n",
    "86. How was my performance?\n",
    "87. Can you suggest areas where I need to improve?\n",
    "88. Can you suggest any extra things I need to learn in order to successfully meet the challenges at work?\n",
    "89. What are the day-to-day duties involved in this job?\n",
    "90. How will the performance of employees be assessed?\n",
    "91. How are targets set?\n",
    "92. Who will I report to?\n",
    "93. What do you see as the immediate challenges for me if I were to be given the job?\n",
    "94. What do you most enjoy about working here?\n",
    "95. What training and development is given to employees?\n",
    "96. What opportunities are there for growth within the organization?\n",
    "97. How does the company promote personal growth?\n",
    "98. What kind of career path can one take starting from this level?\n",
    "99. What opportunities are there for working abroad with the company?\n",
    "100. What made you decide to join this company?\n",
    "101. What motivates you to commit to this company and be successful?"
   ]
  },
  {
   "cell_type": "code",
   "execution_count": null,
   "id": "766fad18",
   "metadata": {},
   "outputs": [],
   "source": []
  }
 ],
 "metadata": {
  "kernelspec": {
   "display_name": "Python 3 (ipykernel)",
   "language": "python",
   "name": "python3"
  },
  "language_info": {
   "codemirror_mode": {
    "name": "ipython",
    "version": 3
   },
   "file_extension": ".py",
   "mimetype": "text/x-python",
   "name": "python",
   "nbconvert_exporter": "python",
   "pygments_lexer": "ipython3",
   "version": "3.10.12"
  }
 },
 "nbformat": 4,
 "nbformat_minor": 5
}
