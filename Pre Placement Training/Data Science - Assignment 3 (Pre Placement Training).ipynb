{
 "cells": [
  {
   "cell_type": "markdown",
   "id": "c3c8adcc",
   "metadata": {},
   "source": [
    "# Data Science - Assignment 3 (Pre Placement Training)"
   ]
  },
  {
   "cell_type": "markdown",
   "id": "9ba8b45b",
   "metadata": {},
   "source": [
    "## Question No. (1)"
   ]
  },
  {
   "cell_type": "markdown",
   "id": "90365cf2",
   "metadata": {},
   "source": [
    "**Scenario:**\n",
    "\n",
    "        A company wants to analyze the sales performance of its products in different regions.\n",
    "        \n",
    "        They have collected the following data:-\n",
    "\n",
    "        Region A: [10, 15, 12, 8, 14]\n",
    "\n",
    "        Region B: [18, 20, 16, 22, 25]\n",
    "\n",
    "        Calculate the mean sales for each region."
   ]
  },
  {
   "cell_type": "code",
   "execution_count": 92,
   "id": "26897fd4",
   "metadata": {},
   "outputs": [
    {
     "name": "stdout",
     "output_type": "stream",
     "text": [
      "Mean sales for region A: 11.8\n",
      "Mean sales for region B: 20.2\n"
     ]
    }
   ],
   "source": [
    "def mean(data):\n",
    "  sum = 0\n",
    "  count = len(data)\n",
    "  for value in data:\n",
    "    sum += value\n",
    "  return sum / count\n",
    "\n",
    "# Calculate the mean sales for region A\n",
    "mean_region_a = mean([10, 15, 12, 8, 14])\n",
    "\n",
    "# Calculate the mean sales for region B\n",
    "mean_region_b = mean([18, 20, 16, 22, 25])\n",
    "\n",
    "# Print the mean sales for each region\n",
    "print(\"Mean sales for region A:\", mean_region_a)\n",
    "print(\"Mean sales for region B:\", mean_region_b)"
   ]
  },
  {
   "cell_type": "markdown",
   "id": "1adf9b6c",
   "metadata": {},
   "source": [
    "## Question No. (2)"
   ]
  },
  {
   "cell_type": "markdown",
   "id": "9eabe015",
   "metadata": {},
   "source": [
    "**Scenario:**\n",
    "\n",
    "    A survey is conducted to measure customer satisfaction on a scale of 1 to 5.\n",
    "    \n",
    "    The data collected is as follows:-\n",
    "    \n",
    "    [4, 5, 2, 3, 5, 4, 3, 2, 4, 5]\n",
    "    \n",
    "    Calculate the mode of the survey responses."
   ]
  },
  {
   "cell_type": "code",
   "execution_count": 93,
   "id": "4da9cd43",
   "metadata": {},
   "outputs": [
    {
     "name": "stdout",
     "output_type": "stream",
     "text": [
      "Mode of the survey responses: 4\n"
     ]
    }
   ],
   "source": [
    "def mode(data):\n",
    "  counts = {}\n",
    "  for value in data:\n",
    "    if value in counts:\n",
    "      counts[value] += 1\n",
    "    else:\n",
    "      counts[value] = 1\n",
    "  max_count = 0\n",
    "  mode = None\n",
    "  for value, count in counts.items():\n",
    "    if count > max_count:\n",
    "      max_count = count\n",
    "      mode = value\n",
    "  return mode\n",
    "\n",
    "# Calculate the mode of the survey responses\n",
    "mode_of_responses = mode([4, 5, 2, 3, 5, 4, 3, 2, 4, 5])\n",
    "\n",
    "# Print the mode of the survey responses\n",
    "print(\"Mode of the survey responses:\", mode_of_responses)"
   ]
  },
  {
   "cell_type": "markdown",
   "id": "4fac8fcc",
   "metadata": {},
   "source": [
    "## Question No. (3)"
   ]
  },
  {
   "cell_type": "markdown",
   "id": "88ed4014",
   "metadata": {},
   "source": [
    "**Scenario:**\n",
    "\n",
    "    A company wants to compare the salaries of two departments.\n",
    "    \n",
    "    The salary data for Department A and Department B are as follows:-\n",
    "    \n",
    "       Department A: [5000, 6000, 5500, 7000]\n",
    "   \n",
    "       Department B: [4500, 5500, 5800, 6000, 5200]\n",
    "   \n",
    "       Calculate the median salary for each department."
   ]
  },
  {
   "cell_type": "code",
   "execution_count": 94,
   "id": "f81ab558",
   "metadata": {},
   "outputs": [
    {
     "name": "stdout",
     "output_type": "stream",
     "text": [
      "Median salary for Department A: 6500.0\n",
      "Median salary for Department B: 5500\n"
     ]
    }
   ],
   "source": [
    "def median(data):\n",
    "  data.sort()\n",
    "  length = len(data)\n",
    "  if length % 2 == 0:\n",
    "    # The list has an even number of elements, so the median is the average of the two middle elements.\n",
    "    middle1 = length // 2\n",
    "    middle2 = middle1 + 1\n",
    "    return (data[middle1] + data[middle2]) / 2\n",
    "  else:\n",
    "    # The list has an odd number of elements, so the median is the middle element.\n",
    "    return data[length // 2]\n",
    "\n",
    "# Calculate the median salary for Department A\n",
    "median_department_a = median([5000, 6000, 5500, 7000])\n",
    "\n",
    "# Calculate the median salary for Department B\n",
    "median_department_b = median([4500, 5500, 5800, 6000, 5200])\n",
    "\n",
    "# Print the median salary for each department\n",
    "print(\"Median salary for Department A:\", median_department_a)\n",
    "print(\"Median salary for Department B:\", median_department_b)"
   ]
  },
  {
   "cell_type": "markdown",
   "id": "da54b587",
   "metadata": {},
   "source": [
    "## Question No. (4)"
   ]
  },
  {
   "cell_type": "markdown",
   "id": "95dba225",
   "metadata": {},
   "source": [
    "**Scenario:**\n",
    "\n",
    "    A data analyst wants to determine the variability in the daily stock prices of a company.\n",
    "    \n",
    "    The data collected is as follows:-\n",
    "    \n",
    "    [25.5, 24.8, 26.1, 25.3, 24.9]\n",
    "    \n",
    "    Calculate the range of the stock prices."
   ]
  },
  {
   "cell_type": "code",
   "execution_count": 95,
   "id": "866e1439",
   "metadata": {},
   "outputs": [
    {
     "name": "stdout",
     "output_type": "stream",
     "text": [
      "Range of stock prices: 1.3000000000000007\n"
     ]
    }
   ],
   "source": [
    "def range(data):\n",
    "  max_value = max(data)\n",
    "  min_value = min(data)\n",
    "  return max_value - min_value\n",
    "\n",
    "# Calculate the range of the stock prices\n",
    "range_of_stock_prices = range([25.5, 24.8, 26.1, 25.3, 24.9])\n",
    "\n",
    "# Print the range of the stock prices\n",
    "print(\"Range of stock prices:\", range_of_stock_prices)"
   ]
  },
  {
   "cell_type": "markdown",
   "id": "68a1b69a",
   "metadata": {},
   "source": [
    "## Question No. (5)"
   ]
  },
  {
   "cell_type": "markdown",
   "id": "6e0dfedd",
   "metadata": {},
   "source": [
    "**Scenario:**\n",
    "    \n",
    "    A study is conducted to compare the performance of two different teaching methods.\n",
    "    \n",
    "    The test scores of the students in each group are as follows:-\n",
    "    Group A: [85, 90, 92, 88, 91]\n",
    "    \n",
    "    Group B: [82, 88, 90, 86, 87]\n",
    "    \n",
    "    Perform a t-test to determine if there is a significant difference in the mean scores between the two groups."
   ]
  },
  {
   "cell_type": "code",
   "execution_count": 96,
   "id": "91571070",
   "metadata": {},
   "outputs": [
    {
     "name": "stdout",
     "output_type": "stream",
     "text": [
      "t-statistic: 1.4312528946642733\n",
      "p-value: 0.19023970239078333\n"
     ]
    }
   ],
   "source": [
    "import numpy as np\n",
    "from scipy.stats import ttest_ind\n",
    "\n",
    "group_a = np.array([85, 90, 92, 88, 91])\n",
    "group_b = np.array([82, 88, 90, 86, 87])\n",
    "\n",
    "# Perform the t-test\n",
    "t_statistic, p_value = ttest_ind(group_a, group_b)\n",
    "\n",
    "# Print the t-statistic and p-value\n",
    "print(\"t-statistic:\", t_statistic)\n",
    "print(\"p-value:\", p_value)"
   ]
  },
  {
   "cell_type": "markdown",
   "id": "3fe5c9fd",
   "metadata": {},
   "source": [
    "# Question No. (6)"
   ]
  },
  {
   "cell_type": "markdown",
   "id": "780a6d1d",
   "metadata": {},
   "source": [
    "**Scenario:** \n",
    "\n",
    "    A company wants to analyze the relationship between advertising expenditure and sales.\n",
    "    \n",
    "    The data collected is as follows:\n",
    "\n",
    "    Advertising Expenditure (in thousands): [10, 15, 12, 8, 14]\n",
    "\n",
    "    Sales (in thousands): [25, 30, 28, 20, 26]\n",
    "    \n",
    "    Calculate the correlation coefficient between advertising expenditure and sales."
   ]
  },
  {
   "cell_type": "code",
   "execution_count": 97,
   "id": "a3752d72",
   "metadata": {},
   "outputs": [
    {
     "name": "stdout",
     "output_type": "stream",
     "text": [
      "Correlation coefficient: 0.8757511375750132\n"
     ]
    }
   ],
   "source": [
    "import numpy as np\n",
    "from scipy.stats import pearsonr\n",
    "\n",
    "advertising_expenditure = np.array([10, 15, 12, 8, 14])\n",
    "sales = np.array([25, 30, 28, 20, 26])\n",
    "\n",
    "# Calculate the correlation coefficient\n",
    "correlation, p_value = pearsonr(advertising_expenditure, sales)\n",
    "\n",
    "# Print the correlation coefficient\n",
    "print(\"Correlation coefficient:\", correlation)"
   ]
  },
  {
   "cell_type": "markdown",
   "id": "03916c7a",
   "metadata": {},
   "source": [
    "# Question No. (7)"
   ]
  },
  {
   "cell_type": "markdown",
   "id": "2a275945",
   "metadata": {},
   "source": [
    "**Scenario:**\n",
    "    \n",
    "    A survey is conducted to measure the heights of a group of people.\n",
    "    \n",
    "    The data collected is as follows:\n",
    "    \n",
    "    [160, 170, 165, 155, 175, 180, 170]\n",
    "    \n",
    "    Calculate the standard deviation of the heights."
   ]
  },
  {
   "cell_type": "code",
   "execution_count": 98,
   "id": "f1685ba9",
   "metadata": {},
   "outputs": [
    {
     "name": "stdout",
     "output_type": "stream",
     "text": [
      "Standard deviation: 7.953949089757174\n"
     ]
    }
   ],
   "source": [
    "import numpy as np\n",
    "\n",
    "heights = np.array([160, 170, 165, 155, 175, 180, 170])\n",
    "\n",
    "# Calculate the mean\n",
    "mean = np.mean(heights)\n",
    "\n",
    "# Calculate the squared deviations from the mean\n",
    "squared_deviations = np.square(heights - mean)\n",
    "\n",
    "# Calculate the variance\n",
    "variance = np.mean(squared_deviations)\n",
    "\n",
    "# Calculate the standard deviation\n",
    "standard_deviation = np.sqrt(variance)\n",
    "\n",
    "# Print the standard deviation\n",
    "print(\"Standard deviation:\", standard_deviation)"
   ]
  },
  {
   "cell_type": "markdown",
   "id": "674eab2c",
   "metadata": {},
   "source": [
    "# Question No. (8)"
   ]
  },
  {
   "cell_type": "markdown",
   "id": "a456de98",
   "metadata": {},
   "source": [
    "**Scenario:**\n",
    "\n",
    "    A company wants to analyze the relationship between employee tenure and job satisfaction. The data collected is as \n",
    "    follows:\n",
    "    \n",
    "    Employee Tenure (in years): [2, 3, 5, 4, 6, 2, 4]\n",
    "    \n",
    "    Job Satisfaction (on a scale of 1 to 10): [7, 8, 6, 9, 5, 7, 6]\n",
    "    \n",
    "    Perform a linear regression analysis to predict job satisfaction based on employee tenure."
   ]
  },
  {
   "cell_type": "code",
   "execution_count": 99,
   "id": "42076432",
   "metadata": {},
   "outputs": [
    {
     "name": "stdout",
     "output_type": "stream",
     "text": [
      "Coefficients: [[-0.46808511]]\n",
      "Intercept: [8.59574468]\n",
      "Predicted satisfaction: [[7.19148936]]\n"
     ]
    }
   ],
   "source": [
    "import numpy as np\n",
    "from sklearn.linear_model import LinearRegression\n",
    "\n",
    "tenure = np.array([2, 3, 5, 4, 6, 2, 4])\n",
    "satisfaction = np.array([7, 8, 6, 9, 5, 7, 6])\n",
    "\n",
    "# Reshape the data\n",
    "tenure = tenure.reshape(7, 1)\n",
    "satisfaction = satisfaction.reshape(7, 1)\n",
    "\n",
    "# Create the linear regression model\n",
    "model = LinearRegression()\n",
    "model.fit(tenure, satisfaction)\n",
    "\n",
    "# Print the coefficients\n",
    "print(\"Coefficients:\", model.coef_)\n",
    "print(\"Intercept:\", model.intercept_)\n",
    "\n",
    "# Predict job satisfaction for an employee with 3 years of tenure\n",
    "predicted_satisfaction = model.predict(np.array([[3]]))\n",
    "\n",
    "# Print the predicted satisfaction\n",
    "print(\"Predicted satisfaction:\", predicted_satisfaction)"
   ]
  },
  {
   "cell_type": "markdown",
   "id": "ae5b127a",
   "metadata": {},
   "source": [
    "# Question No. (9)"
   ]
  },
  {
   "cell_type": "markdown",
   "id": "2b536215",
   "metadata": {},
   "source": [
    "**Scenario:**\n",
    "\n",
    "    A study is conducted to compare the effectiveness of two different medications.\n",
    "    \n",
    "    The recovery times of the patients in each group are as follows:\n",
    "\n",
    "    Medication A: [10, 12, 14, 11, 13]\n",
    "    \n",
    "    Medication B: [15, 17, 16, 14, 18]\n",
    "    \n",
    "    Perform an analysis of variance (ANOVA) to determine if there is a significant difference in the mean recovery times between the two medications."
   ]
  },
  {
   "cell_type": "code",
   "execution_count": 100,
   "id": "f1b3d9b3",
   "metadata": {},
   "outputs": [
    {
     "name": "stdout",
     "output_type": "stream",
     "text": [
      "f-statistic: 16.0\n",
      "p-value: 0.003949772803445326\n"
     ]
    }
   ],
   "source": [
    "import numpy as np\n",
    "from scipy.stats import f_oneway\n",
    "\n",
    "medication_a = np.array([10, 12, 14, 11, 13])\n",
    "medication_b = np.array([15, 17, 16, 14, 18])\n",
    "\n",
    "# Perform the ANOVA\n",
    "f_statistic, p_value = f_oneway(medication_a, medication_b)\n",
    "\n",
    "# Print the f-statistic and p-value\n",
    "print(\"f-statistic:\", f_statistic)\n",
    "print(\"p-value:\", p_value)"
   ]
  },
  {
   "cell_type": "markdown",
   "id": "39c6dcd1",
   "metadata": {},
   "source": [
    "# Question No. (10)"
   ]
  },
  {
   "cell_type": "markdown",
   "id": "331d3186",
   "metadata": {},
   "source": [
    "**Scenario:** \n",
    "    \n",
    "    A company wants to analyze customer feedback ratings on a scale of 1 to 10.\n",
    "    \n",
    "    The data collected is as follows:\n",
    "    \n",
    "    [8, 9, 7, 6, 8, 10, 9, 8, 7, 8]\n",
    "    \n",
    "    Calculate the 75th percentile of the feedback ratings."
   ]
  },
  {
   "cell_type": "code",
   "execution_count": 101,
   "id": "5096dd8c",
   "metadata": {},
   "outputs": [
    {
     "name": "stdout",
     "output_type": "stream",
     "text": [
      "75th percentile: 9\n"
     ]
    }
   ],
   "source": [
    "def percentile(data, percentile):\n",
    "  sorted_data = sorted(data)\n",
    "  index = int(len(data) * percentile)\n",
    "  return sorted_data[index]\n",
    "\n",
    "# Calculate the 75th percentile\n",
    "percentile_75 = percentile([8, 9, 7, 6, 8, 10, 9, 8, 7, 8], 0.75)\n",
    "\n",
    "# Print the 75th percentile\n",
    "print(\"75th percentile:\", percentile_75)"
   ]
  },
  {
   "cell_type": "markdown",
   "id": "dbe81bb9",
   "metadata": {},
   "source": [
    "# Question No. (11)"
   ]
  },
  {
   "cell_type": "markdown",
   "id": "32124731",
   "metadata": {},
   "source": [
    "**Scenario:**\n",
    "    \n",
    "    A quality control department wants to test the weight consistency of a product.\n",
    "    \n",
    "    The weights of a sample of products are as follows:\n",
    "    \n",
    "    [10.2, 9.8, 10.0, 10.5, 10.3, 10.1]\n",
    "    \n",
    "    Perform a hypothesis test to determine if the mean weight differs significantly from 10 grams."
   ]
  },
  {
   "cell_type": "code",
   "execution_count": 102,
   "id": "74dd4a94",
   "metadata": {},
   "outputs": [
    {
     "name": "stdout",
     "output_type": "stream",
     "text": [
      "t-statistic: 1.5126584522688367\n",
      "p-value: 0.19077595151110102\n"
     ]
    }
   ],
   "source": [
    "import numpy as np\n",
    "from scipy.stats import ttest_1samp\n",
    "\n",
    "weights = np.array([10.2, 9.8, 10.0, 10.5, 10.3, 10.1])\n",
    "\n",
    "# Set the null hypothesis\n",
    "null_hypothesis = 10\n",
    "\n",
    "# Perform the t-test\n",
    "t_statistic, p_value = ttest_1samp(weights, null_hypothesis)\n",
    "\n",
    "# Print the t-statistic and p-value\n",
    "print(\"t-statistic:\", t_statistic)\n",
    "print(\"p-value:\", p_value)"
   ]
  },
  {
   "cell_type": "markdown",
   "id": "c5b6300a",
   "metadata": {},
   "source": [
    "# Question No. (12)"
   ]
  },
  {
   "cell_type": "markdown",
   "id": "f07f3235",
   "metadata": {},
   "source": [
    "**Scenario:**\n",
    "\n",
    "    A company wants to analyze the click-through rates of two different website designs.\n",
    "    \n",
    "    The number of clicks for each design is as follows:\n",
    "    \n",
    "    Design A: [100, 120, 110, 90, 95]\n",
    "    \n",
    "    Design B: [80, 85, 90, 95, 100]\n",
    "    \n",
    "    Perform a chi-square test to determine if there is a significant difference in the click-through rates between the two designs."
   ]
  },
  {
   "cell_type": "code",
   "execution_count": 103,
   "id": "0cfc7a70",
   "metadata": {},
   "outputs": [
    {
     "name": "stdout",
     "output_type": "stream",
     "text": [
      "chi-square: 6.110658166925435\n",
      "p-value: 0.19103526314060293\n"
     ]
    }
   ],
   "source": [
    "import numpy as np\n",
    "from scipy.stats import chi2_contingency\n",
    "\n",
    "design_a = np.array([100, 120, 110, 90, 95])\n",
    "design_b = np.array([80, 85, 90, 95, 100])\n",
    "\n",
    "# Perform the chi-square test\n",
    "observed = np.array([design_a, design_b])\n",
    "expected = np.array([50, 50])\n",
    "chi_square, p_value, df, expected_table = chi2_contingency(observed, expected)\n",
    "\n",
    "# Print the chi-square and p-value\n",
    "print(\"chi-square:\", chi_square)\n",
    "print(\"p-value:\", p_value)"
   ]
  },
  {
   "cell_type": "markdown",
   "id": "8ac994a5",
   "metadata": {},
   "source": [
    "# Question No. (13)"
   ]
  },
  {
   "cell_type": "markdown",
   "id": "ec83d492",
   "metadata": {},
   "source": [
    "**Scenario:**\n",
    "\n",
    "    A survey is conducted to measure customer satisfaction with a product on a scale of 1 to 10.\n",
    "    \n",
    "    The data collected is as follows:\n",
    "    \n",
    "    [7, 9, 6, 8, 10, 7, 8, 9, 7, 8]\n",
    "    \n",
    "    Calculate the 95% confidence interval for the population mean satisfaction score."
   ]
  },
  {
   "cell_type": "code",
   "execution_count": 104,
   "id": "182fc841",
   "metadata": {},
   "outputs": [
    {
     "name": "stdout",
     "output_type": "stream",
     "text": [
      "Confidence interval: (7.087510739312016, 8.712489260687985)\n"
     ]
    }
   ],
   "source": [
    "import numpy as np\n",
    "from scipy.stats import t\n",
    "\n",
    "satisfaction_scores = np.array([7, 9, 6, 8, 10, 7, 8, 9, 7, 8])\n",
    "\n",
    "# Calculate the sample mean\n",
    "mean = np.mean(satisfaction_scores)\n",
    "\n",
    "# Calculate the sample standard deviation\n",
    "standard_deviation = np.std(satisfaction_scores)\n",
    "\n",
    "# Calculate the t-statistic\n",
    "t_statistic = t.ppf(0.975, len(satisfaction_scores) - 1)\n",
    "\n",
    "# Calculate the margin of error\n",
    "margin_of_error = t_statistic * standard_deviation / np.sqrt(len(satisfaction_scores))\n",
    "\n",
    "# Calculate the confidence interval\n",
    "confidence_interval = (mean - margin_of_error, mean + margin_of_error)\n",
    "\n",
    "# Print the confidence interval\n",
    "print(\"Confidence interval:\", confidence_interval)"
   ]
  },
  {
   "cell_type": "markdown",
   "id": "94c6ae1c",
   "metadata": {},
   "source": [
    "# Question No. (14) "
   ]
  },
  {
   "cell_type": "markdown",
   "id": "71710e0f",
   "metadata": {},
   "source": [
    "**Scenario:**\n",
    "    \n",
    "    A company wants to analyze the effect of temperature on product performance.\n",
    "    \n",
    "    The data collected is as follows:\n",
    "    \n",
    "    Temperature (in degrees Celsius): [20, 22, 23, 19, 21]\n",
    "    \n",
    "    Performance (on a scale of 1 to 10): [8, 7, 9, 6, 8]\n",
    "    \n",
    "    Perform a simple linear regression to predict performance based on temperature."
   ]
  },
  {
   "cell_type": "code",
   "execution_count": 105,
   "id": "acd1e473",
   "metadata": {},
   "outputs": [
    {
     "name": "stdout",
     "output_type": "stream",
     "text": [
      "Coefficients: [[0.5]]\n",
      "Intercept: [-2.9]\n",
      "Predicted performance: [[9.6]]\n"
     ]
    }
   ],
   "source": [
    "import numpy as np\n",
    "from sklearn.linear_model import LinearRegression\n",
    "\n",
    "temperature = np.array([20, 22, 23, 19, 21])\n",
    "performance = np.array([8, 7, 9, 6, 8])\n",
    "\n",
    "# Reshape the data\n",
    "temperature = temperature.reshape(5, 1)\n",
    "performance = performance.reshape(5, 1)\n",
    "\n",
    "# Create the linear regression model\n",
    "model = LinearRegression()\n",
    "model.fit(temperature, performance)\n",
    "\n",
    "# Print the coefficients\n",
    "print(\"Coefficients:\", model.coef_)\n",
    "print(\"Intercept:\", model.intercept_)\n",
    "\n",
    "# Predict performance for a temperature of 25 degrees Celsius\n",
    "predicted_performance = model.predict(np.array([[25]]))\n",
    "\n",
    "# Print the predicted performance\n",
    "print(\"Predicted performance:\", predicted_performance)"
   ]
  },
  {
   "cell_type": "markdown",
   "id": "fa2ad262",
   "metadata": {},
   "source": [
    "# Question No. (15)"
   ]
  },
  {
   "cell_type": "markdown",
   "id": "419b3256",
   "metadata": {},
   "source": [
    "**Scenario:**\n",
    "    \n",
    "    A study is conducted to compare the preferences of two groups of participants. The preferences are measured on a Likert scale from 1 to 5. \n",
    "    \n",
    "    The data collected is as follows:\n",
    "    \n",
    "    Group A: [4, 3, 5, 2, 4]\n",
    "    \n",
    "    Group B: [3, 2, 4, 3, 3]\n",
    "    \n",
    "    Perform a Mann-Whitney U test to determine if there is a significant difference in the median preferences between the \n",
    "    two groups."
   ]
  },
  {
   "cell_type": "code",
   "execution_count": 106,
   "id": "8540e47d",
   "metadata": {},
   "outputs": [
    {
     "name": "stdout",
     "output_type": "stream",
     "text": [
      "u-statistic: 17.0\n",
      "p-value: 0.380836480306712\n"
     ]
    }
   ],
   "source": [
    "import numpy as np\n",
    "from scipy.stats import mannwhitneyu\n",
    "\n",
    "group_a = np.array([4, 3, 5, 2, 4])\n",
    "group_b = np.array([3, 2, 4, 3, 3])\n",
    "\n",
    "# Perform the Mann-Whitney U test\n",
    "u_statistic, p_value = mannwhitneyu(group_a, group_b)\n",
    "\n",
    "# Print the u-statistic and p-value\n",
    "print(\"u-statistic:\", u_statistic)\n",
    "print(\"p-value:\", p_value)"
   ]
  },
  {
   "cell_type": "markdown",
   "id": "8e9c4320",
   "metadata": {},
   "source": [
    "# Question No. (16)"
   ]
  },
  {
   "cell_type": "markdown",
   "id": "48d48afe",
   "metadata": {},
   "source": [
    "**Scenario:**\n",
    "    \n",
    "    A company wants to analyze the distribution of customer ages.\n",
    "    \n",
    "    The data collected is as follows:-\n",
    "    \n",
    "    [25, 30, 35, 40, 45, 50, 55, 60, 65, 70]\n",
    "    \n",
    "    Calculate the interquartile range (IQR) of the ages."
   ]
  },
  {
   "cell_type": "code",
   "execution_count": 107,
   "id": "707acf59",
   "metadata": {},
   "outputs": [
    {
     "name": "stdout",
     "output_type": "stream",
     "text": [
      "Interquartile range: 22.5\n"
     ]
    }
   ],
   "source": [
    "import numpy as np\n",
    "\n",
    "ages = np.array([25, 30, 35, 40, 45, 50, 55, 60, 65, 70])\n",
    "\n",
    "# Calculate the first and third quartiles\n",
    "first_quartile = np.percentile(ages, 25)\n",
    "third_quartile = np.percentile(ages, 75)\n",
    "\n",
    "# Calculate the interquartile range\n",
    "interquartile_range = third_quartile - first_quartile\n",
    "\n",
    "# Print the interquartile range\n",
    "print(\"Interquartile range:\", interquartile_range)"
   ]
  },
  {
   "cell_type": "markdown",
   "id": "6cc08a97",
   "metadata": {},
   "source": [
    "# Question No. (17)"
   ]
  },
  {
   "cell_type": "markdown",
   "id": "5dfdc4b7",
   "metadata": {},
   "source": [
    "**Scenario:**\n",
    "    \n",
    "    A study is conducted to compare the performance of three different machine learning algorithms.\n",
    "    \n",
    "    The accuracy scores for each algorithm are as follows:-\n",
    "    \n",
    "    Algorithm A: [0.85, 0.80, 0.82, 0.87, 0.83]\n",
    "    \n",
    "    Algorithm B: [0.78, 0.82, 0.84, 0.80, 0.79]\n",
    "    \n",
    "    Algorithm C: [0.90, 0.88, 0.89, 0.86, 0.87]\n",
    "    \n",
    "    Perform a Kruskal-Wallis test to determine if there is a significant difference in the median accuracy scores between \n",
    "    the algorithms."
   ]
  },
  {
   "cell_type": "code",
   "execution_count": 108,
   "id": "e7b77df7",
   "metadata": {},
   "outputs": [
    {
     "name": "stdout",
     "output_type": "stream",
     "text": [
      "Statistic: 9.696947935368053\n",
      "p-value: 0.007840333026249539\n"
     ]
    }
   ],
   "source": [
    "import numpy as np\n",
    "from scipy.stats import kruskal\n",
    "\n",
    "algorithm_a = np.array([0.85, 0.80, 0.82, 0.87, 0.83])\n",
    "algorithm_b = np.array([0.78, 0.82, 0.84, 0.80, 0.79])\n",
    "algorithm_c = np.array([0.90, 0.88, 0.89, 0.86, 0.87])\n",
    "\n",
    "# Perform the Kruskal-Wallis test\n",
    "stat, p_value = kruskal(algorithm_a, algorithm_b, algorithm_c)\n",
    "\n",
    "# Print the statistic and p-value\n",
    "print(\"Statistic:\", stat)\n",
    "print(\"p-value:\", p_value)"
   ]
  },
  {
   "cell_type": "markdown",
   "id": "8e643afd",
   "metadata": {},
   "source": [
    "# Question No. (18)"
   ]
  },
  {
   "cell_type": "markdown",
   "id": "515ebd5a",
   "metadata": {},
   "source": [
    "**Scenario:**\n",
    "    \n",
    "    A company wants to analyze the effect of price on sales.\n",
    "    \n",
    "    The data collected is as follows:-\n",
    "    \n",
    "    Price (in dollars): [10, 15, 12, 8, 14]\n",
    "    \n",
    "    Sales: [100, 80, 90, 110, 95]\n",
    "    \n",
    "    Perform a simple linear regression to predict sales based on price."
   ]
  },
  {
   "cell_type": "code",
   "execution_count": 109,
   "id": "89ea952c",
   "metadata": {},
   "outputs": [
    {
     "name": "stdout",
     "output_type": "stream",
     "text": [
      "Coefficients: [[-3.50609756]]\n",
      "Intercept: [136.37195122]\n",
      "Predicted sales: [[97.80487805]]\n"
     ]
    }
   ],
   "source": [
    "import numpy as np\n",
    "from sklearn.linear_model import LinearRegression\n",
    "\n",
    "price = np.array([10, 15, 12, 8, 14])\n",
    "sales = np.array([100, 80, 90, 110, 95])\n",
    "\n",
    "# Reshape the data\n",
    "price = price.reshape(5, 1)\n",
    "sales = sales.reshape(5, 1)\n",
    "\n",
    "# Create the linear regression model\n",
    "model = LinearRegression()\n",
    "model.fit(price, sales)\n",
    "\n",
    "# Print the coefficients\n",
    "print(\"Coefficients:\", model.coef_)\n",
    "print(\"Intercept:\", model.intercept_)\n",
    "\n",
    "# Predict sales for a price of 11 dollars\n",
    "predicted_sales = model.predict(np.array([[11]]))\n",
    "\n",
    "# Print the predicted sales\n",
    "print(\"Predicted sales:\", predicted_sales)"
   ]
  },
  {
   "cell_type": "markdown",
   "id": "6b33512c",
   "metadata": {},
   "source": [
    "# Question No. (19)"
   ]
  },
  {
   "cell_type": "markdown",
   "id": "1df65213",
   "metadata": {},
   "source": [
    "**Scenario:**\n",
    "\n",
    "    A survey is conducted to measure the satisfaction levels of customers with a new product.\n",
    "    \n",
    "    The data collected is as follows:-\n",
    "    \n",
    "    [7, 8, 9, 6, 8, 7, 9, 7, 8, 7]\n",
    "    \n",
    "    Calculate the standard error of the mean satisfaction score."
   ]
  },
  {
   "cell_type": "code",
   "execution_count": 110,
   "id": "3e0f5037",
   "metadata": {},
   "outputs": [
    {
     "name": "stdout",
     "output_type": "stream",
     "text": [
      "Standard error of the mean: 0.28982753492378877\n"
     ]
    }
   ],
   "source": [
    "import numpy as np\n",
    "\n",
    "satisfaction_scores = np.array([7, 8, 9, 6, 8, 7, 9, 7, 8, 7])\n",
    "\n",
    "# Calculate the mean\n",
    "mean = np.mean(satisfaction_scores)\n",
    "\n",
    "# Calculate the standard deviation\n",
    "standard_deviation = np.std(satisfaction_scores)\n",
    "\n",
    "# Calculate the standard error of the mean\n",
    "standard_error_of_mean = standard_deviation / np.sqrt(len(satisfaction_scores))\n",
    "\n",
    "# Print the standard error of the mean\n",
    "print(\"Standard error of the mean:\", standard_error_of_mean)"
   ]
  },
  {
   "cell_type": "markdown",
   "id": "f027d2e5",
   "metadata": {},
   "source": [
    "# Question No. (20)"
   ]
  },
  {
   "cell_type": "markdown",
   "id": "3ee94705",
   "metadata": {},
   "source": [
    "**Scenario:**\n",
    "\n",
    "    A company wants to analyze the relationship between advertising expenditure and sales.\n",
    "    \n",
    "    The data collected is as follows:-\n",
    "    \n",
    "    Advertising Expenditure (in thousands): [10, 15, 12, 8, 14]\n",
    "    \n",
    "    Sales (in thousands): [25, 30, 28, 20, 26]\n",
    "    \n",
    "    Perform a multiple regression analysis to predict sales based on advertising expenditure."
   ]
  },
  {
   "cell_type": "code",
   "execution_count": 111,
   "id": "fbf1ef3b",
   "metadata": {},
   "outputs": [
    {
     "name": "stdout",
     "output_type": "stream",
     "text": [
      "Coefficients: [[1.15243902]]\n",
      "Intercept: [12.20121951]\n",
      "Predicted sales: [[24.87804878]]\n"
     ]
    }
   ],
   "source": [
    "import numpy as np\n",
    "from sklearn.linear_model import LinearRegression\n",
    "\n",
    "advertising_expenditure = np.array([10, 15, 12, 8, 14])\n",
    "sales = np.array([25, 30, 28, 20, 26])\n",
    "\n",
    "# Reshape the data\n",
    "advertising_expenditure = advertising_expenditure.reshape(5, 1)\n",
    "sales = sales.reshape(5, 1)\n",
    "\n",
    "# Create the linear regression model\n",
    "model = LinearRegression()\n",
    "model.fit(advertising_expenditure, sales)\n",
    "\n",
    "# Print the coefficients\n",
    "print(\"Coefficients:\", model.coef_)\n",
    "print(\"Intercept:\", model.intercept_)\n",
    "\n",
    "# Predict sales for an advertising expenditure of 11 thousand dollars\n",
    "predicted_sales = model.predict(np.array([[11]]))\n",
    "\n",
    "# Print the predicted sales\n",
    "print(\"Predicted sales:\", predicted_sales)"
   ]
  }
 ],
 "metadata": {
  "kernelspec": {
   "display_name": "Python 3 (ipykernel)",
   "language": "python",
   "name": "python3"
  },
  "language_info": {
   "codemirror_mode": {
    "name": "ipython",
    "version": 3
   },
   "file_extension": ".py",
   "mimetype": "text/x-python",
   "name": "python",
   "nbconvert_exporter": "python",
   "pygments_lexer": "ipython3",
   "version": "3.11.3"
  }
 },
 "nbformat": 4,
 "nbformat_minor": 5
}
