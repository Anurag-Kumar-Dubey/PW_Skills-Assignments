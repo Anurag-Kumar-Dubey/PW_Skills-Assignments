{
 "cells": [
  {
   "cell_type": "markdown",
   "id": "c3c8adcc",
   "metadata": {},
   "source": [
    "# Data Science - Assignment 3 (Pre Placement Training).ipynb"
   ]
  },
  {
   "cell_type": "markdown",
   "id": "90365cf2",
   "metadata": {},
   "source": [
    "1. **Scenario:**\n",
    "\n",
    "    A company wants to analyze the sales performance of its products in different regions. They have collected the following data:-\n",
    "\n",
    "    Region A: [10, 15, 12, 8, 14]\n",
    "\n",
    "    Region B: [18, 20, 16, 22, 25]\n",
    "\n",
    "    Calculate the mean sales for each region."
   ]
  },
  {
   "cell_type": "markdown",
   "id": "9eabe015",
   "metadata": {},
   "source": [
    "2. Scenario:\n",
    "\n",
    "    A survey is conducted to measure customer satisfaction on a scale of 1 to 5. The data collected is as follows:-\n",
    "    \n",
    "    [4, 5, 2, 3, 5, 4, 3, 2, 4, 5]\n",
    "    \n",
    "    Calculate the mode of the survey responses."
   ]
  },
  {
   "cell_type": "markdown",
   "id": "88ed4014",
   "metadata": {},
   "source": [
    "3. Scenario: A company wants to compare the salaries of two departments. The salary data for Department A and Department B are as follows:\n",
    "   Department A: [5000, 6000, 5500, 7000]\n",
    "   Department B: [4500, 5500, 5800, 6000, 5200]\n",
    "   Calculate the median salary for each department."
   ]
  },
  {
   "cell_type": "markdown",
   "id": "95dba225",
   "metadata": {},
   "source": [
    "4. Scenario: A data analyst wants to determine the variability in the daily stock prices of a company. The data collected is as follows:\n",
    "   [25.5, 24.8, 26.1, 25.3, 24.9]\n",
    "   Calculate the range of the stock prices."
   ]
  },
  {
   "cell_type": "markdown",
   "id": "6e0dfedd",
   "metadata": {},
   "source": [
    "5. Scenario: A study is conducted to compare the performance of two different teaching methods. The test scores of the students in each group are as follows:\n",
    "   Group A: [85, 90, 92, 88, 91]\n",
    "   Group B: [82, 88, 90, 86, 87]\n",
    "   Perform a t-test to determine if there is a significant difference in the mean scores between the two groups."
   ]
  },
  {
   "cell_type": "markdown",
   "id": "780a6d1d",
   "metadata": {},
   "source": [
    "6. Scenario: A company wants to analyze the relationship between advertising expenditure and sales. The data collected is as follows:\n",
    "   Advertising Expenditure (in thousands): [10, 15, 12, 8, 14]\n",
    "   Sales (in thousands): [25, 30, 28, 20, 26]\n",
    "   Calculate the correlation coefficient between advertising expenditure and sales."
   ]
  },
  {
   "cell_type": "markdown",
   "id": "2a275945",
   "metadata": {},
   "source": [
    "7. Scenario: A survey is conducted to measure the heights of a group of people. The data collected is as follows:\n",
    "   [160, 170, 165, 155, 175, 180, 170]\n",
    "   Calculate the standard deviation of the heights."
   ]
  },
  {
   "cell_type": "markdown",
   "id": "a456de98",
   "metadata": {},
   "source": [
    "8. Scenario: A company wants to analyze the relationship between employee tenure and job satisfaction. The data collected is as follows:\n",
    "   Employee Tenure (in years): [2, 3, 5, 4, 6, 2, 4]\n",
    "   Job Satisfaction (on a scale of 1 to 10): [7, 8, 6, 9, 5, 7, 6]\n",
    "   Perform a linear regression analysis to predict job satisfaction based on employee tenure."
   ]
  },
  {
   "cell_type": "markdown",
   "id": "2b536215",
   "metadata": {},
   "source": [
    "9. Scenario: A study is conducted to compare the effectiveness of two different medications. The recovery times of the patients in each group are as follows:\n",
    "   Medication A: [10, 12, 14, 11, 13]\n",
    "   Medication B: [15, 17, 16, 14, 18]\n",
    "   Perform an analysis of variance (ANOVA) to determine if there is a significant difference in the mean recovery times between the two medications."
   ]
  },
  {
   "cell_type": "markdown",
   "id": "331d3186",
   "metadata": {},
   "source": [
    "10. Scenario: A company wants to analyze customer feedback ratings on a scale of 1 to 10. The data collected is as follows:\n",
    "    [8, 9, 7, 6, 8, 10, 9, 8, 7, 8]\n",
    "    Calculate the 75th percentile of the feedback ratings."
   ]
  },
  {
   "cell_type": "markdown",
   "id": "32124731",
   "metadata": {},
   "source": [
    "11. Scenario: A quality control department wants to test the weight consistency of a product. The weights of a sample of products are as follows:\n",
    "    [10.2, 9.8, 10.0, 10.5, 10.3, 10.1]\n",
    "    Perform a hypothesis test to determine if the mean weight differs significantly from 10 grams."
   ]
  },
  {
   "cell_type": "markdown",
   "id": "f07f3235",
   "metadata": {},
   "source": [
    "12. Scenario: A company wants to analyze the click-through rates of two different website designs. The number of clicks for each design is as follows:\n",
    "    Design A: [100, 120, 110, 90, 95]\n",
    "    Design B: [80, 85, 90, 95, 100]\n",
    "    Perform a chi-square test to determine if there is a significant difference in the click-through rates between the two designs."
   ]
  },
  {
   "cell_type": "markdown",
   "id": "ec83d492",
   "metadata": {},
   "source": [
    "13. Scenario: A survey is conducted to measure customer satisfaction with a product on a scale of 1 to 10. The data collected is as follows:\n",
    "    [7, 9, 6, 8, 10, 7, 8, 9, 7, 8]\n",
    "    Calculate the 95% confidence interval for the population mean satisfaction score."
   ]
  },
  {
   "cell_type": "markdown",
   "id": "71710e0f",
   "metadata": {},
   "source": [
    "14. Scenario: A company wants to analyze the effect of temperature on product performance. The data collected is as follows:\n",
    "    Temperature (in degrees Celsius): [20, 22, 23, 19, 21]\n",
    "    Performance (on a scale of 1 to 10): [8, 7, 9, 6, 8]\n",
    "    Perform a simple linear regression to predict performance based on temperature."
   ]
  },
  {
   "cell_type": "markdown",
   "id": "419b3256",
   "metadata": {},
   "source": [
    "15. Scenario: A study is conducted to compare the preferences of two groups of participants. The preferences are measured on a Likert scale from 1 to 5. The data collected is as follows:\n",
    "    Group A: [4, 3, 5, 2, 4]\n",
    "    Group B: [3, 2, 4, 3, 3]\n",
    "    Perform a Mann-Whitney U test to determine if there is a significant difference in the median preferences between the two groups."
   ]
  },
  {
   "cell_type": "markdown",
   "id": "48d48afe",
   "metadata": {},
   "source": [
    "16. Scenario: A company wants to analyze the distribution of customer ages. The data collected is as follows:\n",
    "    [25, 30, 35, 40, 45, 50, 55, 60, 65, 70]\n",
    "    Calculate the interquartile range (IQR) of the ages."
   ]
  },
  {
   "cell_type": "markdown",
   "id": "5dfdc4b7",
   "metadata": {},
   "source": [
    "17. Scenario: A study is conducted to compare the performance of three different machine learning algorithms. The accuracy scores for each algorithm are as follows:\n",
    "    Algorithm A: [0.85, 0.80, 0.82, 0.87, 0.83]\n",
    "    Algorithm B: [0.78, 0.82, 0.84, 0.80, 0.79]\n",
    "    Algorithm C: [0.90, 0.88, 0.89, 0.86, 0.87]\n",
    "    Perform a Kruskal-Wallis test to determine if there is a significant difference in the median accuracy scores between the algorithms."
   ]
  },
  {
   "cell_type": "markdown",
   "id": "515ebd5a",
   "metadata": {},
   "source": [
    "18. Scenario: A company wants to analyze the effect of price on sales. The data collected is as follows:\n",
    "    Price (in dollars): [10, 15, 12, 8, 14]\n",
    "    Sales: [100, 80, 90, 110, 95]\n",
    "    Perform a simple linear regression to predict sales based on price."
   ]
  },
  {
   "cell_type": "markdown",
   "id": "1df65213",
   "metadata": {},
   "source": [
    "19. Scenario: A survey is conducted to measure the satisfaction levels of customers with a new product. The data collected is as follows:\n",
    "    [7, 8, 9, 6, 8, 7, 9, 7, 8, 7]\n",
    "    Calculate the standard error of the mean satisfaction score."
   ]
  },
  {
   "cell_type": "markdown",
   "id": "3ee94705",
   "metadata": {},
   "source": [
    "20. Scenario: A company wants to analyze the relationship between advertising expenditure and sales. The data collected is as follows:\n",
    "    Advertising Expenditure (in thousands): [10, 15, 12, 8, 14]\n",
    "    Sales (in thousands): [25, 30, 28, 20, 26]\n",
    "    Perform a multiple regression analysis to predict sales based on advertising expenditure."
   ]
  },
  {
   "cell_type": "code",
   "execution_count": null,
   "id": "af9b4980",
   "metadata": {},
   "outputs": [],
   "source": []
  }
 ],
 "metadata": {
  "kernelspec": {
   "display_name": "Python 3 (ipykernel)",
   "language": "python",
   "name": "python3"
  },
  "language_info": {
   "codemirror_mode": {
    "name": "ipython",
    "version": 3
   },
   "file_extension": ".py",
   "mimetype": "text/x-python",
   "name": "python",
   "nbconvert_exporter": "python",
   "pygments_lexer": "ipython3",
   "version": "3.9.17"
  }
 },
 "nbformat": 4,
 "nbformat_minor": 5
}
