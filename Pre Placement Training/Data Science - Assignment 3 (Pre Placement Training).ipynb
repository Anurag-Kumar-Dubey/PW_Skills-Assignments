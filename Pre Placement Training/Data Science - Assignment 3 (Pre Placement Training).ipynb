{
 "cells": [
  {
   "cell_type": "markdown",
   "id": "c3c8adcc",
   "metadata": {},
   "source": [
    "# Data Science - Assignment 3 (Pre Placement Training)"
   ]
  },
  {
   "cell_type": "markdown",
   "id": "9ba8b45b",
   "metadata": {},
   "source": [
    "## (1)"
   ]
  },
  {
   "cell_type": "markdown",
   "id": "90365cf2",
   "metadata": {},
   "source": [
    "**Scenario:**\n",
    "\n",
    "        A company wants to analyze the sales performance of its products in different regions.\n",
    "        \n",
    "        They have collected the following data:-\n",
    "\n",
    "        Region A: [10, 15, 12, 8, 14]\n",
    "\n",
    "        Region B: [18, 20, 16, 22, 25]\n",
    "\n",
    "        Calculate the mean sales for each region."
   ]
  },
  {
   "cell_type": "markdown",
   "id": "d8c7cdd2",
   "metadata": {},
   "source": [
    "**Answer:-**\n",
    "\n",
    "        To calculate the mean sales for each region, you need to sum up the sales data for each region and divide it by the \n",
    "        number of data points in that region.\n",
    "\n",
    "        For Region A:\n",
    "        Sales = [10, 15, 12, 8, 14]\n",
    "        Mean = (10 + 15 + 12 + 8 + 14) / 5 = 59 / 5 = 11.8\n",
    "\n",
    "        For Region B:\n",
    "        Sales = [18, 20, 16, 22, 25]\n",
    "        Mean = (18 + 20 + 16 + 22 + 25) / 5 = 101 / 5 = 20.2\n",
    "\n",
    "        Therefore, the mean sales for Region A is 11.8, and the mean sales for Region B is 20.2"
   ]
  },
  {
   "cell_type": "markdown",
   "id": "1adf9b6c",
   "metadata": {},
   "source": [
    "## (2)"
   ]
  },
  {
   "cell_type": "markdown",
   "id": "9eabe015",
   "metadata": {},
   "source": [
    "**Scenario:**\n",
    "\n",
    "    A survey is conducted to measure customer satisfaction on a scale of 1 to 5.\n",
    "    \n",
    "    The data collected is as follows:-\n",
    "    \n",
    "    [4, 5, 2, 3, 5, 4, 3, 2, 4, 5]\n",
    "    \n",
    "    Calculate the mode of the survey responses."
   ]
  },
  {
   "cell_type": "markdown",
   "id": "bc501cda",
   "metadata": {},
   "source": [
    "**Answer:-**\n",
    "\n",
    "    To calculate the mode of the survey responses, you need to determine the value that appears most frequently in the data.\n",
    "\n",
    "    Survey responses = [4, 5, 2, 3, 5, 4, 3, 2, 4, 5]\n",
    "\n",
    "    The mode is the value that appears most frequently. In this case, both 4 and 5 appear three times each, which makes them the mode(s) of the data.\n",
    "\n",
    "    Therefore, the mode of the survey responses is 4 and 5."
   ]
  },
  {
   "cell_type": "markdown",
   "id": "4fac8fcc",
   "metadata": {},
   "source": [
    "## (3)"
   ]
  },
  {
   "cell_type": "markdown",
   "id": "88ed4014",
   "metadata": {},
   "source": [
    "**Scenario:**\n",
    "\n",
    "    A company wants to compare the salaries of two departments.\n",
    "    \n",
    "    The salary data for Department A and Department B are as follows:-\n",
    "    \n",
    "       Department A: [5000, 6000, 5500, 7000]\n",
    "   \n",
    "       Department B: [4500, 5500, 5800, 6000, 5200]\n",
    "   \n",
    "       Calculate the median salary for each department."
   ]
  },
  {
   "cell_type": "markdown",
   "id": "36bdeab2",
   "metadata": {},
   "source": [
    "**Answer:-**\n",
    "\n",
    "    To calculate the median salary for each department, you need to arrange the salary data in ascending order and find the middle value(s).\n",
    "\n",
    "    For Department A:\n",
    "    Salaries = [5000, 6000, 5500, 7000]\n",
    "    Arranged salaries = [5000, 5500, 6000, 7000]\n",
    "    Median = (5500 + 6000) / 2 = 11500 / 2 = 5750\n",
    "\n",
    "    For Department B:\n",
    "    Salaries = [4500, 5500, 5800, 6000, 5200]\n",
    "    Arranged salaries = [4500, 5200, 5500, 5800, 6000]\n",
    "    Median = 5500\n",
    "\n",
    "    Therefore, the median salary for Department A is 5750, and the median salary for Department B is 5500."
   ]
  },
  {
   "cell_type": "markdown",
   "id": "da54b587",
   "metadata": {},
   "source": [
    "## (4)"
   ]
  },
  {
   "cell_type": "markdown",
   "id": "95dba225",
   "metadata": {},
   "source": [
    "**Scenario:**\n",
    "\n",
    "    A data analyst wants to determine the variability in the daily stock prices of a company.\n",
    "    \n",
    "    The data collected is as follows:-\n",
    "    \n",
    "    [25.5, 24.8, 26.1, 25.3, 24.9]\n",
    "    \n",
    "    Calculate the range of the stock prices."
   ]
  },
  {
   "cell_type": "markdown",
   "id": "2feeab0b",
   "metadata": {},
   "source": [
    "**Answer:-**\n",
    " \n",
    "    To calculate the range of the stock prices, you need to subtract the minimum value from the maximum value.\n",
    "\n",
    "    Stock prices = [25.5, 24.8, 26.1, 25.3, 24.9]\n",
    "    Range = maximum value - minimum value\n",
    "    Range = 26.1 - 24.8 = 1.3\n",
    "\n",
    "    Therefore, the range of the stock prices is 1.3."
   ]
  },
  {
   "cell_type": "markdown",
   "id": "68a1b69a",
   "metadata": {},
   "source": [
    "## (5)"
   ]
  },
  {
   "cell_type": "markdown",
   "id": "6e0dfedd",
   "metadata": {},
   "source": [
    "**Scenario:**\n",
    "    \n",
    "    A study is conducted to compare the performance of two different teaching methods.\n",
    "    \n",
    "    The test scores of the students in each group are as follows:-\n",
    "    Group A: [85, 90, 92, 88, 91]\n",
    "    \n",
    "    Group B: [82, 88, 90, 86, 87]\n",
    "    \n",
    "    Perform a t-test to determine if there is a significant difference in the mean scores between the two groups."
   ]
  },
  {
   "cell_type": "markdown",
   "id": "887d9aeb",
   "metadata": {},
   "source": [
    "**Answer:-**\n",
    "\n",
    "    To perform a t-test and determine if there is a significant difference in the mean scores between Group A and Group B, you can use a two-sample t-test. This test compares the means of two independent groups to determine if they are significantly different.\n",
    "\n",
    "    The null hypothesis (H0) assumes that there is no significant difference between the means of the two groups. The alternative hypothesis (H1) assumes that there is a significant difference between the means.\n",
    "\n",
    "    Group A scores = [85, 90, 92, 88, 91]\n",
    "    Group B scores = [82, 88, 90, 86, 87]\n",
    "\n",
    "    Performing the t-test will provide a p-value that can be compared to a predetermined significance level (e.g., α = 0.05) to determine if the difference in means is statistically significant. If the p-value is less than the significance level, we reject the null hypothesis and conclude that there is a significant difference between the means."
   ]
  },
  {
   "cell_type": "markdown",
   "id": "3fe5c9fd",
   "metadata": {},
   "source": [
    "# (6)"
   ]
  },
  {
   "cell_type": "markdown",
   "id": "780a6d1d",
   "metadata": {},
   "source": [
    "**Scenario:** \n",
    "\n",
    "    A company wants to analyze the relationship between advertising expenditure and sales.\n",
    "    \n",
    "    The data collected is as follows:\n",
    "\n",
    "    Advertising Expenditure (in thousands): [10, 15, 12, 8, 14]\n",
    "\n",
    "    Sales (in thousands): [25, 30, 28, 20, 26]\n",
    "    \n",
    "    Calculate the correlation coefficient between advertising expenditure and sales."
   ]
  },
  {
   "cell_type": "markdown",
   "id": "60a54cef",
   "metadata": {},
   "source": [
    "**Answer:-**\n",
    "\n",
    "    To calculate the correlation coefficient between advertising expenditure and sales, you can use Pearson's correlation coefficient. This coefficient measures the linear relationship between two variables.\n",
    "\n",
    "    Advertising Expenditure = [10, 15, 12, 8, 14]\n",
    "    Sales = [25, 30, 28, 20, 26]\n",
    "\n",
    "    Calculate the correlation coefficient using a statistical software or spreadsheet program. The correlation coefficient ranges from -1 to 1, where -1 indicates a perfect negative correlation, 1 indicates a perfect positive correlation, and 0 indicates no correlation."
   ]
  },
  {
   "cell_type": "markdown",
   "id": "03916c7a",
   "metadata": {},
   "source": [
    "# (7)"
   ]
  },
  {
   "cell_type": "markdown",
   "id": "2a275945",
   "metadata": {},
   "source": [
    "**Scenario:**\n",
    "    \n",
    "    A survey is conducted to measure the heights of a group of people.\n",
    "    \n",
    "    The data collected is as follows:\n",
    "    \n",
    "    [160, 170, 165, 155, 175, 180, 170]\n",
    "    \n",
    "    Calculate the standard deviation of the heights."
   ]
  },
  {
   "cell_type": "markdown",
   "id": "8fdddb1e",
   "metadata": {},
   "source": [
    "**Answer:-**\n",
    "    \n",
    "    To calculate the standard deviation of the heights, you need to follow these steps:\n",
    "\n",
    "    1. Calculate the mean of the heights.\n",
    "    2. Subtract the mean from each height value and square the result.\n",
    "    3. Calculate the mean of the squared differences.\n",
    "    4. Take the square root of the mean squared difference.\n",
    "\n",
    "    Heights = [160, 170, 165, 155, 175, 180, 170]\n",
    "    Mean = (160 + 170 + 165 + 155 + 175 + 180 + 170) / 7 = 1175 / 7 = 167.86\n",
    "\n",
    "    Squared differences = [(160 - 167.86)^2, (170 - 167.86)^2, (165 - 167.86)^2, (155 - 167.86)^2, (175 - 167.86)^2, (180 - 167.86)^2, (170 - 167.86)^2]\n",
    "    = [77.1456, 3.7764, 7.7764, 153.7764, 39.1456, 154.4064, 3.7764]\n",
    "\n",
    "    Mean squared difference = (77.1456 + 3.7764 + 7.7764 + 153.7764 + 39.1456 + 154.4064 + 3.7764) / 7 = 439.3069 / 7 = 62.75799\n",
    "\n",
    "    Standard deviation = square root of the mean squared difference = √62.75799 ≈ 7.92\n",
    "\n",
    "    Therefore, the standard deviation of the heights is approximately 7.92."
   ]
  },
  {
   "cell_type": "markdown",
   "id": "674eab2c",
   "metadata": {},
   "source": [
    "# (8)"
   ]
  },
  {
   "cell_type": "markdown",
   "id": "a456de98",
   "metadata": {},
   "source": [
    "**Scenario:**\n",
    "\n",
    "    A company wants to analyze the relationship between employee tenure and job satisfaction. The data collected is as follows:\n",
    "    \n",
    "    Employee Tenure (in years): [2, 3, 5, 4, 6, 2, 4]\n",
    "    \n",
    "    Job Satisfaction (on a scale of 1 to 10): [7, 8, 6, 9, 5, 7, 6]\n",
    "    \n",
    "    Perform a linear regression analysis to predict job satisfaction based on employee tenure."
   ]
  },
  {
   "cell_type": "markdown",
   "id": "629e9d8e",
   "metadata": {},
   "source": [
    "**Answer:-**\n",
    "    \n",
    "    To perform a linear regression analysis and predict job satisfaction based on employee tenure, you can use the employee tenure as the independent variable (X) and job satisfaction as the dependent variable (Y). Linear regression finds the best-fitting line that minimizes the distance between the actual data points and the predicted values.\n",
    "\n",
    "    Employee Tenure = [2, 3, 5, 4, 6, 2, 4]\n",
    "    Job Satisfaction = [7, 8, 6, 9, 5, 7, 6]\n",
    "\n",
    "    Using a statistical software or spreadsheet program, you can calculate the regression equation, which will provide the slope (β1) and intercept (β0) values. The equation will be in the form of Y = β0 + β1*X, where Y represents job satisfaction and X represents employee tenure.\n",
    "\n",
    "    You can also calculate the coefficient of determination (R-squared value) to understand the proportion of the variance in job satisfaction explained by employee tenure."
   ]
  },
  {
   "cell_type": "markdown",
   "id": "84309d3b",
   "metadata": {},
   "source": [
    "\n",
    "\n",
    "\n",
    "\n",
    "\n",
    "\n",
    "16. To calculate the interquartile range (IQR) of the ages, you need to follow these steps:\n",
    "\n",
    "1. Arrange the ages in ascending order.\n",
    "2. Calculate the first quartile (Q1) and third quartile (Q3).\n",
    "3. Calculate the IQR as the difference between Q3 and Q1.\n",
    "\n",
    "Ages = [25, 30, 35, 40, 45, 50, 55, 60, 65, 70]\n",
    "\n",
    "Arrange the ages in ascending order: [25, 30, 35, 40, 45, 50, 55, 60, 65, 70]\n",
    "\n",
    "Calculate the first quartile (Q1):\n",
    "Q1 = (25 + 35) / 2 = 60 / 2 = 30"
   ]
  },
  {
   "cell_type": "markdown",
   "id": "ae5b127a",
   "metadata": {},
   "source": [
    "# (9)"
   ]
  },
  {
   "cell_type": "markdown",
   "id": "2b536215",
   "metadata": {},
   "source": [
    "**Scenario:**\n",
    "\n",
    "    A study is conducted to compare the effectiveness of two different medications.\n",
    "    \n",
    "    The recovery times of the patients in each group are as follows:\n",
    "\n",
    "    Medication A: [10, 12, 14, 11, 13]\n",
    "    \n",
    "    Medication B: [15, 17, 16, 14, 18]\n",
    "    \n",
    "    Perform an analysis of variance (ANOVA) to determine if there is a significant difference in the mean recovery times between the two medications."
   ]
  },
  {
   "cell_type": "markdown",
   "id": "3d09abf4",
   "metadata": {},
   "source": [
    "**Answer:-**   \n",
    "    \n",
    "    To perform an analysis of variance (ANOVA) and determine if there is a significant difference in the mean recovery times between Medication A and Medication B, you can use a one-way ANOVA. This test compares the means of three or more groups to determine if they are significantly different.\n",
    "\n",
    "    The null hypothesis (H0) assumes that there is no significant difference between the means of the two medications. The alternative hypothesis (H1) assumes that there is a significant difference between the means.\n",
    "\n",
    "    Medication A recovery times = [10, 12, 14, 11, 13]\n",
    "    Medication B recovery times = [15, 17, 16, 14, 18]\n",
    "\n",
    "    Performing the ANOVA will provide a p-value that can be compared to a predetermined significance level (e.g., α = 0.05) to determine if the difference in means is statistically significant. If the p-value is less than the significance level, we reject the null hypothesis and conclude that there is a significant difference between the means."
   ]
  },
  {
   "cell_type": "markdown",
   "id": "39c6dcd1",
   "metadata": {},
   "source": [
    "# (10)"
   ]
  },
  {
   "cell_type": "markdown",
   "id": "331d3186",
   "metadata": {},
   "source": [
    "**Scenario:** \n",
    "    \n",
    "    A company wants to analyze customer feedback ratings on a scale of 1 to 10.\n",
    "    \n",
    "    The data collected is as follows:\n",
    "    \n",
    "    [8, 9, 7, 6, 8, 10, 9, 8, 7, 8]\n",
    "    \n",
    "    Calculate the 75th percentile of the feedback ratings."
   ]
  },
  {
   "cell_type": "markdown",
   "id": "e8c23e77",
   "metadata": {},
   "source": [
    "**Answer:-**\n",
    "\n",
    "    To calculate the 75th percentile of the feedback ratings, you need to arrange the ratings in ascending order and determine the value at the 75th percentile position.\n",
    "\n",
    "    Feedback ratings = [8, 9, 7, 6, 8, 10, 9, 8, 7, 8]\n",
    "\n",
    "    Arrange the ratings in ascending order: [6, 7, 7, 8, 8, 8, 8, 9, 9, 10]\n",
    "\n",
    "    To find the 75th percentile, multiply the percentile (75) by the total number of data points (10) and divide it by 100.\n",
    "\n",
    "    75th percentile = (75 * 10) / 100 = 750 / 100 = 7.5\n",
    "\n",
    "    Since 7.5 is between the 7th and 8th values, you can take the average of those two values to get the 75th percentile.\n",
    "\n",
    "    Therefore, the 75th percentile of the feedback ratings is 7.5."
   ]
  },
  {
   "cell_type": "markdown",
   "id": "dbe81bb9",
   "metadata": {},
   "source": [
    "# (11)"
   ]
  },
  {
   "cell_type": "markdown",
   "id": "32124731",
   "metadata": {},
   "source": [
    "**Scenario:**\n",
    "    \n",
    "    A quality control department wants to test the weight consistency of a product.\n",
    "    \n",
    "    The weights of a sample of products are as follows:\n",
    "    \n",
    "    [10.2, 9.8, 10.0, 10.5, 10.3, 10.1]\n",
    "    \n",
    "    Perform a hypothesis test to determine if the mean weight differs significantly from 10 grams."
   ]
  },
  {
   "cell_type": "markdown",
   "id": "52e3beb8",
   "metadata": {},
   "source": [
    "**Answer:-**\n",
    "\n",
    "    To perform a hypothesis test and determine if the mean weight significantly differs from 10 grams, you can use a one-sample t-test. This test compares the mean of a sample to a known or hypothesized value.\n",
    "\n",
    "    The null hypothesis (H0) assumes that the mean weight is equal to 10 grams. The alternative hypothesis (H1) assumes that the mean weight differs significantly from 10 grams.\n",
    "\n",
    "    Weights = [10.2, 9.8, 10.0, 10.5, 10.3, 10.1]\n",
    "\n",
    "    Performing the t-test will provide a p-value that can be compared to a predetermined significance level (e.g., α = 0.05) to determine if the mean weight is significantly different from 10 grams. If the p-value is less than the significance level, we reject the null hypothesis and conclude that the mean weight differs significantly from 10 grams."
   ]
  },
  {
   "cell_type": "markdown",
   "id": "c5b6300a",
   "metadata": {},
   "source": [
    "# (12)"
   ]
  },
  {
   "cell_type": "markdown",
   "id": "f07f3235",
   "metadata": {},
   "source": [
    "**Scenario:**\n",
    "\n",
    "    A company wants to analyze the click-through rates of two different website designs.\n",
    "    \n",
    "    The number of clicks for each design is as follows:\n",
    "    \n",
    "    Design A: [100, 120, 110, 90, 95]\n",
    "    \n",
    "    Design B: [80, 85, 90, 95, 100]\n",
    "    \n",
    "    Perform a chi-square test to determine if there is a significant difference in the click-through rates between the two designs."
   ]
  },
  {
   "cell_type": "markdown",
   "id": "b458388c",
   "metadata": {},
   "source": [
    "**Answer:-**    \n",
    "    \n",
    "    To perform a chi-square test and determine if there is a significant difference in the click-through rates between Design A and Design B, you need to create a contingency table. The contingency table compares the observed frequencies (clicks) for each design.\n",
    "\n",
    "    Design A clicks = [100, 120, 110, 90, 95]\n",
    "    Design B clicks = [80, 85, 90, 95, 100]\n",
    "\n",
    "    Create a 2x2 contingency table with rows representing the designs (A and B) and columns representing the click outcomes (Yes and No).\n",
    "\n",
    "            | Design A | Design B |\n",
    "    ------------------------------\n",
    "    Yes     |    ...    |   ...    |\n",
    "    ------------------------------\n",
    "    No      |    ...    |   ...    |\n",
    "    ------------------------------\n",
    "\n",
    "    Count the observed frequencies and fill in the table. Once the contingency table is complete, you can perform a chi-square test to determine if there is a significant difference in click-through rates between the two designs."
   ]
  },
  {
   "cell_type": "markdown",
   "id": "8ac994a5",
   "metadata": {},
   "source": [
    "# (13)"
   ]
  },
  {
   "cell_type": "markdown",
   "id": "ec83d492",
   "metadata": {},
   "source": [
    "**Scenario:**\n",
    "\n",
    "    A survey is conducted to measure customer satisfaction with a product on a scale of 1 to 10.\n",
    "    \n",
    "    The data collected is as follows:\n",
    "    \n",
    "    [7, 9, 6, 8, 10, 7, 8, 9, 7, 8]\n",
    "    \n",
    "    Calculate the 95% confidence interval for the population mean satisfaction score."
   ]
  },
  {
   "cell_type": "markdown",
   "id": "66fb0888",
   "metadata": {},
   "source": [
    "**Answer:-**\n",
    "\n",
    "    To calculate the 95% confidence interval for the population mean satisfaction score, you need to follow these steps:\n",
    "\n",
    "    1. Calculate the sample mean of the satisfaction scores.\n",
    "    2. Calculate the standard deviation of the sample.\n",
    "    3. Determine the sample size.\n",
    "    4. Use the appropriate formula to calculate the confidence interval.\n",
    "\n",
    "    Satisfaction scores = [7, 9, 6, 8, 10, 7, 8, 9, 7, 8]\n",
    "\n",
    "    Sample mean = (7 + 9 + 6 + 8 + 10 + 7 + 8 + 9 + 7 + 8) / 10 = 79 / 10 = 7.9\n",
    "\n",
    "    Standard deviation = Calculate the standard deviation of the sample using the same steps as in question 7.\n",
    "\n",
    "    Sample size = 10\n",
    "\n",
    "    Calculate the standard error of the mean (SE) by dividing the standard deviation by the square root of the sample size.\n",
    "\n",
    "    SE = standard deviation / √sample size\n",
    "\n",
    "    Once you have the standard error, you can calculate the 95% confidence interval using the following formula:\n",
    "\n",
    "    Confidence interval = sample mean ± (critical value * SE)\n",
    "\n",
    "    The critical value corresponds to the desired confidence level. For a 95% confidence level, the critical value is usually 1.96."
   ]
  },
  {
   "cell_type": "markdown",
   "id": "94c6ae1c",
   "metadata": {},
   "source": [
    "# (14) "
   ]
  },
  {
   "cell_type": "markdown",
   "id": "71710e0f",
   "metadata": {},
   "source": [
    "**Scenario:**\n",
    "    \n",
    "    A company wants to analyze the effect of temperature on product performance.\n",
    "    \n",
    "    The data collected is as follows:\n",
    "    \n",
    "    Temperature (in degrees Celsius): [20, 22, 23, 19, 21]\n",
    "    \n",
    "    Performance (on a scale of 1 to 10): [8, 7, 9, 6, 8]\n",
    "    \n",
    "    Perform a simple linear regression to predict performance based on temperature."
   ]
  },
  {
   "cell_type": "markdown",
   "id": "51cee57a",
   "metadata": {},
   "source": [
    "**Answer:-**  \n",
    "    \n",
    "    To perform a simple linear regression and predict performance based on temperature, you can use temperature as the independent variable (X) and performance as the dependent variable (Y). Linear regression finds the best-fitting line that minimizes the distance between the actual data points and the predicted values.\n",
    "\n",
    "    Temperature = [20, 22, 23, 19, 21]\n",
    "    Performance = [8, 7, 9, 6, 8]\n",
    "\n",
    "    Using a statistical software or spreadsheet program, you can calculate the regression equation, which will provide the slope (β1) and intercept (β0) values. The equation will be in the form of Y = β0 + β1*X, where Y represents performance and X represents temperature.\n",
    "\n",
    "    You can also evaluate the statistical significance of the regression and assess the strength of the relationship by examining the coefficient of determination (R-squared value) and performing hypothesis tests on the regression coefficients."
   ]
  },
  {
   "cell_type": "markdown",
   "id": "fa2ad262",
   "metadata": {},
   "source": [
    "# (15)"
   ]
  },
  {
   "cell_type": "markdown",
   "id": "419b3256",
   "metadata": {},
   "source": [
    "**Scenario:**\n",
    "    \n",
    "    A study is conducted to compare the preferences of two groups of participants. The preferences are measured on a Likert scale from 1 to 5. \n",
    "    \n",
    "    The data collected is as follows:\n",
    "    \n",
    "    Group A: [4, 3, 5, 2, 4]\n",
    "    \n",
    "    Group B: [3, 2, 4, 3, 3]\n",
    "    \n",
    "    Perform a Mann-Whitney U test to determine if there is a significant difference in the median preferences between the \n",
    "    two groups."
   ]
  },
  {
   "cell_type": "markdown",
   "id": "dfecbe86",
   "metadata": {},
   "source": [
    "**Answer:-** \n",
    "    \n",
    "    To perform a Mann-Whitney U test and determine if there is a significant difference in the median preferences between Group A and Group B, you need to rank the preferences from both groups together and compare the ranks.\n",
    "\n",
    "    Group A preferences = [4, 3, 5, 2, 4]\n",
    "    Group B preferences = [3, 2, 4, 3, 3]\n",
    "\n",
    "    Combine the preferences: [4, 3, 5, 2, 4, 3, 2, 4, 3, 3]\n",
    "\n",
    "    Rank the preferences from lowest to highest, assigning ranks for ties. Calculate the sum of the ranks for each group.\n",
    "\n",
    "    Performing the Mann-Whitney U test will provide a U statistic and a p-value. The U statistic measures the sum of the ranks for one group relative to the other, and the p-value indicates the statistical significance of the difference in medians. If the p-value is less than the significance level (e.g., α = 0.05), we reject the null hypothesis and conclude that there is a significant difference in the medians."
   ]
  },
  {
   "cell_type": "markdown",
   "id": "8e9c4320",
   "metadata": {},
   "source": [
    "# (16)"
   ]
  },
  {
   "cell_type": "markdown",
   "id": "48d48afe",
   "metadata": {},
   "source": [
    "**Scenario:**\n",
    "    \n",
    "    A company wants to analyze the distribution of customer ages.\n",
    "    \n",
    "    The data collected is as follows:-\n",
    "    \n",
    "    [25, 30, 35, 40, 45, 50, 55, 60, 65, 70]\n",
    "    \n",
    "    Calculate the interquartile range (IQR) of the ages."
   ]
  },
  {
   "cell_type": "markdown",
   "id": "f408dfb8",
   "metadata": {},
   "source": [
    "**Answer:-**\n",
    "\n",
    "    To calculate the interquartile range (IQR) of the ages, you need to follow these steps:\n",
    "\n",
    "    1. Arrange the ages in ascending order.\n",
    "    2. Calculate the first quartile (Q1) and third quartile (Q3).\n",
    "    3. Calculate the IQR as the difference between Q3 and Q1.\n",
    "\n",
    "    Ages = [25, 30, 35, 40, 45, 50, 55, 60, 65, 70]\n",
    "\n",
    "    Arrange the ages in ascending order: [25, 30, 35, 40, 45, 50, 55, 60, 65, 70]\n",
    "\n",
    "    Calculate the first quartile (Q1):\n",
    "    Q1 = (25 + 35) / 2 = 60 / 2 = 30\n",
    "\n",
    "\n",
    "\n",
    "    Calculate the third quartile (Q3):\n",
    "    Q3 = (55 + 60) / 2 = 115 / 2 = 57.5\n",
    "\n",
    "    Calculate the interquartile range (IQR):\n",
    "    IQR = Q3 - Q1 = 57.5 - 30 = 27.5\n",
    "\n",
    "    Therefore, the interquartile range of the ages is 27.5."
   ]
  },
  {
   "cell_type": "markdown",
   "id": "6cc08a97",
   "metadata": {},
   "source": [
    "# (17)"
   ]
  },
  {
   "cell_type": "markdown",
   "id": "5dfdc4b7",
   "metadata": {},
   "source": [
    "**Scenario:**\n",
    "    \n",
    "    A study is conducted to compare the performance of three different machine learning algorithms.\n",
    "    \n",
    "    The accuracy scores for each algorithm are as follows:-\n",
    "    \n",
    "    Algorithm A: [0.85, 0.80, 0.82, 0.87, 0.83]\n",
    "    \n",
    "    Algorithm B: [0.78, 0.82, 0.84, 0.80, 0.79]\n",
    "    \n",
    "    Algorithm C: [0.90, 0.88, 0.89, 0.86, 0.87]\n",
    "    \n",
    "    Perform a Kruskal-Wallis test to determine if there is a significant difference in the median accuracy scores between \n",
    "    the algorithms."
   ]
  },
  {
   "cell_type": "markdown",
   "id": "9c2bec67",
   "metadata": {},
   "source": [
    "**Answer:-**\n",
    "\n",
    "    To perform a Kruskal-Wallis test and determine if there is a significant difference in the median accuracy scores between the three algorithms, you need to rank the accuracy scores from all three algorithms together and compare the ranks.\n",
    "\n",
    "    Algorithm A scores = [0.85, 0.80, 0.82, 0.87, 0.83]\n",
    "    Algorithm B scores = [0.78, 0.82, 0.84, 0.80, 0.79]\n",
    "    Algorithm C scores = [0.90, 0.88, 0.89, 0.86, 0.87]\n",
    "\n",
    "    Combine the scores: [0.85, 0.80, 0.82, 0.87, 0.83, 0.78, 0.82, 0.84, 0.80, 0.79, 0.90, 0.88, 0.89, 0.86, 0.87]\n",
    "\n",
    "    Rank the scores from lowest to highest, assigning ranks for ties. Calculate the sum of the ranks for each algorithm.\n",
    "\n",
    "    Performing the Kruskal-Wallis test will provide a H statistic and a p-value. The H statistic measures the sum of the ranks for each algorithm, and the p-value indicates the statistical significance of the difference in medians. If the p-value is less than the significance level (e.g., α = 0.05), we reject the null hypothesis and conclude that there is a significant difference in the medians."
   ]
  },
  {
   "cell_type": "markdown",
   "id": "8e643afd",
   "metadata": {},
   "source": [
    "# (18)"
   ]
  },
  {
   "cell_type": "markdown",
   "id": "515ebd5a",
   "metadata": {},
   "source": [
    "**Scenario:**\n",
    "    \n",
    "    A company wants to analyze the effect of price on sales.\n",
    "    \n",
    "    The data collected is as follows:-\n",
    "    \n",
    "    Price (in dollars): [10, 15, 12, 8, 14]\n",
    "    \n",
    "    Sales: [100, 80, 90, 110, 95]\n",
    "    \n",
    "    Perform a simple linear regression to predict sales based on price."
   ]
  },
  {
   "cell_type": "markdown",
   "id": "6b33512c",
   "metadata": {},
   "source": [
    "# (19)"
   ]
  },
  {
   "cell_type": "markdown",
   "id": "812bff0a",
   "metadata": {},
   "source": [
    "**Answer:-** \n",
    "\n",
    "    To perform a simple linear regression and predict sales based on price, you can use price as the independent variable (X) and sales as the dependent variable (Y). Linear regression finds the best-fitting line that minimizes the distance between the actual data points and the predicted values.\n",
    "\n",
    "    Price = [10, 15, 12, 8, 14]\n",
    "    Sales = [100, 80, 90, 110, 95]\n",
    "\n",
    "    Using a statistical software or spreadsheet program, you can calculate the regression equation, which will provide the slope (β1) and intercept (β0) values. The equation will be in the form of Y = β0 + β1*X, where Y represents sales and X represents price.\n",
    "\n",
    "    You can also evaluate the statistical significance of the regression and assess the strength of the relationship by examining the coefficient of determination (R-squared value) and performing hypothesis tests on the regression coefficients.\n",
    "\n"
   ]
  },
  {
   "cell_type": "markdown",
   "id": "1df65213",
   "metadata": {},
   "source": [
    "**Scenario:**\n",
    "\n",
    "    A survey is conducted to measure the satisfaction levels of customers with a new product.\n",
    "    \n",
    "    The data collected is as follows:-\n",
    "    \n",
    "    [7, 8, 9, 6, 8, 7, 9, 7, 8, 7]\n",
    "    \n",
    "    Calculate the standard error of the mean satisfaction score."
   ]
  },
  {
   "cell_type": "markdown",
   "id": "4242dd21",
   "metadata": {},
   "source": [
    "**Answer:-** \n",
    "\n",
    "    To calculate the standard error of the mean satisfaction score, you need to follow these steps:\n",
    "\n",
    "    1. Calculate the sample mean of the satisfaction scores.\n",
    "    2. Calculate the standard deviation of the sample.\n",
    "    3. Determine the sample size.\n",
    "    4. Use the appropriate formula to calculate the standard error of the mean.\n",
    "\n",
    "    Satisfaction scores = [7, 8, 9, 6, 8, 7, 9, 7, 8, 7]\n",
    "\n",
    "    Sample mean = (7 + 8 + 9 + 6 + 8 + 7 + 9 + 7 + 8 + 7) / 10 = 76 / 10 = 7.6\n",
    "\n",
    "    Standard deviation = Calculate the standard deviation of the sample using the same steps as in question 7.\n",
    "\n",
    "    Sample size = 10\n",
    "\n",
    "    Calculate the standard error of the mean (SE) by dividing the standard deviation by the square root of the sample size.\n",
    "\n",
    "    SE = standard deviation / √sample size"
   ]
  },
  {
   "cell_type": "markdown",
   "id": "f027d2e5",
   "metadata": {},
   "source": [
    "# (20)"
   ]
  },
  {
   "cell_type": "markdown",
   "id": "3ee94705",
   "metadata": {},
   "source": [
    "**Scenario:**\n",
    "\n",
    "    A company wants to analyze the relationship between advertising expenditure and sales.\n",
    "    \n",
    "    The data collected is as follows:-\n",
    "    \n",
    "    Advertising Expenditure (in thousands): [10, 15, 12, 8, 14]\n",
    "    \n",
    "    Sales (in thousands): [25, 30, 28, 20, 26]\n",
    "    \n",
    "    Perform a multiple regression analysis to predict sales based on advertising expenditure."
   ]
  },
  {
   "cell_type": "markdown",
   "id": "98a20611",
   "metadata": {},
   "source": [
    "**Answer:-** \n",
    "\n",
    "    To perform a multiple regression analysis and predict sales based on advertising expenditure, you can use advertising expenditure as the independent variable and sales as the dependent variable. Multiple regression considers the effects of multiple independent variables on the dependent variable.\n",
    "\n",
    "    Advertising Expenditure = [10, 15, 12, 8, 14]\n",
    "    Sales = [25, 30, 28, 20, 26]\n",
    "\n",
    "    Using a statistical software or spreadsheet program, you can calculate the multiple regression equation, which will provide the regression coefficients for each independent variable (advertising expenditure) and the intercept. The equation will be in the form of Y = β0 + β1*X1 + β2*X2 + ..., where Y represents sales, X1 represents the first independent variable (advertising expenditure), and so on.\n",
    "\n",
    "    You can also evaluate the statistical significance of the regression and assess the strength of the relationship by examining the coefficient of determination (R-squared value) and performing hypothesis tests on the regression coefficients."
   ]
  }
 ],
 "metadata": {
  "kernelspec": {
   "display_name": "Python 3 (ipykernel)",
   "language": "python",
   "name": "python3"
  },
  "language_info": {
   "codemirror_mode": {
    "name": "ipython",
    "version": 3
   },
   "file_extension": ".py",
   "mimetype": "text/x-python",
   "name": "python",
   "nbconvert_exporter": "python",
   "pygments_lexer": "ipython3",
   "version": "3.11.3"
  }
 },
 "nbformat": 4,
 "nbformat_minor": 5
}
