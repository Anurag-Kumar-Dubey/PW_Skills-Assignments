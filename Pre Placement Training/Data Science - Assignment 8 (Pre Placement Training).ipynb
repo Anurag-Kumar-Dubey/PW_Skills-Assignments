{
 "cells": [
  {
   "cell_type": "markdown",
   "id": "ab27f932",
   "metadata": {},
   "source": [
    "# Data Science - Assignment 8 (Pre Placement Training)"
   ]
  },
  {
   "cell_type": "markdown",
   "id": "63a6d5b4",
   "metadata": {},
   "source": [
    "### Choose a project from an internship portal and try to write a HLD and LLD based on the sample given in your portal for a respective project."
   ]
  },
  {
   "cell_type": "markdown",
   "id": "1ba1b1ac",
   "metadata": {},
   "source": [
    "### Project Title:- Insurance Premium Prediction "
   ]
  }
 ],
 "metadata": {
  "kernelspec": {
   "display_name": "Python 3 (ipykernel)",
   "language": "python",
   "name": "python3"
  },
  "language_info": {
   "codemirror_mode": {
    "name": "ipython",
    "version": 3
   },
   "file_extension": ".py",
   "mimetype": "text/x-python",
   "name": "python",
   "nbconvert_exporter": "python",
   "pygments_lexer": "ipython3",
   "version": "3.11.3"
  }
 },
 "nbformat": 4,
 "nbformat_minor": 5
}
