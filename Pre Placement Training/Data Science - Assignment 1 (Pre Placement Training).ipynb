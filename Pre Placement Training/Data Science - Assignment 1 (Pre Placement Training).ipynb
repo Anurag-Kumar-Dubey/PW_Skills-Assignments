{
 "cells": [
  {
   "cell_type": "markdown",
   "id": "8b1affbc",
   "metadata": {},
   "source": [
    "# Data Science - Assignment 1 (Pre Placement Training)"
   ]
  },
  {
   "cell_type": "markdown",
   "id": "9d4e0d12",
   "metadata": {},
   "source": [
    "**(1) Write a Python program to reverse a string without using any built-in string reversal functions.**"
   ]
  },
  {
   "cell_type": "code",
   "execution_count": 146,
   "id": "cbfd540c",
   "metadata": {},
   "outputs": [
    {
     "name": "stdout",
     "output_type": "stream",
     "text": [
      "Reversed string: !dlrow ,olleH\n"
     ]
    }
   ],
   "source": [
    "def reverse_string(string):\n",
    "    reversed_string = \"\"\n",
    "    for i in range(len(string) - 1, -1, -1):\n",
    "        reversed_string += string[i]\n",
    "    return reversed_string\n",
    "my_string = \"Hello, world!\"\n",
    "reversed_string = reverse_string(my_string)\n",
    "print(\"Reversed string:\", reversed_string)"
   ]
  },
  {
   "cell_type": "markdown",
   "id": "b08b20f9",
   "metadata": {},
   "source": [
    "**(2) Implement a function to check if a given string is a palindrome.**"
   ]
  },
  {
   "cell_type": "code",
   "execution_count": 147,
   "id": "4b55c14a",
   "metadata": {},
   "outputs": [
    {
     "name": "stdout",
     "output_type": "stream",
     "text": [
      "True\n",
      "False\n"
     ]
    }
   ],
   "source": [
    "def is_palindrome(string):\n",
    "    # Remove any non-alphanumeric characters and convert to lowercase\n",
    "    cleaned_string = ''.join(char.lower() for char in string if char.isalnum())\n",
    "    \n",
    "    # Check if the cleaned string is equal to its reverse\n",
    "    return cleaned_string == cleaned_string[::-1]\n",
    "my_string = \"A man, a plan, a canal, Panama!\"\n",
    "print(is_palindrome(my_string))\n",
    "my_string = \"Hello, world!\"\n",
    "print(is_palindrome(my_string))"
   ]
  },
  {
   "cell_type": "markdown",
   "id": "44b0f887",
   "metadata": {},
   "source": [
    "**(3) Write a program to find the largest element in a given list.**"
   ]
  },
  {
   "cell_type": "code",
   "execution_count": 148,
   "id": "7d0ea1d0",
   "metadata": {},
   "outputs": [
    {
     "name": "stdout",
     "output_type": "stream",
     "text": [
      "The largest element is: 21\n"
     ]
    }
   ],
   "source": [
    "def find_largest_element(lst):\n",
    "    if not lst:\n",
    "        return None\n",
    "\n",
    "    largest = lst[0]\n",
    "    for element in lst:\n",
    "        if element > largest:\n",
    "            largest = element\n",
    "\n",
    "    return largest\n",
    "my_list = [10, 5, 8, 21, 13, 2, 9]\n",
    "largest_element = find_largest_element(my_list)\n",
    "print(\"The largest element is:\", largest_element)"
   ]
  },
  {
   "cell_type": "markdown",
   "id": "686dfaef",
   "metadata": {},
   "source": [
    "**(4) Implement a function to count the occurrence of each element in a list.**"
   ]
  },
  {
   "cell_type": "code",
   "execution_count": 149,
   "id": "c5ea8b91",
   "metadata": {},
   "outputs": [
    {
     "name": "stdout",
     "output_type": "stream",
     "text": [
      "{1: 2, 2: 3, 3: 1, 4: 2, 5: 1}\n"
     ]
    }
   ],
   "source": [
    "def count_elements(lst):\n",
    "    counts = {}\n",
    "    for element in lst:\n",
    "        if element in counts:\n",
    "            counts[element] += 1\n",
    "        else:\n",
    "            counts[element] = 1\n",
    "    return counts\n",
    "my_list = [1, 2, 3, 2, 4, 1, 2, 5, 4]\n",
    "result = count_elements(my_list)\n",
    "print(result)"
   ]
  },
  {
   "cell_type": "markdown",
   "id": "493b2acc",
   "metadata": {},
   "source": [
    "**(5) Write a Python program to find the second largest number in a list.**"
   ]
  },
  {
   "cell_type": "code",
   "execution_count": 150,
   "id": "3b677add",
   "metadata": {},
   "outputs": [
    {
     "name": "stdout",
     "output_type": "stream",
     "text": [
      "Second largest number: 78\n"
     ]
    }
   ],
   "source": [
    "def find_second_largest(numbers):\n",
    "    if len(numbers) < 2:\n",
    "        return \"List should contain at least two numbers.\"\n",
    "\n",
    "    largest = float('-inf')\n",
    "    second_largest = float('-inf')\n",
    "\n",
    "    for num in numbers:\n",
    "        if num > largest:\n",
    "            second_largest = largest\n",
    "            largest = num\n",
    "        elif num > second_largest and num != largest:\n",
    "            second_largest = num\n",
    "\n",
    "    if second_largest == float('-inf'):\n",
    "        return \"No second largest number found.\"\n",
    "    else:\n",
    "        return second_largest\n",
    "\n",
    "my_list = [45, 78, 43, 74, 33, 25, 46, 52, 99]\n",
    "result = find_second_largest(my_list)\n",
    "print(\"Second largest number:\", result)"
   ]
  },
  {
   "cell_type": "markdown",
   "id": "b62c336d",
   "metadata": {},
   "source": [
    "**(6) Implement a function to remove duplicate elements from a list.**"
   ]
  },
  {
   "cell_type": "code",
   "execution_count": 151,
   "id": "d1ba07a3",
   "metadata": {},
   "outputs": [
    {
     "data": {
      "text/plain": [
       "[45, 78, 43, 74, 33, 25, 46, 52, 89, 99]"
      ]
     },
     "execution_count": 151,
     "metadata": {},
     "output_type": "execute_result"
    }
   ],
   "source": [
    "def remove_duplicates(lst):\n",
    "    seen = set()\n",
    "    result = []\n",
    "    for element in lst:\n",
    "        if element not in seen:\n",
    "            result.append(element)\n",
    "            seen.add(element)\n",
    "    return result\n",
    "my_list = [45,78,43,74,33,25,46,52,89,99,78,33,45,46,52,45,25,89,99,78,45,43]\n",
    "remove_duplicates(my_list)"
   ]
  },
  {
   "cell_type": "markdown",
   "id": "852136c7",
   "metadata": {},
   "source": [
    "**(7) Write a program to calculate the factorial of a given number.**"
   ]
  },
  {
   "cell_type": "code",
   "execution_count": 152,
   "id": "b095383b",
   "metadata": {},
   "outputs": [
    {
     "name": "stdout",
     "output_type": "stream",
     "text": [
      "Factorial of 5 is: 120\n"
     ]
    }
   ],
   "source": [
    "def factorial(n):\n",
    "    if n < 0:\n",
    "        return None\n",
    "    elif n == 0:\n",
    "        return 1\n",
    "    else:\n",
    "        result = 1\n",
    "        for i in range(1, n + 1):\n",
    "            result *= i\n",
    "        return result\n",
    "number = 5\n",
    "factorial_value = factorial(number)\n",
    "print(\"Factorial of\", number, \"is:\", factorial_value)"
   ]
  },
  {
   "cell_type": "markdown",
   "id": "97921f8e",
   "metadata": {},
   "source": [
    "**(8) Implement a function to check if a given number is prime.**"
   ]
  },
  {
   "cell_type": "code",
   "execution_count": 153,
   "id": "0099aa17",
   "metadata": {},
   "outputs": [
    {
     "name": "stdout",
     "output_type": "stream",
     "text": [
      "17 is prime.\n"
     ]
    }
   ],
   "source": [
    "def is_prime(number):\n",
    "    if number < 2:\n",
    "        return False\n",
    "    for i in range(2, int(number**0.5) + 1):\n",
    "        if number % i == 0:\n",
    "            return False\n",
    "    return True\n",
    "num = 17\n",
    "if is_prime(num):\n",
    "    print(num, \"is prime.\")\n",
    "else:\n",
    "    print(num, \"is not prime.\")"
   ]
  },
  {
   "cell_type": "markdown",
   "id": "18c6d924",
   "metadata": {},
   "source": [
    "**(9) Write a Python program to sort a list of integers in ascending order.**"
   ]
  },
  {
   "cell_type": "code",
   "execution_count": 154,
   "id": "cc23fedb",
   "metadata": {},
   "outputs": [
    {
     "name": "stdout",
     "output_type": "stream",
     "text": [
      "Sorted list: [2, 5, 8, 9, 10, 13, 21]\n"
     ]
    }
   ],
   "source": [
    "def sort_list(lst):\n",
    "    sorted_lst = lst[:]  # Create a copy of the original list to avoid modifying it\n",
    "    n = len(sorted_lst)\n",
    "    for i in range(n - 1):\n",
    "        for j in range(n - i - 1):\n",
    "            if sorted_lst[j] > sorted_lst[j + 1]:\n",
    "                sorted_lst[j], sorted_lst[j + 1] = sorted_lst[j + 1], sorted_lst[j]\n",
    "    return sorted_lst\n",
    "my_list = [10, 5, 8, 21, 13, 2, 9]\n",
    "sorted_list = sort_list(my_list)\n",
    "print(\"Sorted list:\", sorted_list)"
   ]
  },
  {
   "cell_type": "markdown",
   "id": "2ff33f22",
   "metadata": {},
   "source": [
    "**(10) Implement a function to find the sum of all numbers in a list.**"
   ]
  },
  {
   "cell_type": "code",
   "execution_count": 155,
   "id": "9a85ef8c",
   "metadata": {},
   "outputs": [
    {
     "name": "stdout",
     "output_type": "stream",
     "text": [
      "Sum of numbers: 68\n"
     ]
    }
   ],
   "source": [
    "def sum_of_numbers(lst):\n",
    "    total = 0\n",
    "    for num in lst:\n",
    "        total += num\n",
    "    return total\n",
    "my_list = [10, 5, 8, 21, 13, 2, 9]\n",
    "sum_of_list = sum_of_numbers(my_list)\n",
    "print(\"Sum of numbers:\", sum_of_list)"
   ]
  },
  {
   "cell_type": "markdown",
   "id": "8850aa99",
   "metadata": {},
   "source": [
    "**(11) Write a program to find the common elements between two lists.**"
   ]
  },
  {
   "cell_type": "code",
   "execution_count": 156,
   "id": "02c144b3",
   "metadata": {},
   "outputs": [
    {
     "name": "stdout",
     "output_type": "stream",
     "text": [
      "Common elements: [4, 5]\n"
     ]
    }
   ],
   "source": [
    "def find_common_elements(list1, list2):\n",
    "    common_elements = []\n",
    "    for element in list1:\n",
    "        if element in list2:\n",
    "            common_elements.append(element)\n",
    "    return common_elements\n",
    "list1 = [1, 2, 3, 4, 5]\n",
    "list2 = [4, 5, 6, 7, 8]\n",
    "common_elements = find_common_elements(list1, list2)\n",
    "print(\"Common elements:\", common_elements)"
   ]
  },
  {
   "cell_type": "markdown",
   "id": "5669c166",
   "metadata": {},
   "source": [
    "**(12) Implement a function to check if a given string is an anagram of another string.**"
   ]
  },
  {
   "cell_type": "code",
   "execution_count": 157,
   "id": "6f3dc4d2",
   "metadata": {},
   "outputs": [
    {
     "name": "stdout",
     "output_type": "stream",
     "text": [
      "listen and silent are anagrams.\n"
     ]
    }
   ],
   "source": [
    "def is_anagram(string1, string2):\n",
    "    cleaned_string1 = ''.join(char.lower() for char in string1 if char.isalnum())\n",
    "    cleaned_string2 = ''.join(char.lower() for char in string2 if char.isalnum())\n",
    "    return sorted(cleaned_string1) == sorted(cleaned_string2)\n",
    "string1 = \"listen\"\n",
    "string2 = \"silent\"\n",
    "if is_anagram(string1, string2):\n",
    "    print(string1, \"and\", string2, \"are anagrams.\")\n",
    "else:\n",
    "    print(string1, \"and\", string2, \"are not anagrams.\")"
   ]
  },
  {
   "cell_type": "markdown",
   "id": "35f3e050",
   "metadata": {},
   "source": [
    "**(13) Write a Python program to generate all permutations of a given string.**"
   ]
  },
  {
   "cell_type": "code",
   "execution_count": 158,
   "id": "3fae6c7b",
   "metadata": {},
   "outputs": [
    {
     "name": "stdout",
     "output_type": "stream",
     "text": [
      "Permutations of abc :\n",
      "abc\n",
      "acb\n",
      "bac\n",
      "bca\n",
      "cab\n",
      "cba\n"
     ]
    }
   ],
   "source": [
    "def permute_string(string):\n",
    "    if len(string) == 1:\n",
    "        return [string]\n",
    "    permutations = []\n",
    "    for i in range(len(string)):\n",
    "        first_char = string[i]\n",
    "        remaining_chars = string[:i] + string[i+1:]\n",
    "        for sub_permutation in permute_string(remaining_chars):\n",
    "            permutations.append(first_char + sub_permutation)\n",
    "\n",
    "    return permutations\n",
    "my_string = \"abc\"\n",
    "permutations = permute_string(my_string)\n",
    "print(\"Permutations of\", my_string, \":\")\n",
    "for permutation in permutations:\n",
    "    print(permutation)"
   ]
  },
  {
   "cell_type": "markdown",
   "id": "3d2d6bb3",
   "metadata": {},
   "source": [
    "**(14) Implement a function to calculate the Fibonacci sequence up to a given number of terms.**"
   ]
  },
  {
   "cell_type": "code",
   "execution_count": 159,
   "id": "84665e99",
   "metadata": {},
   "outputs": [
    {
     "name": "stdout",
     "output_type": "stream",
     "text": [
      "Fibonacci sequence up to 10 terms:\n",
      "[0, 1, 1, 2, 3, 5, 8, 13, 21, 34]\n"
     ]
    }
   ],
   "source": [
    "def fibonacci_sequence(num_terms):\n",
    "    sequence = []\n",
    "    if num_terms >= 1:\n",
    "        sequence.append(0)\n",
    "    if num_terms >= 2:\n",
    "        sequence.append(1)\n",
    "    for i in range(2, num_terms):\n",
    "        next_term = sequence[i-1] + sequence[i-2]\n",
    "        sequence.append(next_term)\n",
    "    return sequence\n",
    "num_terms = 10\n",
    "fibonacci_seq = fibonacci_sequence(num_terms)\n",
    "print(\"Fibonacci sequence up to\", num_terms, \"terms:\")\n",
    "print(fibonacci_seq)"
   ]
  },
  {
   "cell_type": "markdown",
   "id": "7ca3a1b8",
   "metadata": {},
   "source": [
    "**(15) Write a program to find the median of a list of numbers.**"
   ]
  },
  {
   "cell_type": "code",
   "execution_count": 160,
   "id": "ab870ca4",
   "metadata": {},
   "outputs": [
    {
     "name": "stdout",
     "output_type": "stream",
     "text": [
      "Median: 3\n"
     ]
    }
   ],
   "source": [
    "def find_median(numbers):\n",
    "    sorted_numbers = sorted(numbers)\n",
    "    n = len(sorted_numbers)\n",
    "    if n % 2 == 0:\n",
    "        mid_right = n // 2\n",
    "        mid_left = mid_right - 1\n",
    "        median = (sorted_numbers[mid_left] + sorted_numbers[mid_right]) / 2\n",
    "    else:\n",
    "        mid_index = n // 2\n",
    "        median = sorted_numbers[mid_index]\n",
    "    return median\n",
    "my_list = [1, 3, 5, 2, 4]\n",
    "median_value = find_median(my_list)\n",
    "print(\"Median:\", median_value)"
   ]
  },
  {
   "cell_type": "markdown",
   "id": "c4b89143",
   "metadata": {},
   "source": [
    "**(16) Implement a function to check if a given list is sorted in non-decreasing order.**"
   ]
  },
  {
   "cell_type": "code",
   "execution_count": 161,
   "id": "bff4ff16",
   "metadata": {},
   "outputs": [
    {
     "name": "stdout",
     "output_type": "stream",
     "text": [
      "The list is sorted: True\n"
     ]
    }
   ],
   "source": [
    "def is_sorted(numbers):\n",
    "    n = len(numbers)\n",
    "    \n",
    "    for i in range(1, n):\n",
    "        if numbers[i] < numbers[i-1]:\n",
    "            return False\n",
    "    \n",
    "    return True\n",
    "number_list = [1, 3, 5, 7, 9]\n",
    "is_sorted_result = is_sorted(number_list)\n",
    "print(f\"The list is sorted: {is_sorted_result}\")"
   ]
  },
  {
   "cell_type": "markdown",
   "id": "b2dffbc9",
   "metadata": {},
   "source": [
    "**(17) Write a Python program to find the intersection of two lists.**"
   ]
  },
  {
   "cell_type": "code",
   "execution_count": 162,
   "id": "c3c02f95",
   "metadata": {},
   "outputs": [
    {
     "name": "stdout",
     "output_type": "stream",
     "text": [
      "Intersection: [4, 5]\n"
     ]
    }
   ],
   "source": [
    "def find_intersection(list1, list2):\n",
    "    set1 = set(list1)\n",
    "    set2 = set(list2)\n",
    "    intersection = set1.intersection(set2)\n",
    "    return list(intersection)\n",
    "list1 = [1, 2, 3, 4, 5]\n",
    "list2 = [4, 5, 6, 7, 8]\n",
    "intersection_list = find_intersection(list1, list2)\n",
    "print(\"Intersection:\", intersection_list)"
   ]
  },
  {
   "cell_type": "markdown",
   "id": "1d172128",
   "metadata": {},
   "source": [
    "**(18) Implement a function to find the maximum subarray sum in a given list.**"
   ]
  },
  {
   "cell_type": "code",
   "execution_count": 163,
   "id": "fa0c5b58",
   "metadata": {},
   "outputs": [
    {
     "name": "stdout",
     "output_type": "stream",
     "text": [
      "Maximum subarray sum: 6\n"
     ]
    }
   ],
   "source": [
    "def max_subarray_sum(lst):\n",
    "    max_sum = float('-inf')\n",
    "    current_sum = 0\n",
    "\n",
    "    for num in lst:\n",
    "        current_sum = max(num, current_sum + num)\n",
    "        max_sum = max(max_sum, current_sum)\n",
    "\n",
    "    return max_sum\n",
    "my_list = [-2, 1, -3, 4, -1, 2, 1, -5, 4]\n",
    "max_sum = max_subarray_sum(my_list)\n",
    "print(\"Maximum subarray sum:\", max_sum)"
   ]
  },
  {
   "cell_type": "markdown",
   "id": "fe925106",
   "metadata": {},
   "source": [
    "**(19) Write a program to remove all vowels from a given string.**"
   ]
  },
  {
   "cell_type": "code",
   "execution_count": 164,
   "id": "06c847dd",
   "metadata": {},
   "outputs": [
    {
     "name": "stdout",
     "output_type": "stream",
     "text": [
      "String without vowels: Hll, Wrld!\n"
     ]
    }
   ],
   "source": [
    "def remove_vowels(string):\n",
    "    vowels = \"aeiouAEIOU\"\n",
    "    result = \"\"\n",
    "    for char in string:\n",
    "        if char not in vowels:\n",
    "            result += char\n",
    "    return result\n",
    "my_string = \"Hello, World!\"\n",
    "string_without_vowels = remove_vowels(my_string)\n",
    "print(\"String without vowels:\", string_without_vowels)"
   ]
  },
  {
   "cell_type": "markdown",
   "id": "862d67f7",
   "metadata": {},
   "source": [
    "**(20) Implement a function to reverse the order of words in a given sentence.**"
   ]
  },
  {
   "cell_type": "code",
   "execution_count": 165,
   "id": "a96c7937",
   "metadata": {},
   "outputs": [
    {
     "name": "stdout",
     "output_type": "stream",
     "text": [
      "Reversed sentence: sentence. a is This World! Hello,\n"
     ]
    }
   ],
   "source": [
    "def reverse_sentence(sentence):\n",
    "    words = sentence.split()\n",
    "    reversed_words = words[::-1]\n",
    "    reversed_sentence = ' '.join(reversed_words)\n",
    "    return reversed_sentence\n",
    "my_sentence = \"Hello, World! This is a sentence.\"\n",
    "reversed_sentence = reverse_sentence(my_sentence)\n",
    "print(\"Reversed sentence:\", reversed_sentence)"
   ]
  },
  {
   "cell_type": "markdown",
   "id": "8fd1a6a1",
   "metadata": {},
   "source": [
    "**(21) Write a Python program to check if two strings are anagrams of each other.**"
   ]
  },
  {
   "cell_type": "code",
   "execution_count": 166,
   "id": "7f983044",
   "metadata": {},
   "outputs": [
    {
     "name": "stdout",
     "output_type": "stream",
     "text": [
      "listen and silent are anagrams.\n"
     ]
    }
   ],
   "source": [
    "def are_anagrams(string1, string2):\n",
    "    # Remove any non-alphanumeric characters and convert to lowercase\n",
    "    cleaned_string1 = ''.join(char.lower() for char in string1 if char.isalnum())\n",
    "    cleaned_string2 = ''.join(char.lower() for char in string2 if char.isalnum())\n",
    "\n",
    "    # Check if the sorted characters of the cleaned strings are equal\n",
    "    return sorted(cleaned_string1) == sorted(cleaned_string2)\n",
    "string1 = \"listen\"\n",
    "string2 = \"silent\"\n",
    "if are_anagrams(string1, string2):\n",
    "    print(string1, \"and\", string2, \"are anagrams.\")\n",
    "else:\n",
    "    print(string1, \"and\", string2, \"are not anagrams.\")"
   ]
  },
  {
   "cell_type": "markdown",
   "id": "f63fd21b",
   "metadata": {},
   "source": [
    "**(22) Implement a function to find the first non-repeating character in a string.**"
   ]
  },
  {
   "cell_type": "code",
   "execution_count": 167,
   "id": "c18d2f8f",
   "metadata": {},
   "outputs": [
    {
     "name": "stdout",
     "output_type": "stream",
     "text": [
      "First non-repeating character: c\n"
     ]
    }
   ],
   "source": [
    "def find_first_non_repeating_char(string):\n",
    "    char_count = {}\n",
    "    for char in string:\n",
    "        if char in char_count:\n",
    "            char_count[char] += 1\n",
    "        else:\n",
    "            char_count[char] = 1\n",
    "\n",
    "    for char in string:\n",
    "        if char_count[char] == 1:\n",
    "            return char\n",
    "\n",
    "    return None\n",
    "my_string = \"abracadabra\"\n",
    "first_non_repeating_char = find_first_non_repeating_char(my_string)\n",
    "print(\"First non-repeating character:\", first_non_repeating_char)"
   ]
  },
  {
   "cell_type": "markdown",
   "id": "43ee1cbf",
   "metadata": {},
   "source": [
    "**(23) Write a program to find the prime factors of a given number.**"
   ]
  },
  {
   "cell_type": "code",
   "execution_count": 168,
   "id": "5ca1bca7",
   "metadata": {},
   "outputs": [
    {
     "name": "stdout",
     "output_type": "stream",
     "text": [
      "Prime factors of 84 are: [2, 2, 3, 7]\n"
     ]
    }
   ],
   "source": [
    "def find_prime_factors(number):\n",
    "    factors = []\n",
    "    divisor = 2\n",
    "\n",
    "    while divisor <= number:\n",
    "        if number % divisor == 0:\n",
    "            factors.append(divisor)\n",
    "            number = number / divisor\n",
    "        else:\n",
    "            divisor += 1\n",
    "\n",
    "    return factors\n",
    "num = 84\n",
    "prime_factors = find_prime_factors(num)\n",
    "print(\"Prime factors of\", num, \"are:\", prime_factors)"
   ]
  },
  {
   "cell_type": "markdown",
   "id": "9b156cbb",
   "metadata": {},
   "source": [
    "**(24) Implement a function to check if a given number is a power of two.**"
   ]
  },
  {
   "cell_type": "code",
   "execution_count": 169,
   "id": "8c8f7f65",
   "metadata": {},
   "outputs": [
    {
     "name": "stdout",
     "output_type": "stream",
     "text": [
      "16 is a power of two.\n"
     ]
    }
   ],
   "source": [
    "def is_power_of_two(number):\n",
    "    if number <= 0:\n",
    "        return False\n",
    "    return (number & (number - 1)) == 0\n",
    "num = 16\n",
    "if is_power_of_two(num):\n",
    "    print(num, \"is a power of two.\")\n",
    "else:\n",
    "    print(num, \"is not a power of two.\")"
   ]
  },
  {
   "cell_type": "markdown",
   "id": "85b3265e",
   "metadata": {},
   "source": [
    "**(25) Write a Python program to merge two sorted lists into a single sorted list.**"
   ]
  },
  {
   "cell_type": "code",
   "execution_count": 170,
   "id": "7a3d5a4c",
   "metadata": {},
   "outputs": [
    {
     "name": "stdout",
     "output_type": "stream",
     "text": [
      "The merged sorted list is: [1, 2, 3, 4, 5, 6, 7, 8, 9, 10]\n"
     ]
    }
   ],
   "source": [
    "def merge_sorted_lists(list1, list2):\n",
    "    merged_list = []\n",
    "    i = j = 0\n",
    "    len1, len2 = len(list1), len(list2)\n",
    "    \n",
    "    while i < len1 and j < len2:\n",
    "        if list1[i] <= list2[j]:\n",
    "            merged_list.append(list1[i])\n",
    "            i += 1\n",
    "        else:\n",
    "            merged_list.append(list2[j])\n",
    "            j += 1\n",
    "    \n",
    "    # Append any remaining elements from list1\n",
    "    while i < len1:\n",
    "        merged_list.append(list1[i])\n",
    "        i += 1\n",
    "    \n",
    "    # Append any remaining elements from list2\n",
    "    while j < len2:\n",
    "        merged_list.append(list2[j])\n",
    "        j += 1\n",
    "    \n",
    "    return merged_list\n",
    "\n",
    "sorted_list1 = [1, 3, 5, 7, 9]\n",
    "sorted_list2 = [2, 4, 6, 8, 10]\n",
    "merged_list = merge_sorted_lists(sorted_list1, sorted_list2)\n",
    "print(f\"The merged sorted list is: {merged_list}\")"
   ]
  },
  {
   "cell_type": "markdown",
   "id": "80cf6ca1",
   "metadata": {},
   "source": [
    "**(26) Implement a function to find the mode of a list of numbers.**"
   ]
  },
  {
   "cell_type": "code",
   "execution_count": 171,
   "id": "6c2accbd",
   "metadata": {},
   "outputs": [
    {
     "name": "stdout",
     "output_type": "stream",
     "text": [
      "Mode(s): [2]\n"
     ]
    }
   ],
   "source": [
    "from collections import Counter\n",
    "\n",
    "def find_mode(numbers):\n",
    "    frequency_counter = Counter(numbers)\n",
    "    modes = frequency_counter.most_common()\n",
    "    max_count = modes[0][1]\n",
    "    mode_values = [mode[0] for mode in modes if mode[1] == max_count]\n",
    "    return mode_values\n",
    "my_list = [1, 2, 3, 2, 4, 1, 2, 5, 4]\n",
    "mode_values = find_mode(my_list)\n",
    "print(\"Mode(s):\", mode_values)"
   ]
  },
  {
   "cell_type": "markdown",
   "id": "f1aac141",
   "metadata": {},
   "source": [
    "**(27) Write a program to find the greatest common divisor (GCD) of two numbers.**"
   ]
  },
  {
   "cell_type": "code",
   "execution_count": 172,
   "id": "bc176ccf",
   "metadata": {},
   "outputs": [
    {
     "name": "stdout",
     "output_type": "stream",
     "text": [
      "Greatest Common Divisor (GCD): 12\n"
     ]
    }
   ],
   "source": [
    "def find_gcd(a, b):\n",
    "    while b != 0:\n",
    "        a, b = b, a % b\n",
    "    return a\n",
    "num1 = 24\n",
    "num2 = 36\n",
    "gcd = find_gcd(num1, num2)\n",
    "print(\"Greatest Common Divisor (GCD):\", gcd)"
   ]
  },
  {
   "cell_type": "markdown",
   "id": "69d8286b",
   "metadata": {},
   "source": [
    "**(28) Implement a function to calculate the square root of a given number.**"
   ]
  },
  {
   "cell_type": "code",
   "execution_count": 173,
   "id": "c07decdc",
   "metadata": {},
   "outputs": [
    {
     "name": "stdout",
     "output_type": "stream",
     "text": [
      "Square root of 25 is: 5.0\n"
     ]
    }
   ],
   "source": [
    "def square_root(number):\n",
    "    if number < 0:\n",
    "        return None\n",
    "\n",
    "    if number == 0:\n",
    "        return 0\n",
    "\n",
    "    x = number\n",
    "    while True:\n",
    "        sqrt = (x + number / x) / 2\n",
    "        if abs(sqrt - x) < 1e-10:  # Set a suitable tolerance for convergence\n",
    "            return sqrt\n",
    "        x = sqrt\n",
    "num = 25\n",
    "sqrt = square_root(num)\n",
    "print(\"Square root of\", num, \"is:\", sqrt)"
   ]
  },
  {
   "cell_type": "markdown",
   "id": "ae20add3",
   "metadata": {},
   "source": [
    "**(29) Write a Python program to check if a given string is a valid palindrome ignoring non-alphanumeric characters.**"
   ]
  },
  {
   "cell_type": "code",
   "execution_count": 174,
   "id": "c60bec12",
   "metadata": {},
   "outputs": [
    {
     "name": "stdout",
     "output_type": "stream",
     "text": [
      "A man, a plan, a canal, Panama! is a valid palindrome.\n"
     ]
    }
   ],
   "source": [
    "def is_valid_palindrome(string):\n",
    "    # Remove non-alphanumeric characters and convert to lowercase\n",
    "    cleaned_string = ''.join(char.lower() for char in string if char.isalnum())\n",
    "\n",
    "    # Check if the cleaned string is equal to its reverse\n",
    "    return cleaned_string == cleaned_string[::-1]\n",
    "my_string = \"A man, a plan, a canal, Panama!\"\n",
    "if is_valid_palindrome(my_string):\n",
    "    print(my_string, \"is a valid palindrome.\")\n",
    "else:\n",
    "    print(my_string, \"is not a valid palindrome.\")"
   ]
  },
  {
   "cell_type": "markdown",
   "id": "b7a61dd6",
   "metadata": {},
   "source": [
    "**(30) Implement a function to find the minimum element in a rotated sorted list.**"
   ]
  },
  {
   "cell_type": "code",
   "execution_count": 175,
   "id": "5c3b73fa",
   "metadata": {},
   "outputs": [
    {
     "name": "stdout",
     "output_type": "stream",
     "text": [
      "1\n"
     ]
    }
   ],
   "source": [
    "def find_minimum(nums):\n",
    "    left = 0\n",
    "    right = len(nums) - 1\n",
    "\n",
    "    while left < right:\n",
    "        mid = left + (right - left) // 2\n",
    "\n",
    "        if nums[mid] > nums[right]:\n",
    "            # Minimum element is in the right half\n",
    "            left = mid + 1\n",
    "        else:\n",
    "            # Minimum element is in the left half or at mid\n",
    "            right = mid\n",
    "\n",
    "    return nums[left]\n",
    "nums = [4, 5, 6, 7,1, 2]\n",
    "minimum = find_minimum(nums)\n",
    "print(minimum)"
   ]
  },
  {
   "cell_type": "markdown",
   "id": "a8430851",
   "metadata": {},
   "source": [
    "**(31) Write a program to find the sum of all even numbers in a list.**"
   ]
  },
  {
   "cell_type": "code",
   "execution_count": 176,
   "id": "7b289ba0",
   "metadata": {},
   "outputs": [
    {
     "name": "stdout",
     "output_type": "stream",
     "text": [
      "Sum of even numbers: 30\n"
     ]
    }
   ],
   "source": [
    "def sum_of_even_numbers(numbers):\n",
    "    sum = 0\n",
    "    for num in numbers:\n",
    "        if num % 2 == 0:\n",
    "            sum += num\n",
    "    return sum\n",
    "my_list = [1, 2, 3, 4, 5, 6, 7, 8, 9, 10]\n",
    "result = sum_of_even_numbers(my_list)\n",
    "print(\"Sum of even numbers:\", result)"
   ]
  },
  {
   "cell_type": "markdown",
   "id": "457d4a89",
   "metadata": {},
   "source": [
    "**(32) Implement a function to calculate the power of a number using recursion.**"
   ]
  },
  {
   "cell_type": "code",
   "execution_count": 177,
   "id": "1887729e",
   "metadata": {},
   "outputs": [
    {
     "name": "stdout",
     "output_type": "stream",
     "text": [
      "8\n",
      "0.04\n"
     ]
    }
   ],
   "source": [
    "def power(base, exponent):\n",
    "    if exponent == 0:\n",
    "        return 1\n",
    "    elif exponent < 0:\n",
    "        return 1 / power(base, -exponent)\n",
    "    else:\n",
    "        return base * power(base, exponent - 1)\n",
    "result = power(2, 3)\n",
    "print(result)\n",
    "result = power(5, -2)\n",
    "print(result)"
   ]
  },
  {
   "cell_type": "markdown",
   "id": "863c46d9",
   "metadata": {},
   "source": [
    "**(33) Write a Python program to remove duplicates from a list while preserving the order.**"
   ]
  },
  {
   "cell_type": "code",
   "execution_count": 178,
   "id": "e38b35a8",
   "metadata": {},
   "outputs": [
    {
     "name": "stdout",
     "output_type": "stream",
     "text": [
      "[1, 2, 3, 4, 5, 6, 7]\n"
     ]
    }
   ],
   "source": [
    "def remove_duplicates(lst):\n",
    "    seen = set()\n",
    "    result = []\n",
    "    for item in lst:\n",
    "        if item not in seen:\n",
    "            seen.add(item)\n",
    "            result.append(item)\n",
    "    return result\n",
    "\n",
    "my_list = [1, 2, 3, 2, 4, 1, 5, 6, 4, 7]\n",
    "print(remove_duplicates(my_list))"
   ]
  },
  {
   "cell_type": "markdown",
   "id": "d9deba77",
   "metadata": {},
   "source": [
    "**(34) Implement a function to find the longest common prefix among a list of strings.**"
   ]
  },
  {
   "cell_type": "code",
   "execution_count": 179,
   "id": "376ec4c4",
   "metadata": {},
   "outputs": [
    {
     "name": "stdout",
     "output_type": "stream",
     "text": [
      "fl\n"
     ]
    }
   ],
   "source": [
    "def longest_common_prefix(strings):\n",
    "    if not strings:\n",
    "        return \"\"\n",
    "\n",
    "    # Sort the list of strings lexicographically\n",
    "    strings.sort()\n",
    "\n",
    "    # Find the common prefix between the first and last string\n",
    "    common_prefix = \"\"\n",
    "    for i in range(len(strings[0])):\n",
    "        if strings[0][i] == strings[-1][i]:\n",
    "            common_prefix += strings[0][i]\n",
    "        else:\n",
    "            break\n",
    "\n",
    "    return common_prefix\n",
    "words = [\"flower\", \"flow\", \"flight\"]\n",
    "result = longest_common_prefix(words)\n",
    "print(result)"
   ]
  },
  {
   "cell_type": "markdown",
   "id": "221b03ef",
   "metadata": {},
   "source": [
    "**(35) Write a program to check if a given number is a perfect square.**"
   ]
  },
  {
   "cell_type": "code",
   "execution_count": 180,
   "id": "95c94078",
   "metadata": {},
   "outputs": [
    {
     "name": "stdout",
     "output_type": "stream",
     "text": [
      "16 is a perfect square.\n"
     ]
    }
   ],
   "source": [
    "def is_perfect_square(number):\n",
    "    if number < 0:\n",
    "        return False\n",
    "\n",
    "    root = int(number**0.5)\n",
    "    return root * root == number\n",
    "num = 16\n",
    "if is_perfect_square(num):\n",
    "    print(num, \"is a perfect square.\")\n",
    "else:\n",
    "    print(num, \"is not a perfect square.\")"
   ]
  },
  {
   "cell_type": "markdown",
   "id": "d1f2d65c",
   "metadata": {},
   "source": [
    "**(36) Implement a function to calculate the product of all elements in a list.**"
   ]
  },
  {
   "cell_type": "code",
   "execution_count": 181,
   "id": "020d8fb6",
   "metadata": {},
   "outputs": [
    {
     "name": "stdout",
     "output_type": "stream",
     "text": [
      "120\n"
     ]
    }
   ],
   "source": [
    "def calculate_product(lst):\n",
    "    product = 1\n",
    "    for num in lst:\n",
    "        product *= num\n",
    "    return product\n",
    "my_list = [2, 3, 4, 5]\n",
    "result = calculate_product(my_list)\n",
    "print(result)"
   ]
  },
  {
   "cell_type": "markdown",
   "id": "392768e6",
   "metadata": {},
   "source": [
    "**(37) Write a Python program to reverse the order of words in a sentence while preserving the word order.**"
   ]
  },
  {
   "cell_type": "code",
   "execution_count": 182,
   "id": "1d27512c",
   "metadata": {},
   "outputs": [
    {
     "name": "stdout",
     "output_type": "stream",
     "text": [
      "Reversed sentence: you? are how Hello,\n"
     ]
    }
   ],
   "source": [
    "def reverse_word_order(sentence):\n",
    "    words = sentence.split()\n",
    "    reversed_sentence = ' '.join(words[::-1])\n",
    "    return reversed_sentence\n",
    "my_sentence = \"Hello, how are you?\"\n",
    "reversed_sentence = reverse_word_order(my_sentence)\n",
    "print(\"Reversed sentence:\", reversed_sentence)"
   ]
  },
  {
   "cell_type": "markdown",
   "id": "eef076f5",
   "metadata": {},
   "source": [
    "**(38) Implement a function to find the missing number in a given list of consecutive numbers.**"
   ]
  },
  {
   "cell_type": "code",
   "execution_count": 183,
   "id": "7c559a48",
   "metadata": {},
   "outputs": [
    {
     "name": "stdout",
     "output_type": "stream",
     "text": [
      "Missing number: 4\n"
     ]
    }
   ],
   "source": [
    "def find_missing_number(numbers):\n",
    "    n = len(numbers)\n",
    "    total_sum = (n + 1) * (numbers[0] + numbers[-1]) // 2\n",
    "    actual_sum = sum(numbers)\n",
    "    return total_sum - actual_sum\n",
    "numbers = [1, 2, 3, 5, 6, 7]\n",
    "missing_number = find_missing_number(numbers)\n",
    "print(\"Missing number:\", missing_number)"
   ]
  },
  {
   "cell_type": "markdown",
   "id": "0e060552",
   "metadata": {},
   "source": [
    "**(39) Write a program to find the sum of digits of a given number.**"
   ]
  },
  {
   "cell_type": "code",
   "execution_count": 184,
   "id": "e14f39d0",
   "metadata": {},
   "outputs": [
    {
     "name": "stdout",
     "output_type": "stream",
     "text": [
      "Sum of digits: 18\n"
     ]
    }
   ],
   "source": [
    "def sum_of_digits(number):\n",
    "    sum_digits = 0\n",
    "    while number != 0:\n",
    "        digit = number % 10\n",
    "        sum_digits += digit\n",
    "        number //= 10\n",
    "    return sum_digits\n",
    "num = 3465\n",
    "result = sum_of_digits(num)\n",
    "print(\"Sum of digits:\", result)"
   ]
  },
  {
   "cell_type": "markdown",
   "id": "167d0409",
   "metadata": {},
   "source": [
    "**(40) Implement a function to check if a given string is a valid palindrome considering case sensitivity.**"
   ]
  },
  {
   "cell_type": "code",
   "execution_count": 185,
   "id": "ddb59637",
   "metadata": {},
   "outputs": [
    {
     "name": "stdout",
     "output_type": "stream",
     "text": [
      "Racecar is not a valid palindrome.\n"
     ]
    }
   ],
   "source": [
    "def is_valid_palindrome(string):\n",
    "    reversed_string = string[::-1]\n",
    "    return string == reversed_string\n",
    "my_string = \"Racecar\"\n",
    "if is_valid_palindrome(my_string):\n",
    "    print(my_string, \"is a valid palindrome.\")\n",
    "else:\n",
    "    print(my_string, \"is not a valid palindrome.\")"
   ]
  },
  {
   "cell_type": "markdown",
   "id": "9505cd3f",
   "metadata": {},
   "source": [
    "**(41) Write a Python program to find the smallest missing positive integer in a list.**"
   ]
  },
  {
   "cell_type": "code",
   "execution_count": 186,
   "id": "9562c521",
   "metadata": {},
   "outputs": [
    {
     "name": "stdout",
     "output_type": "stream",
     "text": [
      "Smallest missing positive integer: 2\n"
     ]
    }
   ],
   "source": [
    "def find_smallest_missing_positive(nums):\n",
    "    # Separate positive numbers\n",
    "    positive_nums = set(num for num in nums if num > 0)\n",
    "\n",
    "    # Find the smallest missing positive integer\n",
    "    smallest_missing = 1\n",
    "    while smallest_missing in positive_nums:\n",
    "        smallest_missing += 1\n",
    "\n",
    "    return smallest_missing\n",
    "my_list = [3, 4, -1, 1, 7, 10]\n",
    "smallest_missing = find_smallest_missing_positive(my_list)\n",
    "print(\"Smallest missing positive integer:\", smallest_missing)"
   ]
  },
  {
   "cell_type": "markdown",
   "id": "c9920016",
   "metadata": {},
   "source": [
    "**(42) Implement a function to find the longest palindrome substring in a given string.**"
   ]
  },
  {
   "cell_type": "code",
   "execution_count": 187,
   "id": "58c3a1e7",
   "metadata": {},
   "outputs": [
    {
     "name": "stdout",
     "output_type": "stream",
     "text": [
      "aba\n"
     ]
    }
   ],
   "source": [
    "def longest_palindrome_substring(s):\n",
    "    if not s:\n",
    "        return \"\"\n",
    "    start = 0\n",
    "    end = 0\n",
    "    for i in range(len(s)):\n",
    "        len1 = expand_from_center(s, i, i)  # For odd-length palindromes\n",
    "        len2 = expand_from_center(s, i, i + 1)  # For even-length palindromes\n",
    "        max_len = max(len1, len2)\n",
    "        \n",
    "        if max_len > end - start:\n",
    "            start = i - (max_len - 1) // 2\n",
    "            end = i + max_len // 2\n",
    "    return s[start:end + 1]\n",
    "def expand_from_center(s, left, right):\n",
    "    while left >= 0 and right < len(s) and s[left] == s[right]:\n",
    "        left -= 1\n",
    "        right += 1\n",
    "    return right - left - 1\n",
    "string = \"babad\"\n",
    "longest_palindrome = longest_palindrome_substring(string)\n",
    "print(longest_palindrome)"
   ]
  },
  {
   "cell_type": "markdown",
   "id": "8a7b3dad",
   "metadata": {},
   "source": [
    "**(43) Write a program to find the number of occurrences of a given element in a list.**"
   ]
  },
  {
   "cell_type": "code",
   "execution_count": 188,
   "id": "4b18b50f",
   "metadata": {},
   "outputs": [
    {
     "name": "stdout",
     "output_type": "stream",
     "text": [
      "3\n"
     ]
    }
   ],
   "source": [
    "def count_occurrences(lst, element):\n",
    "    count = 0\n",
    "    for item in lst:\n",
    "        if item == element:\n",
    "            count += 1\n",
    "    return count\n",
    "\n",
    "my_list = [1, 2, 3, 4, 2, 2, 3, 1, 5]\n",
    "target_element = 2\n",
    "occurrences = count_occurrences(my_list, target_element)\n",
    "print(occurrences)"
   ]
  },
  {
   "cell_type": "markdown",
   "id": "3f09edb1",
   "metadata": {},
   "source": [
    "**(44) Implement a function to check if a given number is a perfect number.**"
   ]
  },
  {
   "cell_type": "code",
   "execution_count": 189,
   "id": "c3b84f84",
   "metadata": {},
   "outputs": [
    {
     "name": "stdout",
     "output_type": "stream",
     "text": [
      "28 is a perfect number.\n"
     ]
    }
   ],
   "source": [
    "def is_perfect_number(number):\n",
    "    if number <= 0:\n",
    "        return False\n",
    "\n",
    "    divisors = [1]\n",
    "    for i in range(2, int(number**0.5) + 1):\n",
    "        if number % i == 0:\n",
    "            divisors.append(i)\n",
    "            if i != number // i:\n",
    "                divisors.append(number // i)\n",
    "\n",
    "    return sum(divisors) == number\n",
    "num = 28\n",
    "if is_perfect_number(num):\n",
    "    print(num, \"is a perfect number.\")\n",
    "else:\n",
    "    print(num, \"is not a perfect number.\")"
   ]
  },
  {
   "cell_type": "markdown",
   "id": "3366bc43",
   "metadata": {},
   "source": [
    "**(45) Write a Python program to remove all duplicates from a string.**"
   ]
  },
  {
   "cell_type": "code",
   "execution_count": 190,
   "id": "9e7fe1a5",
   "metadata": {},
   "outputs": [
    {
     "name": "stdout",
     "output_type": "stream",
     "text": [
      "Helo, Wrd!\n"
     ]
    }
   ],
   "source": [
    "def remove_duplicates(string):\n",
    "    unique_chars = set()\n",
    "    result = \"\"\n",
    "    for char in string:\n",
    "        if char not in unique_chars:\n",
    "            unique_chars.add(char)\n",
    "            result += char\n",
    "    return result\n",
    "\n",
    "input_string = \"Hello, World!\"\n",
    "result_string = remove_duplicates(input_string)\n",
    "print(result_string)  # Output: \"Helo, Wrd!\""
   ]
  },
  {
   "cell_type": "markdown",
   "id": "82b3d909",
   "metadata": {},
   "source": [
    "**(46) Implement a function to find the first missing positive.**"
   ]
  },
  {
   "cell_type": "code",
   "execution_count": 191,
   "id": "832eaa3c",
   "metadata": {},
   "outputs": [
    {
     "name": "stdout",
     "output_type": "stream",
     "text": [
      "First missing positive integer: 2\n"
     ]
    }
   ],
   "source": [
    "def find_first_missing_positive(nums):\n",
    "    n = len(nums)   \n",
    "    for i in range(n):\n",
    "        while 1 <= nums[i] <= n and nums[nums[i] - 1] != nums[i]:\n",
    "            nums[nums[i] - 1], nums[i] = nums[i], nums[nums[i] - 1]\n",
    "    for i in range(n):\n",
    "        if nums[i] != i + 1:\n",
    "            return i + 1\n",
    "    return n + 1\n",
    "my_list = [3, 4, -1, 1, 7, 10]\n",
    "first_missing_positive = find_first_missing_positive(my_list)\n",
    "print(\"First missing positive integer:\", first_missing_positive)"
   ]
  }
 ],
 "metadata": {
  "kernelspec": {
   "display_name": "Python 3 (ipykernel)",
   "language": "python",
   "name": "python3"
  },
  "language_info": {
   "codemirror_mode": {
    "name": "ipython",
    "version": 3
   },
   "file_extension": ".py",
   "mimetype": "text/x-python",
   "name": "python",
   "nbconvert_exporter": "python",
   "pygments_lexer": "ipython3",
   "version": "3.9.17"
  }
 },
 "nbformat": 4,
 "nbformat_minor": 5
}
