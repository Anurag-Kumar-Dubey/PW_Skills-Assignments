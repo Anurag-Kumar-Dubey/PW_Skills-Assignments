{
 "cells": [
  {
   "cell_type": "markdown",
   "id": "fd88a211",
   "metadata": {},
   "source": [
    "# Data Science - Assignment 1 (Pre Placement Training)"
   ]
  },
  {
   "cell_type": "markdown",
   "id": "75d24fc9",
   "metadata": {},
   "source": [
    "**(1) Write a Python program to reverse a string without using any built-in string reversal functions.**"
   ]
  },
  {
   "cell_type": "code",
   "execution_count": 14,
   "id": "67ced64b",
   "metadata": {},
   "outputs": [
    {
     "name": "stdout",
     "output_type": "stream",
     "text": [
      "Enter your string here:-PW SKILLS PPT\n",
      "String after reveral will be:-  TPP SLLIKS WP\n"
     ]
    }
   ],
   "source": [
    "string = input(\"Enter your string here:-\")\n",
    "rev_string = \"\"\n",
    "for i in range (0,len(string)):\n",
    "    rev_string=rev_string + string[((len(string)-1)-i)]\n",
    "print(\"String after reveral will be:- \",rev_string)"
   ]
  },
  {
   "cell_type": "markdown",
   "id": "acea2f82",
   "metadata": {},
   "source": [
    "**(2) Implement a function to check if a given string is a palindrome.**"
   ]
  },
  {
   "cell_type": "code",
   "execution_count": 18,
   "id": "76c7e210",
   "metadata": {},
   "outputs": [
    {
     "name": "stdout",
     "output_type": "stream",
     "text": [
      "Enter your string here:-NITIN\n",
      "The String you entered is a palindrome\n"
     ]
    }
   ],
   "source": [
    "def check_palindrome(string):\n",
    "    rev_string = \"\"\n",
    "    for i in range (0,len(string)):\n",
    "        rev_string=rev_string + string[((len(string)-1)-i)]\n",
    "\n",
    "    if string == rev_string:\n",
    "        print(\"The String you entered is a palindrome\")\n",
    "    else:\n",
    "        print(\"The String you entered is Not a palindrome\")\n",
    "string = input(\"Enter your string here:-\")\n",
    "check_palindrome(string)"
   ]
  },
  {
   "cell_type": "markdown",
   "id": "de942a91",
   "metadata": {},
   "source": [
    "**(3) Write a program to find the largest element in a given list.**"
   ]
  },
  {
   "cell_type": "code",
   "execution_count": 24,
   "id": "61c9350d",
   "metadata": {},
   "outputs": [
    {
     "name": "stdout",
     "output_type": "stream",
     "text": [
      "Largest:-  99\n"
     ]
    }
   ],
   "source": [
    "largest = None\n",
    "my_list = [45,78,43,74,33,25,46,52,89,99]\n",
    "for element in my_list:\n",
    "    if largest is None or element > largest:\n",
    "        largest = element\n",
    "print(\"Largest:- \",largest)"
   ]
  },
  {
   "cell_type": "markdown",
   "id": "99e632cc",
   "metadata": {},
   "source": [
    "**(4) Implement a function to count the occurrence of each element in a list.**"
   ]
  },
  {
   "cell_type": "code",
   "execution_count": null,
   "id": "3f87ede3",
   "metadata": {},
   "outputs": [],
   "source": []
  },
  {
   "cell_type": "markdown",
   "id": "f95b9b77",
   "metadata": {},
   "source": [
    "**(5) Write a Python program to find the second largest number in a list.**"
   ]
  },
  {
   "cell_type": "code",
   "execution_count": null,
   "id": "aef5e17f",
   "metadata": {},
   "outputs": [],
   "source": []
  },
  {
   "cell_type": "markdown",
   "id": "10daf96d",
   "metadata": {},
   "source": [
    "**(6) Implement a function to remove duplicate elements from a list.**"
   ]
  },
  {
   "cell_type": "code",
   "execution_count": null,
   "id": "7a59c602",
   "metadata": {},
   "outputs": [],
   "source": []
  },
  {
   "cell_type": "markdown",
   "id": "ebcd49d9",
   "metadata": {},
   "source": [
    "**(7) Write a program to calculate the factorial of a given number.**"
   ]
  },
  {
   "cell_type": "code",
   "execution_count": null,
   "id": "77814d4d",
   "metadata": {},
   "outputs": [],
   "source": []
  },
  {
   "cell_type": "markdown",
   "id": "32cad7ae",
   "metadata": {},
   "source": [
    "**(8) Implement a function to check if a given number is prime.**"
   ]
  },
  {
   "cell_type": "code",
   "execution_count": null,
   "id": "18bcf811",
   "metadata": {},
   "outputs": [],
   "source": []
  },
  {
   "cell_type": "markdown",
   "id": "432237fe",
   "metadata": {},
   "source": [
    "**(9) Write a Python program to sort a list of integers in ascending order.**"
   ]
  },
  {
   "cell_type": "code",
   "execution_count": null,
   "id": "98b59e2b",
   "metadata": {},
   "outputs": [],
   "source": []
  },
  {
   "cell_type": "markdown",
   "id": "86abf372",
   "metadata": {},
   "source": [
    "**(10) Implement a function to find the sum of all numbers in a list.**"
   ]
  },
  {
   "cell_type": "code",
   "execution_count": null,
   "id": "2bb64e6e",
   "metadata": {},
   "outputs": [],
   "source": []
  },
  {
   "cell_type": "markdown",
   "id": "71e3361f",
   "metadata": {},
   "source": [
    "**(11) Write a program to find the common elements between two lists.**"
   ]
  },
  {
   "cell_type": "code",
   "execution_count": null,
   "id": "c73e44a3",
   "metadata": {},
   "outputs": [],
   "source": []
  },
  {
   "cell_type": "markdown",
   "id": "8c789ca0",
   "metadata": {},
   "source": [
    "**(12) Implement a function to check if a given string is an anagram of another string.**"
   ]
  },
  {
   "cell_type": "code",
   "execution_count": null,
   "id": "18657d8d",
   "metadata": {},
   "outputs": [],
   "source": []
  },
  {
   "cell_type": "markdown",
   "id": "88e9b94b",
   "metadata": {},
   "source": [
    "**(13) Write a Python program to generate all permutations of a given string.**"
   ]
  },
  {
   "cell_type": "code",
   "execution_count": null,
   "id": "301ae158",
   "metadata": {},
   "outputs": [],
   "source": []
  },
  {
   "cell_type": "markdown",
   "id": "d944dd38",
   "metadata": {},
   "source": [
    "**(14) Implement a function to calculate the Fibonacci sequence up to a given number of terms.**"
   ]
  },
  {
   "cell_type": "code",
   "execution_count": null,
   "id": "f6221ef2",
   "metadata": {},
   "outputs": [],
   "source": []
  },
  {
   "cell_type": "markdown",
   "id": "b6856dd0",
   "metadata": {},
   "source": [
    "**(15) Write a program to find the median of a list of numbers.**"
   ]
  },
  {
   "cell_type": "code",
   "execution_count": null,
   "id": "41beb452",
   "metadata": {},
   "outputs": [],
   "source": []
  },
  {
   "cell_type": "markdown",
   "id": "ee11a093",
   "metadata": {},
   "source": [
    "**(16) Implement a function to check if a given list is sorted in non-decreasing order.**"
   ]
  },
  {
   "cell_type": "code",
   "execution_count": null,
   "id": "ce2bcd73",
   "metadata": {},
   "outputs": [],
   "source": []
  },
  {
   "cell_type": "markdown",
   "id": "21e03fd8",
   "metadata": {},
   "source": [
    "**(17) Write a Python program to find the intersection of two lists.**"
   ]
  },
  {
   "cell_type": "code",
   "execution_count": null,
   "id": "6f5eed1a",
   "metadata": {},
   "outputs": [],
   "source": []
  },
  {
   "cell_type": "markdown",
   "id": "39f7c533",
   "metadata": {},
   "source": [
    "**(18) Implement a function to find the maximum subarray sum in a given list.**"
   ]
  },
  {
   "cell_type": "code",
   "execution_count": null,
   "id": "9418bf48",
   "metadata": {},
   "outputs": [],
   "source": []
  },
  {
   "cell_type": "markdown",
   "id": "077b0f4e",
   "metadata": {},
   "source": [
    "**(19) Write a program to remove all vowels from a given string.**"
   ]
  },
  {
   "cell_type": "code",
   "execution_count": null,
   "id": "b34d9c68",
   "metadata": {},
   "outputs": [],
   "source": []
  },
  {
   "cell_type": "markdown",
   "id": "0222c3d3",
   "metadata": {},
   "source": [
    "**(20) Implement a function to reverse the order of words in a given sentence.**"
   ]
  },
  {
   "cell_type": "code",
   "execution_count": null,
   "id": "cdafec59",
   "metadata": {},
   "outputs": [],
   "source": []
  },
  {
   "cell_type": "markdown",
   "id": "9cf86a40",
   "metadata": {},
   "source": [
    "**(21) Write a Python program to check if two strings are anagrams of each other.**"
   ]
  },
  {
   "cell_type": "code",
   "execution_count": null,
   "id": "aded3b09",
   "metadata": {},
   "outputs": [],
   "source": []
  },
  {
   "cell_type": "markdown",
   "id": "3af893f7",
   "metadata": {},
   "source": [
    "**(22) Implement a function to find the first non-repeating character in a string.**"
   ]
  },
  {
   "cell_type": "code",
   "execution_count": null,
   "id": "07fe527a",
   "metadata": {},
   "outputs": [],
   "source": []
  },
  {
   "cell_type": "markdown",
   "id": "54ce0e98",
   "metadata": {},
   "source": [
    "**(23) Write a program to find the prime factors of a given number.**"
   ]
  },
  {
   "cell_type": "code",
   "execution_count": null,
   "id": "a47ea3ef",
   "metadata": {},
   "outputs": [],
   "source": []
  },
  {
   "cell_type": "markdown",
   "id": "81549c22",
   "metadata": {},
   "source": [
    "**(24) Implement a function to check if a given number is a power of two.**"
   ]
  },
  {
   "cell_type": "code",
   "execution_count": null,
   "id": "5d2351f6",
   "metadata": {},
   "outputs": [],
   "source": []
  },
  {
   "cell_type": "markdown",
   "id": "84cd60b4",
   "metadata": {},
   "source": [
    "**(25) Write a Python program to merge two sorted lists into a single sorted list.**"
   ]
  },
  {
   "cell_type": "code",
   "execution_count": null,
   "id": "ce1414dc",
   "metadata": {},
   "outputs": [],
   "source": []
  },
  {
   "cell_type": "markdown",
   "id": "0911feb8",
   "metadata": {},
   "source": [
    "**(26) Implement a function to find the mode of a list of numbers.**"
   ]
  },
  {
   "cell_type": "code",
   "execution_count": null,
   "id": "acd34475",
   "metadata": {},
   "outputs": [],
   "source": []
  },
  {
   "cell_type": "markdown",
   "id": "c20c8651",
   "metadata": {},
   "source": [
    "**(27) Write a program to find the greatest common divisor (GCD) of two numbers.**"
   ]
  },
  {
   "cell_type": "code",
   "execution_count": null,
   "id": "53459e7f",
   "metadata": {},
   "outputs": [],
   "source": []
  },
  {
   "cell_type": "markdown",
   "id": "835469e3",
   "metadata": {},
   "source": [
    "**(28) Implement a function to calculate the square root of a given number.**"
   ]
  },
  {
   "cell_type": "code",
   "execution_count": null,
   "id": "e817f705",
   "metadata": {},
   "outputs": [],
   "source": []
  },
  {
   "cell_type": "markdown",
   "id": "c963bc9b",
   "metadata": {},
   "source": [
    "**(29) Write a Python program to check if a given string is a valid palindrome ignoring non-alphanumeric characters.**"
   ]
  },
  {
   "cell_type": "code",
   "execution_count": null,
   "id": "b4172253",
   "metadata": {},
   "outputs": [],
   "source": []
  },
  {
   "cell_type": "markdown",
   "id": "c8b42bff",
   "metadata": {},
   "source": [
    "**(30) Implement a function to find the minimum element in a rotated sorted list.**"
   ]
  },
  {
   "cell_type": "code",
   "execution_count": null,
   "id": "a918bb66",
   "metadata": {},
   "outputs": [],
   "source": []
  },
  {
   "cell_type": "markdown",
   "id": "7d03298e",
   "metadata": {},
   "source": [
    "**(31) Write a program to find the sum of all even numbers in a list.**"
   ]
  },
  {
   "cell_type": "code",
   "execution_count": null,
   "id": "a7db97ed",
   "metadata": {},
   "outputs": [],
   "source": []
  },
  {
   "cell_type": "markdown",
   "id": "f30ad970",
   "metadata": {},
   "source": [
    "**(32) Implement a function to calculate the power of a number using recursion.**"
   ]
  },
  {
   "cell_type": "code",
   "execution_count": null,
   "id": "07ea2d6c",
   "metadata": {},
   "outputs": [],
   "source": []
  },
  {
   "cell_type": "markdown",
   "id": "f0f2c078",
   "metadata": {},
   "source": [
    "**(33) Write a Python program to remove duplicates from a list while preserving the order.**"
   ]
  },
  {
   "cell_type": "code",
   "execution_count": null,
   "id": "9cc8b067",
   "metadata": {},
   "outputs": [],
   "source": []
  },
  {
   "cell_type": "markdown",
   "id": "3dafaa78",
   "metadata": {},
   "source": [
    "**(34) Implement a function to find the longest common prefix among a list of strings.**"
   ]
  },
  {
   "cell_type": "code",
   "execution_count": null,
   "id": "6e891f46",
   "metadata": {},
   "outputs": [],
   "source": []
  },
  {
   "cell_type": "markdown",
   "id": "1e5221d1",
   "metadata": {},
   "source": [
    "**(35) Write a program to check if a given number is a perfect square.**"
   ]
  },
  {
   "cell_type": "code",
   "execution_count": null,
   "id": "c8e5dcda",
   "metadata": {},
   "outputs": [],
   "source": []
  },
  {
   "cell_type": "markdown",
   "id": "221706c6",
   "metadata": {},
   "source": [
    "**(36) Implement a function to calculate the product of all elements in a list.**"
   ]
  },
  {
   "cell_type": "code",
   "execution_count": null,
   "id": "bdf279e0",
   "metadata": {},
   "outputs": [],
   "source": []
  },
  {
   "cell_type": "markdown",
   "id": "8a297bb8",
   "metadata": {},
   "source": [
    "**(37) Write a Python program to reverse the order of words in a sentence while preserving the word order.**"
   ]
  },
  {
   "cell_type": "code",
   "execution_count": null,
   "id": "255dcc1c",
   "metadata": {},
   "outputs": [],
   "source": []
  },
  {
   "cell_type": "markdown",
   "id": "d7db195a",
   "metadata": {},
   "source": [
    "**(38) Implement a function to find the missing number in a given list of consecutive numbers.**"
   ]
  },
  {
   "cell_type": "code",
   "execution_count": null,
   "id": "1145f849",
   "metadata": {},
   "outputs": [],
   "source": []
  },
  {
   "cell_type": "markdown",
   "id": "2fb68271",
   "metadata": {},
   "source": [
    "**(39) Write a program to find the sum of digits of a given number.**"
   ]
  },
  {
   "cell_type": "code",
   "execution_count": null,
   "id": "f9369d8a",
   "metadata": {},
   "outputs": [],
   "source": []
  },
  {
   "cell_type": "markdown",
   "id": "49ed269e",
   "metadata": {},
   "source": [
    "**(40) Implement a function to check if a given string is a valid palindrome considering case sensitivity.**"
   ]
  },
  {
   "cell_type": "code",
   "execution_count": null,
   "id": "22674099",
   "metadata": {},
   "outputs": [],
   "source": []
  },
  {
   "cell_type": "markdown",
   "id": "b6e9ac5c",
   "metadata": {},
   "source": [
    "**(41) Write a Python program to find the smallest missing positive integer in a list.**"
   ]
  },
  {
   "cell_type": "code",
   "execution_count": null,
   "id": "03ba6cdc",
   "metadata": {},
   "outputs": [],
   "source": []
  },
  {
   "cell_type": "markdown",
   "id": "555164a0",
   "metadata": {},
   "source": [
    "**(42) Implement a function to find the longest palindrome substring in a given string.**"
   ]
  },
  {
   "cell_type": "code",
   "execution_count": null,
   "id": "b6bf5299",
   "metadata": {},
   "outputs": [],
   "source": []
  },
  {
   "cell_type": "markdown",
   "id": "ac90746a",
   "metadata": {},
   "source": [
    "**(43) Write a program to find the number of occurrences of a given element in a list.**"
   ]
  },
  {
   "cell_type": "code",
   "execution_count": null,
   "id": "c22322e2",
   "metadata": {},
   "outputs": [],
   "source": []
  },
  {
   "cell_type": "markdown",
   "id": "13fbe114",
   "metadata": {},
   "source": [
    "**(44) Implement a function to check if a given number is a perfect number.**"
   ]
  },
  {
   "cell_type": "code",
   "execution_count": null,
   "id": "576e87c2",
   "metadata": {},
   "outputs": [],
   "source": []
  },
  {
   "cell_type": "markdown",
   "id": "149e26b9",
   "metadata": {},
   "source": [
    "**(45) Write a Python program to remove all duplicates from a string.**"
   ]
  },
  {
   "cell_type": "code",
   "execution_count": null,
   "id": "17176c57",
   "metadata": {},
   "outputs": [],
   "source": []
  },
  {
   "cell_type": "markdown",
   "id": "8413a8dd",
   "metadata": {},
   "source": [
    "**(46) Implement a function to find the first missing positive.**"
   ]
  },
  {
   "cell_type": "code",
   "execution_count": null,
   "id": "ab884f86",
   "metadata": {},
   "outputs": [],
   "source": []
  }
 ],
 "metadata": {
  "kernelspec": {
   "display_name": "Python 3 (ipykernel)",
   "language": "python",
   "name": "python3"
  },
  "language_info": {
   "codemirror_mode": {
    "name": "ipython",
    "version": 3
   },
   "file_extension": ".py",
   "mimetype": "text/x-python",
   "name": "python",
   "nbconvert_exporter": "python",
   "pygments_lexer": "ipython3",
   "version": "3.9.13"
  }
 },
 "nbformat": 4,
 "nbformat_minor": 5
}
