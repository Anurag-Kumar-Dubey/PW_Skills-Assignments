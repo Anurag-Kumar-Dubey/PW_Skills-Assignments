{
 "cells": [
  {
   "cell_type": "markdown",
   "id": "6ab78305",
   "metadata": {},
   "source": [
    "# Data Science - Assignment 1 (Pre Placement Training)"
   ]
  },
  {
   "cell_type": "markdown",
   "id": "21c7cdfd",
   "metadata": {},
   "source": [
    "**(1) Write a Python program to reverse a string without using any built-in string reversal functions.**"
   ]
  },
  {
   "cell_type": "code",
   "execution_count": 14,
   "id": "1d22388c",
   "metadata": {},
   "outputs": [
    {
     "name": "stdout",
     "output_type": "stream",
     "text": [
      "Enter your string here:-PW SKILLS PPT\n",
      "String after reveral will be:-  TPP SLLIKS WP\n"
     ]
    }
   ],
   "source": [
    "string = input(\"Enter your string here:-\")\n",
    "rev_string = \"\"\n",
    "for i in range (0,len(string)):\n",
    "    rev_string=rev_string + string[((len(string)-1)-i)]\n",
    "print(\"String after reveral will be:- \",rev_string)"
   ]
  },
  {
   "cell_type": "markdown",
   "id": "6e81b6d4",
   "metadata": {},
   "source": [
    "**(2) Implement a function to check if a given string is a palindrome.**"
   ]
  },
  {
   "cell_type": "code",
   "execution_count": 18,
   "id": "3ea194b5",
   "metadata": {},
   "outputs": [
    {
     "name": "stdout",
     "output_type": "stream",
     "text": [
      "Enter your string here:-NITIN\n",
      "The String you entered is a palindrome\n"
     ]
    }
   ],
   "source": [
    "def check_palindrome(string):\n",
    "    rev_string = \"\"\n",
    "    for i in range (0,len(string)):\n",
    "        rev_string=rev_string + string[((len(string)-1)-i)]\n",
    "\n",
    "    if string == rev_string:\n",
    "        print(\"The String you entered is a palindrome\")\n",
    "    else:\n",
    "        print(\"The String you entered is Not a palindrome\")\n",
    "string = input(\"Enter your string here:-\")\n",
    "check_palindrome(string)"
   ]
  },
  {
   "cell_type": "markdown",
   "id": "1bd09d45",
   "metadata": {},
   "source": [
    "**(3) Write a program to find the largest element in a given list.**"
   ]
  },
  {
   "cell_type": "code",
   "execution_count": 24,
   "id": "c4820805",
   "metadata": {},
   "outputs": [
    {
     "name": "stdout",
     "output_type": "stream",
     "text": [
      "Largest:-  99\n"
     ]
    }
   ],
   "source": [
    "largest = None\n",
    "my_list = [45,78,43,74,33,25,46,52,89,99]\n",
    "for element in my_list:\n",
    "    if largest is None or element > largest:\n",
    "        largest = element\n",
    "print(\"Largest:- \",largest)"
   ]
  },
  {
   "cell_type": "markdown",
   "id": "51a64839",
   "metadata": {},
   "source": [
    "**(4) Implement a function to count the occurrence of each element in a list.**"
   ]
  },
  {
   "cell_type": "code",
   "execution_count": null,
   "id": "acd16bf5",
   "metadata": {},
   "outputs": [],
   "source": [
    "def count(my_list):\n",
    "    counter = 0\n",
    "    for element in my_list:\n",
    "        for item in my_list:\n",
    "            if element == item:\n",
    "                counter = counter + 1\n",
    "            \n",
    "            "
   ]
  },
  {
   "cell_type": "markdown",
   "id": "b58fd78c",
   "metadata": {},
   "source": [
    "**(5) Write a Python program to find the second largest number in a list.**"
   ]
  },
  {
   "cell_type": "code",
   "execution_count": null,
   "id": "c58ca11a",
   "metadata": {},
   "outputs": [],
   "source": []
  },
  {
   "cell_type": "markdown",
   "id": "1c152ef6",
   "metadata": {},
   "source": [
    "**(6) Implement a function to remove duplicate elements from a list.**"
   ]
  },
  {
   "cell_type": "code",
   "execution_count": null,
   "id": "69c3a881",
   "metadata": {},
   "outputs": [],
   "source": []
  },
  {
   "cell_type": "markdown",
   "id": "7689d5f2",
   "metadata": {},
   "source": [
    "**(7) Write a program to calculate the factorial of a given number.**"
   ]
  },
  {
   "cell_type": "code",
   "execution_count": null,
   "id": "dd76516c",
   "metadata": {},
   "outputs": [],
   "source": []
  },
  {
   "cell_type": "markdown",
   "id": "1515bc09",
   "metadata": {},
   "source": [
    "**(8) Implement a function to check if a given number is prime.**"
   ]
  },
  {
   "cell_type": "code",
   "execution_count": null,
   "id": "08fae555",
   "metadata": {},
   "outputs": [],
   "source": []
  },
  {
   "cell_type": "markdown",
   "id": "da329cf6",
   "metadata": {},
   "source": [
    "**(9) Write a Python program to sort a list of integers in ascending order.**"
   ]
  },
  {
   "cell_type": "code",
   "execution_count": null,
   "id": "08a99177",
   "metadata": {},
   "outputs": [],
   "source": []
  },
  {
   "cell_type": "markdown",
   "id": "a1608d96",
   "metadata": {},
   "source": [
    "**(10) Implement a function to find the sum of all numbers in a list.**"
   ]
  },
  {
   "cell_type": "code",
   "execution_count": null,
   "id": "7b3660ba",
   "metadata": {},
   "outputs": [],
   "source": []
  },
  {
   "cell_type": "markdown",
   "id": "1655943c",
   "metadata": {},
   "source": [
    "**(11) Write a program to find the common elements between two lists.**"
   ]
  },
  {
   "cell_type": "code",
   "execution_count": null,
   "id": "82cafceb",
   "metadata": {},
   "outputs": [],
   "source": []
  },
  {
   "cell_type": "markdown",
   "id": "77eb175f",
   "metadata": {},
   "source": [
    "**(12) Implement a function to check if a given string is an anagram of another string.**"
   ]
  },
  {
   "cell_type": "code",
   "execution_count": null,
   "id": "999aa985",
   "metadata": {},
   "outputs": [],
   "source": []
  },
  {
   "cell_type": "markdown",
   "id": "19a8f786",
   "metadata": {},
   "source": [
    "**(13) Write a Python program to generate all permutations of a given string.**"
   ]
  },
  {
   "cell_type": "code",
   "execution_count": null,
   "id": "ca347a5c",
   "metadata": {},
   "outputs": [],
   "source": []
  },
  {
   "cell_type": "markdown",
   "id": "ce2666ee",
   "metadata": {},
   "source": [
    "**(14) Implement a function to calculate the Fibonacci sequence up to a given number of terms.**"
   ]
  },
  {
   "cell_type": "code",
   "execution_count": null,
   "id": "e0775517",
   "metadata": {},
   "outputs": [],
   "source": []
  },
  {
   "cell_type": "markdown",
   "id": "4df9253b",
   "metadata": {},
   "source": [
    "**(15) Write a program to find the median of a list of numbers.**"
   ]
  },
  {
   "cell_type": "code",
   "execution_count": null,
   "id": "4f8e1f22",
   "metadata": {},
   "outputs": [],
   "source": []
  },
  {
   "cell_type": "markdown",
   "id": "8593c1c3",
   "metadata": {},
   "source": [
    "**(16) Implement a function to check if a given list is sorted in non-decreasing order.**"
   ]
  },
  {
   "cell_type": "code",
   "execution_count": null,
   "id": "48c1397c",
   "metadata": {},
   "outputs": [],
   "source": []
  },
  {
   "cell_type": "markdown",
   "id": "c1feb2cc",
   "metadata": {},
   "source": [
    "**(17) Write a Python program to find the intersection of two lists.**"
   ]
  },
  {
   "cell_type": "code",
   "execution_count": null,
   "id": "378d0482",
   "metadata": {},
   "outputs": [],
   "source": []
  },
  {
   "cell_type": "markdown",
   "id": "9e79cb34",
   "metadata": {},
   "source": [
    "**(18) Implement a function to find the maximum subarray sum in a given list.**"
   ]
  },
  {
   "cell_type": "code",
   "execution_count": null,
   "id": "5c8aa48d",
   "metadata": {},
   "outputs": [],
   "source": []
  },
  {
   "cell_type": "markdown",
   "id": "0a0e6302",
   "metadata": {},
   "source": [
    "**(19) Write a program to remove all vowels from a given string.**"
   ]
  },
  {
   "cell_type": "code",
   "execution_count": null,
   "id": "390c3035",
   "metadata": {},
   "outputs": [],
   "source": []
  },
  {
   "cell_type": "markdown",
   "id": "be649600",
   "metadata": {},
   "source": [
    "**(20) Implement a function to reverse the order of words in a given sentence.**"
   ]
  },
  {
   "cell_type": "code",
   "execution_count": null,
   "id": "a07eeb08",
   "metadata": {},
   "outputs": [],
   "source": []
  },
  {
   "cell_type": "markdown",
   "id": "4b903ae4",
   "metadata": {},
   "source": [
    "**(21) Write a Python program to check if two strings are anagrams of each other.**"
   ]
  },
  {
   "cell_type": "code",
   "execution_count": null,
   "id": "716f2a43",
   "metadata": {},
   "outputs": [],
   "source": []
  },
  {
   "cell_type": "markdown",
   "id": "254426a6",
   "metadata": {},
   "source": [
    "**(22) Implement a function to find the first non-repeating character in a string.**"
   ]
  },
  {
   "cell_type": "code",
   "execution_count": null,
   "id": "6c814e1a",
   "metadata": {},
   "outputs": [],
   "source": []
  },
  {
   "cell_type": "markdown",
   "id": "1c3a51f4",
   "metadata": {},
   "source": [
    "**(23) Write a program to find the prime factors of a given number.**"
   ]
  },
  {
   "cell_type": "code",
   "execution_count": null,
   "id": "4c54865e",
   "metadata": {},
   "outputs": [],
   "source": []
  },
  {
   "cell_type": "markdown",
   "id": "b782ba9f",
   "metadata": {},
   "source": [
    "**(24) Implement a function to check if a given number is a power of two.**"
   ]
  },
  {
   "cell_type": "code",
   "execution_count": null,
   "id": "2a562b41",
   "metadata": {},
   "outputs": [],
   "source": []
  },
  {
   "cell_type": "markdown",
   "id": "f0c37a93",
   "metadata": {},
   "source": [
    "**(25) Write a Python program to merge two sorted lists into a single sorted list.**"
   ]
  },
  {
   "cell_type": "code",
   "execution_count": null,
   "id": "f1ed472f",
   "metadata": {},
   "outputs": [],
   "source": []
  },
  {
   "cell_type": "markdown",
   "id": "7896732e",
   "metadata": {},
   "source": [
    "**(26) Implement a function to find the mode of a list of numbers.**"
   ]
  },
  {
   "cell_type": "code",
   "execution_count": null,
   "id": "543e17fe",
   "metadata": {},
   "outputs": [],
   "source": []
  },
  {
   "cell_type": "markdown",
   "id": "0d650486",
   "metadata": {},
   "source": [
    "**(27) Write a program to find the greatest common divisor (GCD) of two numbers.**"
   ]
  },
  {
   "cell_type": "code",
   "execution_count": null,
   "id": "598a929c",
   "metadata": {},
   "outputs": [],
   "source": []
  },
  {
   "cell_type": "markdown",
   "id": "ce9cc2af",
   "metadata": {},
   "source": [
    "**(28) Implement a function to calculate the square root of a given number.**"
   ]
  },
  {
   "cell_type": "code",
   "execution_count": null,
   "id": "24a3626f",
   "metadata": {},
   "outputs": [],
   "source": []
  },
  {
   "cell_type": "markdown",
   "id": "4cf879ec",
   "metadata": {},
   "source": [
    "**(29) Write a Python program to check if a given string is a valid palindrome ignoring non-alphanumeric characters.**"
   ]
  },
  {
   "cell_type": "code",
   "execution_count": null,
   "id": "a8bc04b2",
   "metadata": {},
   "outputs": [],
   "source": []
  },
  {
   "cell_type": "markdown",
   "id": "88e5d1aa",
   "metadata": {},
   "source": [
    "**(30) Implement a function to find the minimum element in a rotated sorted list.**"
   ]
  },
  {
   "cell_type": "code",
   "execution_count": null,
   "id": "021269f6",
   "metadata": {},
   "outputs": [],
   "source": []
  },
  {
   "cell_type": "markdown",
   "id": "0af523dc",
   "metadata": {},
   "source": [
    "**(31) Write a program to find the sum of all even numbers in a list.**"
   ]
  },
  {
   "cell_type": "code",
   "execution_count": null,
   "id": "9c70e7fe",
   "metadata": {},
   "outputs": [],
   "source": []
  },
  {
   "cell_type": "markdown",
   "id": "aa8cf934",
   "metadata": {},
   "source": [
    "**(32) Implement a function to calculate the power of a number using recursion.**"
   ]
  },
  {
   "cell_type": "code",
   "execution_count": null,
   "id": "6164558a",
   "metadata": {},
   "outputs": [],
   "source": []
  },
  {
   "cell_type": "markdown",
   "id": "c37098eb",
   "metadata": {},
   "source": [
    "**(33) Write a Python program to remove duplicates from a list while preserving the order.**"
   ]
  },
  {
   "cell_type": "code",
   "execution_count": null,
   "id": "1713bb77",
   "metadata": {},
   "outputs": [],
   "source": []
  },
  {
   "cell_type": "markdown",
   "id": "3e9da214",
   "metadata": {},
   "source": [
    "**(34) Implement a function to find the longest common prefix among a list of strings.**"
   ]
  },
  {
   "cell_type": "code",
   "execution_count": null,
   "id": "1dd8f477",
   "metadata": {},
   "outputs": [],
   "source": []
  },
  {
   "cell_type": "markdown",
   "id": "4904f45c",
   "metadata": {},
   "source": [
    "**(35) Write a program to check if a given number is a perfect square.**"
   ]
  },
  {
   "cell_type": "code",
   "execution_count": null,
   "id": "953881fd",
   "metadata": {},
   "outputs": [],
   "source": []
  },
  {
   "cell_type": "markdown",
   "id": "b9a72020",
   "metadata": {},
   "source": [
    "**(36) Implement a function to calculate the product of all elements in a list.**"
   ]
  },
  {
   "cell_type": "code",
   "execution_count": null,
   "id": "47aa9979",
   "metadata": {},
   "outputs": [],
   "source": []
  },
  {
   "cell_type": "markdown",
   "id": "c167c541",
   "metadata": {},
   "source": [
    "**(37) Write a Python program to reverse the order of words in a sentence while preserving the word order.**"
   ]
  },
  {
   "cell_type": "code",
   "execution_count": null,
   "id": "a59fb99b",
   "metadata": {},
   "outputs": [],
   "source": []
  },
  {
   "cell_type": "markdown",
   "id": "d9bdfa4a",
   "metadata": {},
   "source": [
    "**(38) Implement a function to find the missing number in a given list of consecutive numbers.**"
   ]
  },
  {
   "cell_type": "code",
   "execution_count": null,
   "id": "4f33d990",
   "metadata": {},
   "outputs": [],
   "source": []
  },
  {
   "cell_type": "markdown",
   "id": "6dce9d4b",
   "metadata": {},
   "source": [
    "**(39) Write a program to find the sum of digits of a given number.**"
   ]
  },
  {
   "cell_type": "code",
   "execution_count": null,
   "id": "cadc940f",
   "metadata": {},
   "outputs": [],
   "source": []
  },
  {
   "cell_type": "markdown",
   "id": "047222ac",
   "metadata": {},
   "source": [
    "**(40) Implement a function to check if a given string is a valid palindrome considering case sensitivity.**"
   ]
  },
  {
   "cell_type": "code",
   "execution_count": null,
   "id": "df213d24",
   "metadata": {},
   "outputs": [],
   "source": []
  },
  {
   "cell_type": "markdown",
   "id": "5d9a23ef",
   "metadata": {},
   "source": [
    "**(41) Write a Python program to find the smallest missing positive integer in a list.**"
   ]
  },
  {
   "cell_type": "code",
   "execution_count": null,
   "id": "c2c90c5b",
   "metadata": {},
   "outputs": [],
   "source": []
  },
  {
   "cell_type": "markdown",
   "id": "7ac56d6d",
   "metadata": {},
   "source": [
    "**(42) Implement a function to find the longest palindrome substring in a given string.**"
   ]
  },
  {
   "cell_type": "code",
   "execution_count": null,
   "id": "6ce2a5c9",
   "metadata": {},
   "outputs": [],
   "source": []
  },
  {
   "cell_type": "markdown",
   "id": "a7b3f542",
   "metadata": {},
   "source": [
    "**(43) Write a program to find the number of occurrences of a given element in a list.**"
   ]
  },
  {
   "cell_type": "code",
   "execution_count": null,
   "id": "09a4f38a",
   "metadata": {},
   "outputs": [],
   "source": []
  },
  {
   "cell_type": "markdown",
   "id": "b2d7f98b",
   "metadata": {},
   "source": [
    "**(44) Implement a function to check if a given number is a perfect number.**"
   ]
  },
  {
   "cell_type": "code",
   "execution_count": null,
   "id": "67b21fd0",
   "metadata": {},
   "outputs": [],
   "source": []
  },
  {
   "cell_type": "markdown",
   "id": "48899561",
   "metadata": {},
   "source": [
    "**(45) Write a Python program to remove all duplicates from a string.**"
   ]
  },
  {
   "cell_type": "code",
   "execution_count": null,
   "id": "ff3f6c47",
   "metadata": {},
   "outputs": [],
   "source": []
  },
  {
   "cell_type": "markdown",
   "id": "f68379bb",
   "metadata": {},
   "source": [
    "**(46) Implement a function to find the first missing positive.**"
   ]
  },
  {
   "cell_type": "code",
   "execution_count": null,
   "id": "68a1d2da",
   "metadata": {},
   "outputs": [],
   "source": []
  }
 ],
 "metadata": {
  "kernelspec": {
   "display_name": "Python 3 (ipykernel)",
   "language": "python",
   "name": "python3"
  },
  "language_info": {
   "codemirror_mode": {
    "name": "ipython",
    "version": 3
   },
   "file_extension": ".py",
   "mimetype": "text/x-python",
   "name": "python",
   "nbconvert_exporter": "python",
   "pygments_lexer": "ipython3",
   "version": "3.9.13"
  }
 },
 "nbformat": 4,
 "nbformat_minor": 5
}
