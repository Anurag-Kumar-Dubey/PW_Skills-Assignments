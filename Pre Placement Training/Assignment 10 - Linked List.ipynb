{
 "cells": [
  {
   "cell_type": "markdown",
   "id": "f6c03e8a",
   "metadata": {},
   "source": [
    "# Assignment 10 - Linked List"
   ]
  },
  {
   "cell_type": "markdown",
   "id": "88fc50ed",
   "metadata": {},
   "source": [
    "#### (1) Delete Node in a Linked List"
   ]
  },
  {
   "cell_type": "code",
   "execution_count": null,
   "id": "6ebfda31",
   "metadata": {},
   "outputs": [],
   "source": []
  },
  {
   "cell_type": "markdown",
   "id": "ffd0c9a1",
   "metadata": {},
   "source": [
    "#### (2) Remove Linked List Elements"
   ]
  },
  {
   "cell_type": "code",
   "execution_count": null,
   "id": "f36ce198",
   "metadata": {},
   "outputs": [],
   "source": []
  },
  {
   "cell_type": "markdown",
   "id": "fa21fe04",
   "metadata": {},
   "source": [
    "#### (3) Merge Two Sorted List"
   ]
  },
  {
   "cell_type": "code",
   "execution_count": null,
   "id": "0a0353da",
   "metadata": {},
   "outputs": [],
   "source": []
  },
  {
   "cell_type": "markdown",
   "id": "29f9cb63",
   "metadata": {},
   "source": [
    "#### (4) Linked List Cycle"
   ]
  },
  {
   "cell_type": "code",
   "execution_count": null,
   "id": "4c84291d",
   "metadata": {},
   "outputs": [],
   "source": []
  },
  {
   "cell_type": "markdown",
   "id": "987b8ab5",
   "metadata": {},
   "source": [
    "#### (5) Remove the Nth node from the linked list"
   ]
  },
  {
   "cell_type": "code",
   "execution_count": null,
   "id": "da611240",
   "metadata": {},
   "outputs": [],
   "source": []
  },
  {
   "cell_type": "markdown",
   "id": "0e18b12a",
   "metadata": {},
   "source": [
    "#### (6) Given a singly linked list of size N. The task is to left-shift the linked list by k nodes, where k is a given positive integer smaller than or equal to the length of the linked list.\n",
    "\n",
    "#### Input: N = 5\n",
    "\n",
    "#### value[  ] = {2, 4, 7, 8, 9}\n",
    "\n",
    "#### k = 3\n",
    "\n",
    "#### Output: 8 9 2 4 7\n",
    "\n",
    "#### Explanation:Rotate 1:4 -> 7 -> 8 -> 9 -> 2\n",
    "\n",
    "#### Rotate 2: 7 -> 8 -> 9 -> 2 -> 4\n",
    "\n",
    "#### Rotate 3: 8 -> 9 -> 2 -> 4 -> 7**"
   ]
  },
  {
   "cell_type": "code",
   "execution_count": null,
   "id": "0bfeb838",
   "metadata": {},
   "outputs": [],
   "source": []
  },
  {
   "cell_type": "markdown",
   "id": "244b1803",
   "metadata": {},
   "source": [
    "#### (7) Given the head of a linked list, we repeatedly delete consecutive sequences of nodes that sum to 0 until there are no such sequences.\n",
    "\n",
    "#### After doing so, return the head of the final linked list.  You may return any such answer.\n",
    "\n",
    "#### (Note that in the examples below, all sequences are serializations of ListNode objects.)\n",
    "\n",
    "#### Input: head = [1,2,-3,3,1]\n",
    "\n",
    "#### Output: [3,1]\n",
    "\n",
    "#### Note: The answer [1,2,1] would also be accepted."
   ]
  },
  {
   "cell_type": "code",
   "execution_count": null,
   "id": "b5baddf4",
   "metadata": {},
   "outputs": [],
   "source": []
  },
  {
   "cell_type": "markdown",
   "id": "1897002d",
   "metadata": {},
   "source": [
    "#### (8) Given the head of a singly linked list, group all the nodes with odd indices together followed by the nodes with even indices, and return the reordered list.\n",
    "\n",
    "#### The first node is considered odd, and the second node is even, and so on.\n",
    "\n",
    "#### Note that the relative order inside both the even and odd groups should remain as it was in the input.\n",
    "\n",
    "#### You must solve the problem in O(1) extra space complexity and O(n) time complexity.\n",
    "\n",
    "#### Input: head = [1,2,3,4,5]\n",
    "\n",
    "#### Output: [1,3,5,2,4]"
   ]
  },
  {
   "cell_type": "code",
   "execution_count": null,
   "id": "68f0e068",
   "metadata": {},
   "outputs": [],
   "source": []
  }
 ],
 "metadata": {
  "kernelspec": {
   "display_name": "Python 3 (ipykernel)",
   "language": "python",
   "name": "python3"
  },
  "language_info": {
   "codemirror_mode": {
    "name": "ipython",
    "version": 3
   },
   "file_extension": ".py",
   "mimetype": "text/x-python",
   "name": "python",
   "nbconvert_exporter": "python",
   "pygments_lexer": "ipython3",
   "version": "3.10.12"
  }
 },
 "nbformat": 4,
 "nbformat_minor": 5
}
